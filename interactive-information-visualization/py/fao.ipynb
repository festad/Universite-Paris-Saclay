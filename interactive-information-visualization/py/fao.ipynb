{
 "cells": [
  {
   "attachments": {},
   "cell_type": "markdown",
   "metadata": {},
   "source": [
    "# Food loss and waste database\n",
    "\n",
    "The database was downloaded from the website of the Food and Agriculture Organization of the United Nations [website](https://www.fao.org/platform-food-loss-waste/flw-data/en/)."
   ]
  },
  {
   "cell_type": "code",
   "execution_count": 1,
   "metadata": {},
   "outputs": [],
   "source": [
    "import pandas as pd\n",
    "import numpy as np\n",
    "import matplotlib.pyplot as plt\n",
    "from pathlib import Path"
   ]
  },
  {
   "cell_type": "code",
   "execution_count": 2,
   "metadata": {},
   "outputs": [],
   "source": [
    "# Locating the file\n",
    "HOME = Path() / '../'\n",
    "FAO = HOME / 'food-waste-dataset' / 'fao'\n",
    "DATA = FAO / 'food-loss-waste' / 'data-edited-2.csv'\n",
    "df = pd.read_csv(DATA)"
   ]
  },
  {
   "cell_type": "code",
   "execution_count": 3,
   "metadata": {},
   "outputs": [
    {
     "name": "stdout",
     "output_type": "stream",
     "text": [
      "There are 18 columns in the database:\n",
      "-> m49_code\n",
      "-> country\n",
      "-> region\n",
      "-> cpc_code\n",
      "-> commodity\n",
      "-> year\n",
      "-> loss_percentage\n",
      "-> loss_percentage_original\n",
      "-> loss_quantity\n",
      "-> activity\n",
      "-> food_supply_stage\n",
      "-> treatment\n",
      "-> cause_of_loss\n",
      "-> sample_size\n",
      "-> method_data_collection\n",
      "-> reference\n",
      "-> url\n",
      "-> notes\n"
     ]
    }
   ],
   "source": [
    "# Reading the columns\n",
    "print(f'There are {len(df.columns)} columns in the database:')\n",
    "for c in df.columns:\n",
    "    print('->', c)"
   ]
  },
  {
   "cell_type": "code",
   "execution_count": 4,
   "metadata": {},
   "outputs": [
    {
     "name": "stdout",
     "output_type": "stream",
     "text": [
      "There are 58 different regions in the dataset:\n",
      "-> nan\n",
      "-> Xiasha Town\n",
      "-> Fujian Province\n",
      "-> Cixi county\n",
      "-> Daxing, Tongxian, and Yanqing counties, which are satellite towns of Beijing, and in Jixian County of Hebei Province, which is a suburb very close to Beijing\n",
      "-> Daxing, Tongxian, and Yanqing\n",
      "-> Shandong Province\n",
      "-> Jiangan district\n",
      "-> Xiasha town\n",
      "-> Parakou (Borgou)\n",
      "-> El Carchi, Imbabura, and Pichincha\n",
      "-> El Carchi\n",
      "-> Ejisu Juabeng\n",
      "-> Brong - Ahafo region (highly productive zone)\n",
      "-> Site: Kumasi & Tamale.\n",
      "-> ? Sites: coastal and transition ecological zones of Ghana\n",
      "-> Nerica 1 & Nerica 2\n",
      "-> coastal and transition ecological zones of Ghana \n",
      "-> coastal and transition ecological zones of Ghana\n",
      "-> Savanna and transition ecological zones of Ghana\n",
      "-> forest and coastal ecological zones of Ghana\n",
      "-> Sites: transition ecological zone of Ghana\n",
      "-> Sites: transitionecological zone ofGhana\n",
      "-> Savanna, transition and coastal ecological zones of Ghana\n",
      "-> Volta region, Northern region, Brong-Ahafo.\n",
      "-> Brong-Ahafo Region\n",
      "-> Chimaltenango, Escuintla, Guatemala, Quetzaltenango, Sacatepequez, San Marcos, Solola, and Totonicapan\n",
      "-> Ixcan, Polochic and El Peten region\n",
      "-> Choluteca, Copan, El Paraiso, Francisco Morazan, Intibuca, La Paz, Lempira, Ocotepeque, Olancho, Santa Barbara, and Valle.\n",
      "-> Milly and Allfruits are based in Coast Province, while Kevian and Sunny are based in Central Kenya near Thika\n",
      "-> Trans-Nzoia-West District\n",
      "-> Lugari\n",
      "-> Upper Athi River Region; Kilala, Ikanganya,  Kikumbulyu, Kikoko, Nguumo, Kiou, Wote, Kee, Mbiuni, Mwala and Mwani.\n",
      "-> 4 Upazillas of Chapai Nowabgonj and 2 Upazillas of Rajshahi.\n",
      "-> Dhaka and Mymensingh\n",
      "-> Baneshar Bazar assesmble market of Rajshahi district. In contrast, the losses were lower in the surveyed markets of Chapai Nowabgonj,\n",
      "-> Chapai Nowabgonj, Dhaka and Mymensingh\n",
      "-> Budhimorang and Khuaphok\n",
      "-> Krishi Bazar, Dharan\n",
      "-> Dhankuta\n",
      "-> Bhirgaon\n",
      "-> Chhintang\n",
      "-> Dhankuta to Kathmandu\n",
      "-> Dhankuta to Kathmandu by bus\n",
      "-> Jumla\n",
      "-> Ogun state\n",
      "-> Rivers State A(Degema, Bonny, Port Harcourt); B(tai, omuma, oyigboo); C(ahoada West, Emohua)\n",
      "-> Punjab\n",
      "-> Chiriqui\n",
      "-> Lima\n",
      "-> Junin and Ayacucho\n",
      "-> Assam\n",
      "-> grown in Tupi, South Cotabato, in Mindanao, and distributed in various supermarkets in Metro Manila\n",
      "-> Mbire District\n",
      "-> Guruve District\n",
      "-> Guruwe District\n",
      "-> Dodoma and Manyara\n",
      "-> Kariakoo Central Market\n"
     ]
    }
   ],
   "source": [
    "# Reading the areas (regions)\n",
    "regions = df['region'].unique()\n",
    "print(f'There are {len(regions)} different regions in the dataset:')\n",
    "for c in regions:\n",
    "    print('->', c)"
   ]
  },
  {
   "cell_type": "code",
   "execution_count": 5,
   "metadata": {},
   "outputs": [
    {
     "name": "stdout",
     "output_type": "stream",
     "text": [
      "Among them there is some missing / dirty data:\n",
      "nan\n",
      "-> Region - X\n",
      "-> Region X\n",
      "Anyway, what really matters is the \"country\" column\n"
     ]
    }
   ],
   "source": [
    "print('Among them there is some missing / dirty data:')\n",
    "print('nan')\n",
    "print('-> Region - X')\n",
    "print('-> Region X')\n",
    "print('Anyway, what really matters is the \"country\" column')"
   ]
  },
  {
   "cell_type": "code",
   "execution_count": 6,
   "metadata": {},
   "outputs": [
    {
     "name": "stdout",
     "output_type": "stream",
     "text": [
      "There are 60 different countries in the dataset:\n",
      "-> Africa\n",
      "-> Algeria\n",
      "-> Australia\n",
      "-> Azerbaijan\n",
      "-> Bahrain\n",
      "-> Bangladesh\n",
      "-> Benin\n",
      "-> Brazil\n",
      "-> Cameroon\n",
      "-> Canada\n",
      "-> China\n",
      "-> Costa Rica\n",
      "-> Côte d'Ivoire\n",
      "-> Denmark\n",
      "-> Ecuador\n",
      "-> Egypt\n",
      "-> Finland\n",
      "-> Gabon\n",
      "-> Gambia\n",
      "-> Germany\n",
      "-> Ghana\n",
      "-> Guatemala\n",
      "-> Guinea\n",
      "-> Guinea-Bissau\n",
      "-> Honduras\n",
      "-> India\n",
      "-> Indonesia\n",
      "-> Iran (Islamic Republic of)\n",
      "-> Kazakhstan\n",
      "-> Kenya\n",
      "-> Madagascar\n",
      "-> Malawi\n",
      "-> Malaysia\n",
      "-> Mali\n",
      "-> Mexico\n",
      "-> Nepal\n",
      "-> Nigeria\n",
      "-> Norway\n",
      "-> Oman\n",
      "-> Pakistan\n",
      "-> Panama\n",
      "-> Paraguay\n",
      "-> Peru\n",
      "-> Philippines\n",
      "-> Rwanda\n",
      "-> Sierra Leone\n",
      "-> Sub-Saharan Africa\n",
      "-> Sweden\n",
      "-> Thailand\n",
      "-> Trinidad and Tobago\n",
      "-> Turkey\n",
      "-> Uganda\n",
      "-> Ukraine\n",
      "-> United Kingdom of Great Britain and Northern Ireland\n",
      "-> United Republic of Tanzania\n",
      "-> United States of America\n",
      "-> Viet Nam\n",
      "-> Western Africa\n",
      "-> Zambia\n",
      "-> Zimbabwe\n"
     ]
    }
   ],
   "source": [
    "# Reading the countries\n",
    "countries = sorted(df['country'].unique())\n",
    "print(f'There are {len(countries)} different countries in the dataset:')\n",
    "for c in countries:\n",
    "    print('->', c)"
   ]
  },
  {
   "cell_type": "code",
   "execution_count": 7,
   "metadata": {},
   "outputs": [
    {
     "name": "stdout",
     "output_type": "stream",
     "text": [
      "Some countries are repeated (eg: \"United Kingdom of Great Britain and Northern Ireland\" vs \"United Kingdom\")\n",
      "Now there are \"only\" 60 countries\n"
     ]
    }
   ],
   "source": [
    "print('Some countries are repeated (eg: \"United Kingdom of Great Britain and Northern Ireland\" vs \"United Kingdom\")')\n",
    "# Renaming United Kingdom of Great Britain and Northern Ireland to United Kingdom\n",
    "df.loc[df['country'] == 'United Kingdom of Great Britain and Northern Ireland', 'country'] = 'United Kingdom'\n",
    "print('Now there are \"only\"', len(df['country'].unique()), 'countries')"
   ]
  },
  {
   "cell_type": "code",
   "execution_count": 8,
   "metadata": {},
   "outputs": [
    {
     "name": "stdout",
     "output_type": "stream",
     "text": [
      "There are 58 different commodities:\n",
      "-> Apples\n",
      "-> Avocados\n",
      "-> Bananas\n",
      "-> Beans, dry\n",
      "-> Cabbages\n",
      "-> Cantaloupes and other melons\n",
      "-> Carrots and turnips\n",
      "-> Cassava, fresh\n",
      "-> Cauliflowers and broccoli\n",
      "-> Cherries\n",
      "-> Cocoa beans\n",
      "-> Cow peas, dry\n",
      "-> Cucumbers and gherkins\n",
      "-> Dairy products n.e.c.\n",
      "-> Dates\n",
      "-> Eggplants (aubergines)\n",
      "-> Figs\n",
      "-> Grapes\n",
      "-> Groundnuts, excluding shelled\n",
      "-> Kiwi fruit\n",
      "-> Lettuce and chicory\n",
      "-> Maize (corn)\n",
      "-> Mangoes, guavas and mangosteens\n",
      "-> Meat of cattle with the bone, fresh or chilled\n",
      "-> Meat of chickens, fresh or chilled\n",
      "-> Millet\n",
      "-> Mixed grain\n",
      "-> Okra\n",
      "-> Onions and shallots, green\n",
      "-> Oranges\n",
      "-> Other citrus fruit, n.e.c.\n",
      "-> Other fruits, n.e.c.\n",
      "-> Other stimulant, spice and aromatic crops, n.e.c.\n",
      "-> Other stone fruits\n",
      "-> Other tropical and subtropical fruits, n.e.c.\n",
      "-> Papayas\n",
      "-> Pears\n",
      "-> Peas, dry\n",
      "-> Peas, green\n",
      "-> Pepper (<i>Piper</i> spp.), raw\n",
      "-> Persimmons\n",
      "-> Pineapples\n",
      "-> Pistachios, in shell\n",
      "-> Plantains and cooking bananas\n",
      "-> Potatoes\n",
      "-> Raspberries\n",
      "-> Raw milk of cattle\n",
      "-> Rice\n",
      "-> Sorghum\n",
      "-> Strawberries\n",
      "-> Sweet corn, frozen\n",
      "-> Sweet potatoes\n",
      "-> Tangerines, mandarins, clementines\n",
      "-> Tomatoes\n",
      "-> Walnuts, in shell\n",
      "-> Watermelons\n",
      "-> Wheat\n",
      "-> Yams\n"
     ]
    }
   ],
   "source": [
    "# Reading the commodities\n",
    "commodities = sorted(df['commodity'].unique())\n",
    "print(f'There are {len(commodities)} different commodities:')\n",
    "for c in commodities:\n",
    "    print('->', c)"
   ]
  },
  {
   "cell_type": "code",
   "execution_count": 9,
   "metadata": {},
   "outputs": [],
   "source": [
    "# The column 'loss_quantity' contains strings instead of numbers\n",
    "# and some of them are dirty: they end with 'kg/MT'\n",
    "\n",
    "# df['loss_quantity'] = df['loss_quantity'].str.replace('kg/MT', '')\n",
    "# df['loss_quantity'] = df['loss_quantity'].str.replace('kg', '')\n",
    "# df['loss_quantity'] = df['loss_quantity'].astype(float)"
   ]
  },
  {
   "cell_type": "code",
   "execution_count": 10,
   "metadata": {},
   "outputs": [
    {
     "name": "stdout",
     "output_type": "stream",
     "text": [
      "France lost the following types of food:\n"
     ]
    }
   ],
   "source": [
    "# Plotting the quantity of lost apples in France in the last years...\n",
    "france_df = df.loc[(df['country'] == 'France')]\n",
    "# First of all, which types of food did France lose?\n",
    "print('France lost the following types of food:')\n",
    "for f in france_df['commodity'].unique():\n",
    "    print('->', f)"
   ]
  },
  {
   "cell_type": "code",
   "execution_count": 11,
   "metadata": {},
   "outputs": [
    {
     "name": "stdout",
     "output_type": "stream",
     "text": [
      "France didn't lose any apples, but they did loose some \"Rice\"\n"
     ]
    },
    {
     "ename": "TypeError",
     "evalue": "no numeric data to plot",
     "output_type": "error",
     "traceback": [
      "\u001b[0;31m---------------------------------------------------------------------------\u001b[0m",
      "\u001b[0;31mTypeError\u001b[0m                                 Traceback (most recent call last)",
      "Cell \u001b[0;32mIn[11], line 5\u001b[0m\n\u001b[1;32m      2\u001b[0m france_rice_df \u001b[39m=\u001b[39m france_df\u001b[39m.\u001b[39mloc[(france_df[\u001b[39m'\u001b[39m\u001b[39mcommodity\u001b[39m\u001b[39m'\u001b[39m] \u001b[39m==\u001b[39m \u001b[39m'\u001b[39m\u001b[39mRice\u001b[39m\u001b[39m'\u001b[39m)]\n\u001b[1;32m      3\u001b[0m france_rice_df \u001b[39m=\u001b[39m france_rice_df[[\u001b[39m'\u001b[39m\u001b[39myear\u001b[39m\u001b[39m'\u001b[39m, \u001b[39m'\u001b[39m\u001b[39mloss_quantity\u001b[39m\u001b[39m'\u001b[39m]]\n\u001b[0;32m----> 5\u001b[0m france_rice_df\u001b[39m.\u001b[39;49mplot(x\u001b[39m=\u001b[39;49m\u001b[39m'\u001b[39;49m\u001b[39myear\u001b[39;49m\u001b[39m'\u001b[39;49m, y\u001b[39m=\u001b[39;49m\u001b[39m'\u001b[39;49m\u001b[39mloss_quantity\u001b[39;49m\u001b[39m'\u001b[39;49m)\n\u001b[1;32m      6\u001b[0m plt\u001b[39m.\u001b[39mlegend([\u001b[39m'\u001b[39m\u001b[39mLoss of rice in France\u001b[39m\u001b[39m'\u001b[39m])\n\u001b[1;32m      7\u001b[0m plt\u001b[39m.\u001b[39mshow()\n",
      "File \u001b[0;32m/usr/lib/python3.10/site-packages/pandas/plotting/_core.py:1000\u001b[0m, in \u001b[0;36mPlotAccessor.__call__\u001b[0;34m(self, *args, **kwargs)\u001b[0m\n\u001b[1;32m    997\u001b[0m             label_name \u001b[39m=\u001b[39m label_kw \u001b[39mor\u001b[39;00m data\u001b[39m.\u001b[39mcolumns\n\u001b[1;32m    998\u001b[0m             data\u001b[39m.\u001b[39mcolumns \u001b[39m=\u001b[39m label_name\n\u001b[0;32m-> 1000\u001b[0m \u001b[39mreturn\u001b[39;00m plot_backend\u001b[39m.\u001b[39;49mplot(data, kind\u001b[39m=\u001b[39;49mkind, \u001b[39m*\u001b[39;49m\u001b[39m*\u001b[39;49mkwargs)\n",
      "File \u001b[0;32m/usr/lib/python3.10/site-packages/pandas/plotting/_matplotlib/__init__.py:71\u001b[0m, in \u001b[0;36mplot\u001b[0;34m(data, kind, **kwargs)\u001b[0m\n\u001b[1;32m     69\u001b[0m         kwargs[\u001b[39m\"\u001b[39m\u001b[39max\u001b[39m\u001b[39m\"\u001b[39m] \u001b[39m=\u001b[39m \u001b[39mgetattr\u001b[39m(ax, \u001b[39m\"\u001b[39m\u001b[39mleft_ax\u001b[39m\u001b[39m\"\u001b[39m, ax)\n\u001b[1;32m     70\u001b[0m plot_obj \u001b[39m=\u001b[39m PLOT_CLASSES[kind](data, \u001b[39m*\u001b[39m\u001b[39m*\u001b[39mkwargs)\n\u001b[0;32m---> 71\u001b[0m plot_obj\u001b[39m.\u001b[39;49mgenerate()\n\u001b[1;32m     72\u001b[0m plot_obj\u001b[39m.\u001b[39mdraw()\n\u001b[1;32m     73\u001b[0m \u001b[39mreturn\u001b[39;00m plot_obj\u001b[39m.\u001b[39mresult\n",
      "File \u001b[0;32m/usr/lib/python3.10/site-packages/pandas/plotting/_matplotlib/core.py:450\u001b[0m, in \u001b[0;36mMPLPlot.generate\u001b[0;34m(self)\u001b[0m\n\u001b[1;32m    448\u001b[0m \u001b[39mdef\u001b[39;00m \u001b[39mgenerate\u001b[39m(\u001b[39mself\u001b[39m) \u001b[39m-\u001b[39m\u001b[39m>\u001b[39m \u001b[39mNone\u001b[39;00m:\n\u001b[1;32m    449\u001b[0m     \u001b[39mself\u001b[39m\u001b[39m.\u001b[39m_args_adjust()\n\u001b[0;32m--> 450\u001b[0m     \u001b[39mself\u001b[39;49m\u001b[39m.\u001b[39;49m_compute_plot_data()\n\u001b[1;32m    451\u001b[0m     \u001b[39mself\u001b[39m\u001b[39m.\u001b[39m_setup_subplots()\n\u001b[1;32m    452\u001b[0m     \u001b[39mself\u001b[39m\u001b[39m.\u001b[39m_make_plot()\n",
      "File \u001b[0;32m/usr/lib/python3.10/site-packages/pandas/plotting/_matplotlib/core.py:635\u001b[0m, in \u001b[0;36mMPLPlot._compute_plot_data\u001b[0;34m(self)\u001b[0m\n\u001b[1;32m    633\u001b[0m \u001b[39m# no non-numeric frames or series allowed\u001b[39;00m\n\u001b[1;32m    634\u001b[0m \u001b[39mif\u001b[39;00m is_empty:\n\u001b[0;32m--> 635\u001b[0m     \u001b[39mraise\u001b[39;00m \u001b[39mTypeError\u001b[39;00m(\u001b[39m\"\u001b[39m\u001b[39mno numeric data to plot\u001b[39m\u001b[39m\"\u001b[39m)\n\u001b[1;32m    637\u001b[0m \u001b[39mself\u001b[39m\u001b[39m.\u001b[39mdata \u001b[39m=\u001b[39m numeric_data\u001b[39m.\u001b[39mapply(\u001b[39mself\u001b[39m\u001b[39m.\u001b[39m_convert_to_ndarray)\n",
      "\u001b[0;31mTypeError\u001b[0m: no numeric data to plot"
     ]
    }
   ],
   "source": [
    "print('France didn\\'t lose any apples, but they did loose some \"Rice\"')\n",
    "france_rice_df = france_df.loc[(france_df['commodity'] == 'Rice')]\n",
    "france_rice_df = france_rice_df[['year', 'loss_quantity']]\n",
    "\n",
    "france_rice_df.plot(x='year', y='loss_quantity')\n",
    "plt.legend(['Loss of rice in France'])\n",
    "plt.show()"
   ]
  },
  {
   "cell_type": "code",
   "execution_count": null,
   "metadata": {},
   "outputs": [
    {
     "name": "stdout",
     "output_type": "stream",
     "text": [
      "What type of food was lost the most in France in the last available year?\n",
      "         commodity  loss_quantity\n",
      "5437         Wheat       387000.0\n",
      "5438  Maize (corn)       121000.0\n",
      "5439          Rice         1000.0\n",
      "5440       Sorghum         2000.0\n",
      "5441        Barley       109000.0\n"
     ]
    },
    {
     "data": {
      "image/png": "[encoded data removed]",
      "text/plain": [
       "<Figure size 640x480 with 1 Axes>"
      ]
     },
     "metadata": {},
     "output_type": "display_data"
    }
   ],
   "source": [
    "print('What type of food was lost the most in France in the last available year?')\n",
    "# It looks like they didn't lose anything after 2015\n",
    "france_loss_df = france_df.loc[(france_df['year'] == 2015)]\n",
    "france_loss_df = france_loss_df[['commodity', 'loss_quantity']]\n",
    "print(france_loss_df.head())\n",
    "france_loss_df = france_loss_df.sort_values(by='loss_quantity', ascending=False)\n",
    "france_loss_df.plot.bar(x='commodity', y='loss_quantity')\n",
    "plt.xticks(rotation=75)\n",
    "plt.show()"
   ]
  }
 ],
 "metadata": {
  "kernelspec": {
   "display_name": "Python 3",
   "language": "python",
   "name": "python3"
  },
  "language_info": {
   "codemirror_mode": {
    "name": "ipython",
    "version": 3
   },
   "file_extension": ".py",
   "mimetype": "text/x-python",
   "name": "python",
   "nbconvert_exporter": "python",
   "pygments_lexer": "ipython3",
   "version": "3.10.9"
  },
  "orig_nbformat": 4,
  "vscode": {
   "interpreter": {
    "hash": "767d51c1340bd893661ea55ea3124f6de3c7a262a8b4abca0554b478b1e2ff90"
   }
  }
 },
 "nbformat": 4,
 "nbformat_minor": 2
}
