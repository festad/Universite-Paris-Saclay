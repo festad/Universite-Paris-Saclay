{
 "cells": [
  {
   "cell_type": "code",
   "execution_count": 19,
   "metadata": {},
   "outputs": [],
   "source": [
    "import pandas as pd\n",
    "import numpy as np\n",
    "import matplotlib.pyplot as plt\n",
    "from pathlib import Path"
   ]
  },
  {
   "cell_type": "code",
   "execution_count": 20,
   "metadata": {},
   "outputs": [
    {
     "name": "stderr",
     "output_type": "stream",
     "text": [
      "/tmp/ipykernel_4094/2492587421.py:5: DtypeWarning: Columns (14) have mixed types. Specify dtype option on import or set low_memory=False.\n",
      "  df = pd.read_csv(DATA, encoding='latin-1')\n"
     ]
    }
   ],
   "source": [
    "# Locating the file\n",
    "HOME = Path() / '../'\n",
    "FAO = HOME / 'food-waste-dataset' / 'fao'\n",
    "DATA = FAO / 'emissions-total' / 'emissions-total.csv'\n",
    "df = pd.read_csv(DATA, encoding='latin-1')"
   ]
  },
  {
   "cell_type": "code",
   "execution_count": 21,
   "metadata": {},
   "outputs": [
    {
     "name": "stdout",
     "output_type": "stream",
     "text": [
      "-> Area Code\n",
      "-> Area Code (M49)\n",
      "-> Area\n",
      "-> Item Code\n",
      "-> Item\n",
      "-> Element Code\n",
      "-> Element\n",
      "-> Year Code\n",
      "-> Year\n",
      "-> Source Code\n",
      "-> Source\n",
      "-> Unit\n",
      "-> Value\n",
      "-> Flag\n",
      "-> Note\n"
     ]
    }
   ],
   "source": [
    "# Variables\n",
    "for c in df.columns:\n",
    "    print('->', c)"
   ]
  },
  {
   "cell_type": "code",
   "execution_count": 22,
   "metadata": {},
   "outputs": [
    {
     "data": {
      "text/plain": [
       "array([1961, 1962, 1963, 1964, 1965, 1966, 1967, 1968, 1969, 1970, 1971,\n",
       "       1972, 1973, 1974, 1975, 1976, 1977, 1978, 1979, 1980, 1981, 1982,\n",
       "       1983, 1984, 1985, 1986, 1987, 1988, 1989, 1990, 1991, 1992, 1993,\n",
       "       1994, 1995, 1996, 1997, 1998, 1999, 2000, 2001, 2002, 2003, 2004,\n",
       "       2005, 2006, 2007, 2008, 2009, 2010, 2011, 2012, 2013, 2014, 2015,\n",
       "       2016, 2017, 2018, 2019, 2020, 2030, 2050])"
      ]
     },
     "execution_count": 22,
     "metadata": {},
     "output_type": "execute_result"
    }
   ],
   "source": [
    "# Range of years available\n",
    "df['Year'].unique()"
   ]
  },
  {
   "cell_type": "code",
   "execution_count": 23,
   "metadata": {},
   "outputs": [
    {
     "data": {
      "text/plain": [
       "array(['Crop Residues', 'Rice Cultivation', 'Burning - Crop residues',\n",
       "       'Enteric Fermentation', 'Manure Management',\n",
       "       'Manure left on Pasture', 'Manure applied to Soils',\n",
       "       'Synthetic Fertilizers', 'Drained organic soils',\n",
       "       'Drained organic soils (CO2)', 'Drained organic soils (N2O)',\n",
       "       'On-farm energy use', 'Forestland', 'Net Forest conversion',\n",
       "       'Savanna fires', 'Fires in organic soils', 'Forest fires',\n",
       "       'Fires in humid tropical forests', 'Waste - agri-food systems',\n",
       "       'Fertilizers Manufacturing', 'On-farm electricity use',\n",
       "       'Food Processing', 'Food Packaging', 'Food Retail',\n",
       "       'Food Household Consumption', 'Food Transport', 'Energy', 'IPPU',\n",
       "       'Waste', 'Other', 'Farm-gate emissions', 'Land Use change',\n",
       "       'Emissions on agricultural land', 'Pre- and post- production',\n",
       "       'Agri-food systems', 'IPCC Agriculture', 'Agricultural Soils',\n",
       "       'LULUCF', 'AFOLU', 'All sectors with LULUCF',\n",
       "       'All sectors without LULUCF', 'International bunkers'],\n",
       "      dtype=object)"
      ]
     },
     "execution_count": 23,
     "metadata": {},
     "output_type": "execute_result"
    }
   ],
   "source": [
    "df['Item'].unique()"
   ]
  },
  {
   "cell_type": "code",
   "execution_count": 24,
   "metadata": {},
   "outputs": [
    {
     "data": {
      "text/plain": [
       "array(['Direct emissions (N2O)', 'Indirect emissions (N2O)',\n",
       "       'Emissions (N2O)', 'Emissions (CO2eq) from N2O (AR5)',\n",
       "       'Emissions (CO2eq) (AR5)', 'Emissions (CH4)',\n",
       "       'Emissions (CO2eq) from CH4 (AR5)', 'Emissions (CO2)',\n",
       "       'Emissions (CO2eq) from F-gases (AR5)'], dtype=object)"
      ]
     },
     "execution_count": 24,
     "metadata": {},
     "output_type": "execute_result"
    }
   ],
   "source": [
    "df['Element'].unique()"
   ]
  },
  {
   "cell_type": "code",
   "execution_count": 25,
   "metadata": {},
   "outputs": [
    {
     "data": {
      "text/html": [
       "<div>\n",
       "<style scoped>\n",
       "    .dataframe tbody tr th:only-of-type {\n",
       "        vertical-align: middle;\n",
       "    }\n",
       "\n",
       "    .dataframe tbody tr th {\n",
       "        vertical-align: top;\n",
       "    }\n",
       "\n",
       "    .dataframe thead th {\n",
       "        text-align: right;\n",
       "    }\n",
       "</style>\n",
       "<table border=\"1\" class=\"dataframe\">\n",
       "  <thead>\n",
       "    <tr style=\"text-align: right;\">\n",
       "      <th></th>\n",
       "      <th>Area Code</th>\n",
       "      <th>Area Code (M49)</th>\n",
       "      <th>Area</th>\n",
       "      <th>Item Code</th>\n",
       "      <th>Item</th>\n",
       "      <th>Element Code</th>\n",
       "      <th>Element</th>\n",
       "      <th>Year Code</th>\n",
       "      <th>Year</th>\n",
       "      <th>Source Code</th>\n",
       "      <th>Source</th>\n",
       "      <th>Unit</th>\n",
       "      <th>Value</th>\n",
       "      <th>Flag</th>\n",
       "      <th>Note</th>\n",
       "    </tr>\n",
       "  </thead>\n",
       "  <tbody>\n",
       "    <tr>\n",
       "      <th>555986</th>\n",
       "      <td>68</td>\n",
       "      <td>'250</td>\n",
       "      <td>France</td>\n",
       "      <td>6991</td>\n",
       "      <td>Waste - agri-food systems</td>\n",
       "      <td>7225</td>\n",
       "      <td>Emissions (CH4)</td>\n",
       "      <td>2019</td>\n",
       "      <td>2019</td>\n",
       "      <td>3050</td>\n",
       "      <td>FAO TIER 1</td>\n",
       "      <td>kilotonnes</td>\n",
       "      <td>236.5169</td>\n",
       "      <td>E</td>\n",
       "      <td>NaN</td>\n",
       "    </tr>\n",
       "  </tbody>\n",
       "</table>\n",
       "</div>"
      ],
      "text/plain": [
       "        Area Code Area Code (M49)    Area  Item Code  \\\n",
       "555986         68            '250  France       6991   \n",
       "\n",
       "                             Item  Element Code          Element  Year Code  \\\n",
       "555986  Waste - agri-food systems          7225  Emissions (CH4)       2019   \n",
       "\n",
       "        Year  Source Code      Source        Unit     Value Flag Note  \n",
       "555986  2019         3050  FAO TIER 1  kilotonnes  236.5169    E  NaN  "
      ]
     },
     "execution_count": 25,
     "metadata": {},
     "output_type": "execute_result"
    }
   ],
   "source": [
    "# Emissions from agri-food systems caused by waste\n",
    "df.loc[(df['Item'] == 'Waste - agri-food systems') & (df['Element'] == 'Emissions (CH4)') & (df['Area'] == 'France') & (df['Year'] == 2019)]"
   ]
  },
  {
   "cell_type": "code",
   "execution_count": 26,
   "metadata": {},
   "outputs": [
    {
     "data": {
      "text/html": [
       "<div>\n",
       "<style scoped>\n",
       "    .dataframe tbody tr th:only-of-type {\n",
       "        vertical-align: middle;\n",
       "    }\n",
       "\n",
       "    .dataframe tbody tr th {\n",
       "        vertical-align: top;\n",
       "    }\n",
       "\n",
       "    .dataframe thead th {\n",
       "        text-align: right;\n",
       "    }\n",
       "</style>\n",
       "<table border=\"1\" class=\"dataframe\">\n",
       "  <thead>\n",
       "    <tr style=\"text-align: right;\">\n",
       "      <th></th>\n",
       "      <th>Area Code</th>\n",
       "      <th>Area Code (M49)</th>\n",
       "      <th>Area</th>\n",
       "      <th>Item Code</th>\n",
       "      <th>Item</th>\n",
       "      <th>Element Code</th>\n",
       "      <th>Element</th>\n",
       "      <th>Year Code</th>\n",
       "      <th>Year</th>\n",
       "      <th>Source Code</th>\n",
       "      <th>Source</th>\n",
       "      <th>Unit</th>\n",
       "      <th>Value</th>\n",
       "      <th>Flag</th>\n",
       "      <th>Note</th>\n",
       "    </tr>\n",
       "  </thead>\n",
       "  <tbody>\n",
       "    <tr>\n",
       "      <th>558986</th>\n",
       "      <td>68</td>\n",
       "      <td>'250</td>\n",
       "      <td>France</td>\n",
       "      <td>6518</td>\n",
       "      <td>Agri-food systems</td>\n",
       "      <td>7225</td>\n",
       "      <td>Emissions (CH4)</td>\n",
       "      <td>2019</td>\n",
       "      <td>2019</td>\n",
       "      <td>3050</td>\n",
       "      <td>FAO TIER 1</td>\n",
       "      <td>kilotonnes</td>\n",
       "      <td>1985.804</td>\n",
       "      <td>E</td>\n",
       "      <td>NaN</td>\n",
       "    </tr>\n",
       "  </tbody>\n",
       "</table>\n",
       "</div>"
      ],
      "text/plain": [
       "        Area Code Area Code (M49)    Area  Item Code               Item  \\\n",
       "558986         68            '250  France       6518  Agri-food systems   \n",
       "\n",
       "        Element Code          Element  Year Code  Year  Source Code  \\\n",
       "558986          7225  Emissions (CH4)       2019  2019         3050   \n",
       "\n",
       "            Source        Unit     Value Flag Note  \n",
       "558986  FAO TIER 1  kilotonnes  1985.804    E  NaN  "
      ]
     },
     "execution_count": 26,
     "metadata": {},
     "output_type": "execute_result"
    }
   ],
   "source": [
    "# Emissions from agri-food systems\n",
    "df.loc[(df['Item'] == 'Agri-food systems') & (df['Element'] == 'Emissions (CH4)') & (df['Area'] == 'France') & (df['Year'] == 2019)]"
   ]
  },
  {
   "cell_type": "code",
   "execution_count": 27,
   "metadata": {},
   "outputs": [
    {
     "data": {
      "text/html": [
       "<div>\n",
       "<style scoped>\n",
       "    .dataframe tbody tr th:only-of-type {\n",
       "        vertical-align: middle;\n",
       "    }\n",
       "\n",
       "    .dataframe tbody tr th {\n",
       "        vertical-align: top;\n",
       "    }\n",
       "\n",
       "    .dataframe thead th {\n",
       "        text-align: right;\n",
       "    }\n",
       "</style>\n",
       "<table border=\"1\" class=\"dataframe\">\n",
       "  <thead>\n",
       "    <tr style=\"text-align: right;\">\n",
       "      <th></th>\n",
       "      <th>Area Code</th>\n",
       "      <th>Area Code (M49)</th>\n",
       "      <th>Area</th>\n",
       "      <th>Item Code</th>\n",
       "      <th>Item</th>\n",
       "      <th>Element Code</th>\n",
       "      <th>Element</th>\n",
       "      <th>Year Code</th>\n",
       "      <th>Year</th>\n",
       "      <th>Source Code</th>\n",
       "      <th>Source</th>\n",
       "      <th>Unit</th>\n",
       "      <th>Value</th>\n",
       "      <th>Flag</th>\n",
       "      <th>Note</th>\n",
       "    </tr>\n",
       "  </thead>\n",
       "  <tbody>\n",
       "    <tr>\n",
       "      <th>560800</th>\n",
       "      <td>68</td>\n",
       "      <td>'250</td>\n",
       "      <td>France</td>\n",
       "      <td>6825</td>\n",
       "      <td>All sectors with LULUCF</td>\n",
       "      <td>7225</td>\n",
       "      <td>Emissions (CH4)</td>\n",
       "      <td>2019</td>\n",
       "      <td>2019</td>\n",
       "      <td>3050</td>\n",
       "      <td>FAO TIER 1</td>\n",
       "      <td>kilotonnes</td>\n",
       "      <td>2672.3436</td>\n",
       "      <td>E</td>\n",
       "      <td>NaN</td>\n",
       "    </tr>\n",
       "  </tbody>\n",
       "</table>\n",
       "</div>"
      ],
      "text/plain": [
       "        Area Code Area Code (M49)    Area  Item Code                     Item  \\\n",
       "560800         68            '250  France       6825  All sectors with LULUCF   \n",
       "\n",
       "        Element Code          Element  Year Code  Year  Source Code  \\\n",
       "560800          7225  Emissions (CH4)       2019  2019         3050   \n",
       "\n",
       "            Source        Unit      Value Flag Note  \n",
       "560800  FAO TIER 1  kilotonnes  2672.3436    E  NaN  "
      ]
     },
     "execution_count": 27,
     "metadata": {},
     "output_type": "execute_result"
    }
   ],
   "source": [
    "# Emissions total: + \n",
    "df.loc[(df['Item'] == 'All sectors with LULUCF') & (df['Element'] == 'Emissions (CH4)') & (df['Area'] == 'France') & (df['Year'] == 2019)]"
   ]
  }
 ],
 "metadata": {
  "kernelspec": {
   "display_name": "Python 3",
   "language": "python",
   "name": "python3"
  },
  "language_info": {
   "codemirror_mode": {
    "name": "ipython",
    "version": 3
   },
   "file_extension": ".py",
   "mimetype": "text/x-python",
   "name": "python",
   "nbconvert_exporter": "python",
   "pygments_lexer": "ipython3",
   "version": "3.10.9"
  },
  "orig_nbformat": 4,
  "vscode": {
   "interpreter": {
    "hash": "767d51c1340bd893661ea55ea3124f6de3c7a262a8b4abca0554b478b1e2ff90"
   }
  }
 },
 "nbformat": 4,
 "nbformat_minor": 2
}
