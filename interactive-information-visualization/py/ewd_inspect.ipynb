{
 "cells": [
  {
   "cell_type": "code",
   "execution_count": 11,
   "metadata": {},
   "outputs": [],
   "source": [
    "import pandas as pd\n",
    "import numpy as np\n",
    "import matplotlib.pyplot as plt\n",
    "from pathlib import Path"
   ]
  },
  {
   "cell_type": "code",
   "execution_count": 12,
   "metadata": {},
   "outputs": [],
   "source": [
    "# Locating the file\n",
    "HOME = Path() / '../'\n",
    "FAO = HOME / 'food-waste-dataset' / 'fao'\n",
    "DATA = FAO / 'emissions-waste-disposal' / 'emissions-waste-disposal.csv'\n",
    "df = pd.read_csv(DATA, encoding='latin-1')"
   ]
  },
  {
   "cell_type": "code",
   "execution_count": 39,
   "metadata": {},
   "outputs": [
    {
     "name": "stdout",
     "output_type": "stream",
     "text": [
      "========\n",
      "       Area Code Area Code (M49)   Area  Item Code                   Item  \\\n",
      "26210        106            '380  Italy       6988    Domestic wastewater   \n",
      "26240        106            '380  Italy       6988    Domestic wastewater   \n",
      "26270        106            '380  Italy       6990           Incineration   \n",
      "26300        106            '380  Italy       6989  Industrial wastewater   \n",
      "26330        106            '380  Italy       6989  Industrial wastewater   \n",
      "26360        106            '380  Italy       6987       Solid food waste   \n",
      "\n",
      "       Element Code          Element  Year Code  Year        Unit       Value  \\\n",
      "26210          7225  Emissions (CH4)       2019  2019  kilotonnes  100.507359   \n",
      "26240          7230  Emissions (N2O)       2019  2019  kilotonnes    2.716720   \n",
      "26270          7273  Emissions (CO2)       2019  2019  kilotonnes  625.857064   \n",
      "26300          7225  Emissions (CH4)       2019  2019  kilotonnes   38.605584   \n",
      "26330          7230  Emissions (N2O)       2019  2019  kilotonnes    0.515051   \n",
      "26360          7225  Emissions (CH4)       2019  2019  kilotonnes   68.104719   \n",
      "\n",
      "      Flag  \n",
      "26210    E  \n",
      "26240    E  \n",
      "26270    E  \n",
      "26300    E  \n",
      "26330    E  \n",
      "26360    E  \n",
      "========\n",
      "SUM of: ['Domestic wastewater', 'Incineration', 'Industrial wastewater', 'Solid food waste']\n",
      "836.306497\n",
      "Value of Agri-food waste: 836.306496\n"
     ]
    }
   ],
   "source": [
    "YEARS = [2019]\n",
    "COUNTRIES = ['Italy']\n",
    "EMISSIONS = ['Emissions (CH4)', 'Emissions (N2O)', 'Emissions (CO2)']\n",
    "CAUSES = ['Domestic wastewater', 'Incineration', 'Industrial wastewater', 'Solid food waste']\n",
    "\n",
    "def is_agrifood_waste_sum_of_four_causes(df, year, country, emissions, causes):\n",
    "    print('========')\n",
    "    f_df = df[(df['Year'].isin(year)) & (df['Area'].isin(country)) & (df['Element'].isin(emissions)) & (df['Item'].isin(causes))]\n",
    "    print(f_df)\n",
    "    print('========')\n",
    "    print('SUM of:', causes)\n",
    "    print(f_df['Value'].sum())\n",
    "    print('Value of Agri-food waste:', df[(df['Year'].isin(year)) & \n",
    "                                          (df['Area'].isin(country)) & \n",
    "                                          (df['Element'].isin(emissions)) & \n",
    "                                          (df['Item'].isin(['Waste - agri-food systems']))]\n",
    "                                        ['Value'].sum())\n",
    "    return\n",
    "\n",
    "is_agrifood_waste_sum_of_four_causes(df, YEARS, COUNTRIES, EMISSIONS, CAUSES)\n",
    "# It looks like YES!\n"
   ]
  }
 ],
 "metadata": {
  "kernelspec": {
   "display_name": "Python 3",
   "language": "python",
   "name": "python3"
  },
  "language_info": {
   "codemirror_mode": {
    "name": "ipython",
    "version": 3
   },
   "file_extension": ".py",
   "mimetype": "text/x-python",
   "name": "python",
   "nbconvert_exporter": "python",
   "pygments_lexer": "ipython3",
   "version": "3.10.9"
  },
  "orig_nbformat": 4,
  "vscode": {
   "interpreter": {
    "hash": "767d51c1340bd893661ea55ea3124f6de3c7a262a8b4abca0554b478b1e2ff90"
   }
  }
 },
 "nbformat": 4,
 "nbformat_minor": 2
}
