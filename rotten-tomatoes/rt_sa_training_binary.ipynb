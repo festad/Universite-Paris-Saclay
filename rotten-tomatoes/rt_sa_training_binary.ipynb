{
  "cells": [
    {
      "cell_type": "code",
      "execution_count": null,
      "metadata": {
        "colab": {
          "base_uri": "https://localhost:8080/"
        },
        "id": "SlmpKsEtIJSz",
        "outputId": "a8265274-ea8e-420f-b90c-7b39c9883fb2"
      },
      "outputs": [
        {
          "name": "stdout",
          "output_type": "stream",
          "text": [
            "Drive already mounted at /content/drive; to attempt to forcibly remount, call drive.mount(\"/content/drive\", force_remount=True).\n"
          ]
        }
      ],
      "source": [
        "from google.colab import drive\n",
        "drive.mount('/content/drive')"
      ]
    },
    {
      "cell_type": "code",
      "execution_count": null,
      "metadata": {
        "id": "naV5yUszIRRv"
      },
      "outputs": [],
      "source": [
        "from pathlib import Path\n",
        "ROOT = Path('/content/drive/MyDrive/universite-paris-saclay/nlp/rottentomatoes')"
      ]
    },
    {
      "cell_type": "code",
      "execution_count": null,
      "metadata": {
        "colab": {
          "base_uri": "https://localhost:8080/"
        },
        "id": "TZTCeS2yKrfv",
        "outputId": "46a0c980-7618-4ecf-dfb7-30b1d149322b"
      },
      "outputs": [
        {
          "name": "stdout",
          "output_type": "stream",
          "text": [
            "Looking in indexes: https://pypi.org/simple, https://us-python.pkg.dev/colab-wheels/public/simple/\n",
            "Requirement already satisfied: transformers in /usr/local/lib/python3.8/dist-packages (4.26.1)\n",
            "Requirement already satisfied: huggingface-hub<1.0,>=0.11.0 in /usr/local/lib/python3.8/dist-packages (from transformers) (0.12.1)\n",
            "Requirement already satisfied: requests in /usr/local/lib/python3.8/dist-packages (from transformers) (2.25.1)\n",
            "Requirement already satisfied: tokenizers!=0.11.3,<0.14,>=0.11.1 in /usr/local/lib/python3.8/dist-packages (from transformers) (0.13.2)\n",
            "Requirement already satisfied: numpy>=1.17 in /usr/local/lib/python3.8/dist-packages (from transformers) (1.22.4)\n",
            "Requirement already satisfied: regex!=2019.12.17 in /usr/local/lib/python3.8/dist-packages (from transformers) (2022.6.2)\n",
            "Requirement already satisfied: tqdm>=4.27 in /usr/local/lib/python3.8/dist-packages (from transformers) (4.64.1)\n",
            "Requirement already satisfied: pyyaml>=5.1 in /usr/local/lib/python3.8/dist-packages (from transformers) (6.0)\n",
            "Requirement already satisfied: packaging>=20.0 in /usr/local/lib/python3.8/dist-packages (from transformers) (23.0)\n",
            "Requirement already satisfied: filelock in /usr/local/lib/python3.8/dist-packages (from transformers) (3.9.0)\n",
            "Requirement already satisfied: typing-extensions>=3.7.4.3 in /usr/local/lib/python3.8/dist-packages (from huggingface-hub<1.0,>=0.11.0->transformers) (4.5.0)\n",
            "Requirement already satisfied: idna<3,>=2.5 in /usr/local/lib/python3.8/dist-packages (from requests->transformers) (2.10)\n",
            "Requirement already satisfied: certifi>=2017.4.17 in /usr/local/lib/python3.8/dist-packages (from requests->transformers) (2022.12.7)\n",
            "Requirement already satisfied: urllib3<1.27,>=1.21.1 in /usr/local/lib/python3.8/dist-packages (from requests->transformers) (1.26.14)\n",
            "Requirement already satisfied: chardet<5,>=3.0.2 in /usr/local/lib/python3.8/dist-packages (from requests->transformers) (4.0.0)\n",
            "Looking in indexes: https://pypi.org/simple, https://us-python.pkg.dev/colab-wheels/public/simple/\n",
            "Requirement already satisfied: langdetect in /usr/local/lib/python3.8/dist-packages (1.0.9)\n",
            "Requirement already satisfied: six in /usr/local/lib/python3.8/dist-packages (from langdetect) (1.15.0)\n"
          ]
        }
      ],
      "source": [
        "!pip install transformers\n",
        "!pip install langdetect"
      ]
    },
    {
      "cell_type": "code",
      "execution_count": null,
      "metadata": {
        "id": "0KTRd53zKl9l"
      },
      "outputs": [],
      "source": [
        "from pathlib import Path\n",
        "from gensim.models import Word2Vec\n",
        "from nltk.tokenize import word_tokenize\n",
        "from nltk.corpus import stopwords\n",
        "from nltk.stem import WordNetLemmatizer\n",
        "from sklearn.decomposition import PCA\n",
        "from wordcloud import WordCloud\n",
        "from transformers import BertModel, BertTokenizer\n",
        "from sklearn.metrics import accuracy_score\n",
        "from torch.utils.data import TensorDataset, Dataset, DataLoader, random_split\n",
        "from torch.utils.data import TensorDataset, DataLoader, RandomSampler, SequentialSampler\n",
        "\n",
        "\n",
        "import matplotlib.pyplot as plt\n",
        "import re\n",
        "import pandas as pd\n",
        "import numpy as np\n",
        "import matplotlib.pyplot as plt\n",
        "import seaborn as sns\n",
        "import langdetect\n",
        "import random\n",
        "import nltk\n",
        "import gensim\n",
        "import torch\n",
        "import torch.nn as nn\n",
        "\n",
        "import numpy as np\n",
        "import matplotlib.pyplot as plt\n",
        "from sklearn.metrics import confusion_matrix, accuracy_score, precision_score, recall_score, f1_score\n",
        "from sklearn.metrics import classification_report\n",
        "from sklearn.model_selection import train_test_split"
      ]
    },
    {
      "cell_type": "code",
      "execution_count": null,
      "metadata": {
        "colab": {
          "base_uri": "https://localhost:8080/"
        },
        "id": "olLwgjofK8WK",
        "outputId": "0cff3174-d0f5-4bf1-eb76-a8f80b2b7b08"
      },
      "outputs": [
        {
          "name": "stderr",
          "output_type": "stream",
          "text": [
            "[nltk_data] Downloading package punkt to /root/nltk_data...\n",
            "[nltk_data]   Package punkt is already up-to-date!\n",
            "[nltk_data] Downloading package wordnet to /root/nltk_data...\n",
            "[nltk_data]   Package wordnet is already up-to-date!\n",
            "[nltk_data] Downloading package stopwords to /root/nltk_data...\n",
            "[nltk_data]   Package stopwords is already up-to-date!\n",
            "[nltk_data] Downloading package omw-1.4 to /root/nltk_data...\n",
            "[nltk_data]   Package omw-1.4 is already up-to-date!\n"
          ]
        },
        {
          "data": {
            "text/plain": [
              "True"
            ]
          },
          "execution_count": 90,
          "metadata": {},
          "output_type": "execute_result"
        }
      ],
      "source": [
        "nltk.download(\"punkt\")\n",
        "nltk.download(\"wordnet\")\n",
        "nltk.download(\"stopwords\")\n",
        "nltk.download(\"omw-1.4\")"
      ]
    },
    {
      "cell_type": "code",
      "execution_count": null,
      "metadata": {
        "id": "fUsou1MsLI1m"
      },
      "outputs": [],
      "source": [
        "# Let's get started with BERT"
      ]
    },
    {
      "cell_type": "code",
      "execution_count": null,
      "metadata": {
        "colab": {
          "base_uri": "https://localhost:8080/"
        },
        "id": "GUI0XUSuK_B9",
        "outputId": "f612af59-ee64-4b3b-9f9b-df357e5e6fe4"
      },
      "outputs": [
        {
          "name": "stderr",
          "output_type": "stream",
          "text": [
            "Some weights of the model checkpoint at bert-base-uncased were not used when initializing BertModel: ['cls.seq_relationship.bias', 'cls.predictions.bias', 'cls.predictions.transform.LayerNorm.bias', 'cls.predictions.transform.dense.bias', 'cls.predictions.decoder.weight', 'cls.seq_relationship.weight', 'cls.predictions.transform.dense.weight', 'cls.predictions.transform.LayerNorm.weight']\n",
            "- This IS expected if you are initializing BertModel from the checkpoint of a model trained on another task or with another architecture (e.g. initializing a BertForSequenceClassification model from a BertForPreTraining model).\n",
            "- This IS NOT expected if you are initializing BertModel from the checkpoint of a model that you expect to be exactly identical (initializing a BertForSequenceClassification model from a BertForSequenceClassification model).\n"
          ]
        }
      ],
      "source": [
        "tokenizer = BertTokenizer.from_pretrained('bert-base-uncased')\n",
        "bert_model = BertModel.from_pretrained('bert-base-uncased', return_dict=True)"
      ]
    },
    {
      "cell_type": "code",
      "execution_count": null,
      "metadata": {
        "id": "unJ1R5LQ23Za"
      },
      "outputs": [],
      "source": [
        "# Create a function to tokenize a set of texts\n",
        "def preprocessing_for_bert(data, max_len):\n",
        "    \"\"\"Perform required preprocessing steps for pretrained BERT.\n",
        "    @param    data (np.array): Array of texts to be processed.\n",
        "    @return   input_ids (torch.Tensor): Tensor of token ids to be fed to a model.\n",
        "    @return   attention_masks (torch.Tensor): Tensor of indices specifying which\n",
        "                  tokens should be attended to by the model.\n",
        "    \"\"\"\n",
        "    # Create empty lists to store outputs\n",
        "    input_ids = []\n",
        "    attention_masks = []\n",
        "\n",
        "    # For every sentence...\n",
        "    for sent in data:\n",
        "        # `encode_plus` will:\n",
        "        #    (1) Tokenize the sentence\n",
        "        #    (2) Add the `[CLS]` and `[SEP]` token to the start and end\n",
        "        #    (3) Truncate/Pad sentence to max length\n",
        "        #    (4) Map tokens to their IDs\n",
        "        #    (5) Create attention mask\n",
        "        #    (6) Return a dictionary of outputs\n",
        "        encoded_sent = tokenizer.encode_plus(\n",
        "            text = sent,  # Preprocess sentence\n",
        "            add_special_tokens=True,        # Add `[CLS]` and `[SEP]`\n",
        "            max_length=max_len,                  # Max length to truncate/pad\n",
        "            pad_to_max_length=True,         # Pad sentence to max length\n",
        "            #return_tensors='pt',           # Return PyTorch tensor\n",
        "            return_attention_mask=True      # Return attention mask\n",
        "            )\n",
        "        \n",
        "        # Add the outputs to the lists\n",
        "        input_ids.append(encoded_sent.get('input_ids'))\n",
        "        attention_masks.append(encoded_sent.get('attention_mask'))\n",
        "\n",
        "    # Convert lists to tensors\n",
        "    input_ids = torch.tensor(input_ids)\n",
        "    attention_masks = torch.tensor(attention_masks)\n",
        "\n",
        "    return input_ids, attention_masks"
      ]
    },
    {
      "cell_type": "code",
      "execution_count": null,
      "metadata": {
        "colab": {
          "base_uri": "https://localhost:8080/"
        },
        "id": "HOijOEH6LTuH",
        "outputId": "87052b1a-8c9d-4a4f-a517-93928d5cc832"
      },
      "outputs": [
        {
          "name": "stderr",
          "output_type": "stream",
          "text": [
            "Truncation was not explicitly activated but `max_length` is provided a specific value, please use `truncation=True` to explicitly truncate examples to max length. Defaulting to 'longest_first' truncation strategy. If you encode pairs of sequences (GLUE-style) with the tokenizer you can select this strategy more precisely by providing a specific strategy to `truncation`.\n",
            "/usr/local/lib/python3.8/dist-packages/transformers/tokenization_utils_base.py:2339: FutureWarning: The `pad_to_max_length` argument is deprecated and will be removed in a future version, use `padding=True` or `padding='longest'` to pad to the longest sequence in the batch, or use `padding='max_length'` to pad to a max length. In this case, you can give a specific length with `max_length` (e.g. `max_length=45`) or leave max_length to None to pad to the maximal input size of the model (e.g. 512 for Bert).\n",
            "  warnings.warn(\n"
          ]
        }
      ],
      "source": [
        "reviews_df = pd.read_csv(ROOT / \"preprocessed_reviews.csv\")\n",
        "\n",
        "# Sample just the 10% of the data\n",
        "perc = 0.5\n",
        "reviews_df = reviews_df.sample(frac=perc, random_state=2023)\n",
        "\n",
        "X = reviews_df['review_content'].values\n",
        "y = reviews_df['review_type'].values\n",
        "\n",
        "X_train, X_test, y_train, y_test =\\\n",
        "    train_test_split(X, y, test_size=0.1, random_state=2023)\n",
        "\n",
        "X_train, X_val, y_train, y_val =\\\n",
        "    train_test_split(X_train, y_train, test_size=0.1, random_state=2024)\n",
        "\n",
        "# Tokenize the input text\n",
        "\n",
        "# From the histogram above we saw that all the reviews\n",
        "# are shorter than 30 tokens.\n",
        "max_len = 30\n",
        "\n",
        "# Run function `preprocessing_for_bert` on the train set, the validation set and the test set\n",
        "train_inputs, train_masks = preprocessing_for_bert(X_train, max_len)\n",
        "val_inputs, val_masks = preprocessing_for_bert(X_val, max_len)\n",
        "test_inputs, test_masks = preprocessing_for_bert(X_test, max_len)\n",
        "\n",
        "# Convert other data types to torch.Tensor\n",
        "train_labels = torch.tensor(y_train)\n",
        "val_labels = torch.tensor(y_val)\n",
        "test_labels = torch.tensor(y_test)\n",
        "\n",
        "# For fine-tuning BERT, it's recommended a batch size of 16 or 32.\n",
        "batch_size = 16\n",
        "\n",
        "# Create the DataLoader for our training set\n",
        "train_data = TensorDataset(train_inputs, train_masks, train_labels)\n",
        "train_sampler = RandomSampler(train_data)\n",
        "train_dataloader = DataLoader(train_data, sampler=train_sampler, batch_size=batch_size)\n",
        "\n",
        "# Create the DataLoader for our validation set\n",
        "val_data = TensorDataset(val_inputs, val_masks, val_labels)\n",
        "val_sampler = SequentialSampler(val_data)\n",
        "val_dataloader = DataLoader(val_data, sampler=val_sampler, batch_size=batch_size)\n",
        "\n",
        "# Create the DataLoader for our test set\n",
        "test_data = TensorDataset(test_inputs, test_masks, test_labels)\n",
        "test_sampler = SequentialSampler(test_data)\n",
        "test_dataloader = DataLoader(test_data, sampler=test_sampler, batch_size=1)"
      ]
    },
    {
      "cell_type": "code",
      "execution_count": null,
      "metadata": {
        "colab": {
          "base_uri": "https://localhost:8080/"
        },
        "id": "gWjgbJTglluB",
        "outputId": "ca683588-ebde-42ff-9b89-5a63474d933a"
      },
      "outputs": [
        {
          "name": "stdout",
          "output_type": "stream",
          "text": [
            "There are 1 GPU(s) available.\n",
            "Device name: Tesla T4\n"
          ]
        }
      ],
      "source": [
        "if torch.cuda.is_available():       \n",
        "    device = torch.device(\"cuda\")\n",
        "    print(f'There are {torch.cuda.device_count()} GPU(s) available.')\n",
        "    print('Device name:', torch.cuda.get_device_name(0))\n",
        "\n",
        "else:\n",
        "    print('No GPU available, using the CPU instead.')\n",
        "    device = torch.device(\"cpu\")"
      ]
    },
    {
      "cell_type": "code",
      "execution_count": null,
      "metadata": {
        "id": "bIpUr7lhLM2P"
      },
      "outputs": [],
      "source": [
        "class BertForSentimentAnalysis(nn.Module):\n",
        "    def __init__(self, bert_model):\n",
        "        super().__init__()\n",
        "        self.bert = bert_model\n",
        "        self.dropout = nn.Dropout(0.1)\n",
        "        self.classifier = nn.Linear(768, 2) # 768 is the output dimension of BERT model\n",
        "    \n",
        "    def forward(self, input_ids, attention_mask):\n",
        "        outputs = self.bert(input_ids, attention_mask=attention_mask)\n",
        "        pooled_output = outputs.pooler_output\n",
        "        pooled_output = self.dropout(pooled_output)\n",
        "        logits = self.classifier(pooled_output)\n",
        "        return logits"
      ]
    },
    {
      "cell_type": "code",
      "execution_count": null,
      "metadata": {
        "id": "Ma-BcX7_LQz-"
      },
      "outputs": [],
      "source": [
        "def train(model, train_dataloader, optimizer, criterion):\n",
        "    model.train()\n",
        "    total_loss, total_acc = 0, 0\n",
        "    for step, batch in enumerate(train_dataloader):\n",
        "        input_ids, attention_mask, labels = tuple(t.to(device) for t in batch)\n",
        "        optimizer.zero_grad()\n",
        "        logits = model(input_ids, attention_mask=attention_mask)\n",
        "        loss = criterion(logits, labels)\n",
        "        loss.backward()\n",
        "        optimizer.step()\n",
        "        total_loss += loss.item()\n",
        "        total_acc += accuracy_score(torch.argmax(logits, axis=1).cpu().numpy(), labels.cpu().numpy())\n",
        "    return total_loss/len(train_dataloader), total_acc/len(train_dataloader)\n",
        "\n",
        "\n",
        "def evaluate(model, val_dataloader, criterion):\n",
        "    model.eval()\n",
        "    total_loss, total_acc = 0, 0\n",
        "    with torch.no_grad():\n",
        "        for step, batch in enumerate(val_dataloader):\n",
        "            input_ids, attention_mask, labels = tuple(t.to(device) for t in batch)\n",
        "            logits = model(input_ids, attention_mask=attention_mask)\n",
        "            loss = criterion(logits, labels)\n",
        "            total_loss += loss.item()\n",
        "            total_acc += accuracy_score(torch.argmax(logits, axis=1).cpu().numpy(), labels.cpu().numpy())\n",
        "    return total_loss/len(val_dataloader), total_acc/len(val_dataloader)"
      ]
    },
    {
      "cell_type": "code",
      "execution_count": null,
      "metadata": {
        "id": "Zw__partLq_L"
      },
      "outputs": [],
      "source": [
        "model = BertForSentimentAnalysis(bert_model)\n",
        "model.to(device)\n",
        "\n",
        "optimizer = torch.optim.Adam(model.parameters(), lr=2e-5)\n",
        "criterion = nn.CrossEntropyLoss()"
      ]
    },
    {
      "cell_type": "code",
      "execution_count": null,
      "metadata": {
        "colab": {
          "base_uri": "https://localhost:8080/"
        },
        "id": "dG6LGKCTLsEW",
        "outputId": "f22caee7-dcff-4f31-c333-29d61ac952dc"
      },
      "outputs": [
        {
          "name": "stdout",
          "output_type": "stream",
          "text": [
            "Epoch 1/5 - Training Loss: 0.5431 - Training Accuracy: 0.7234 - Validation Loss: 0.4568 - Validation Accuracy: 0.7712\n",
            "Epoch 2/5 - Training Loss: 0.3481 - Training Accuracy: 0.8540 - Validation Loss: 0.4341 - Validation Accuracy: 0.7977\n",
            "Epoch 3/5 - Training Loss: 0.1810 - Training Accuracy: 0.9349 - Validation Loss: 0.6855 - Validation Accuracy: 0.7386\n",
            "Epoch 4/5 - Training Loss: 0.0987 - Training Accuracy: 0.9692 - Validation Loss: 0.7833 - Validation Accuracy: 0.7652\n",
            "Epoch 5/5 - Training Loss: 0.0709 - Training Accuracy: 0.9756 - Validation Loss: 0.6895 - Validation Accuracy: 0.7814\n"
          ]
        }
      ],
      "source": [
        "train_losses = []\n",
        "train_accs = []\n",
        "val_losses = []\n",
        "val_accs = []\n",
        "\n",
        "num_epochs = 5\n",
        "for epoch in range(num_epochs):\n",
        "    train_loss, train_acc = train(model, train_dataloader, optimizer, criterion)\n",
        "    val_loss, val_acc = evaluate(model, val_dataloader, criterion)\n",
        "    train_losses.append(train_loss)\n",
        "    train_accs.append(train_acc)\n",
        "    val_losses.append(val_loss)\n",
        "    val_accs.append(val_acc)\n",
        "    print(f'Epoch {epoch+1}/{num_epochs} - Training Loss: {train_loss:.4f} - Training Accuracy: {train_acc:.4f} - Validation Loss: {val_loss:.4f} - Validation Accuracy: {val_acc:.4f}')\n"
      ]
    },
    {
      "cell_type": "code",
      "execution_count": null,
      "metadata": {
        "colab": {
          "base_uri": "https://localhost:8080/",
          "height": 441
        },
        "id": "XfqH-Rxbc9oT",
        "outputId": "35651528-7187-4f90-b5e4-92f25483830f"
      },
      "outputs": [
        {
          "data": {
            "image/png": "[encoded data removed]",
            "text/plain": [
              "<Figure size 566.5x432 with 4 Axes>"
            ]
          },
          "metadata": {
            "needs_background": "light"
          },
          "output_type": "display_data"
        }
      ],
      "source": [
        "data = {\n",
        "    'Epoch': range(1, num_epochs+1),\n",
        "    'Training Loss': train_losses,\n",
        "    'Training Accuracy': train_accs,\n",
        "    'Validation Loss': val_losses,\n",
        "    'Validation Accuracy': val_accs\n",
        "}\n",
        "trends = pd.DataFrame(data)\n",
        "\n",
        "trends = trends.melt(id_vars=['Epoch'], var_name='Metric', value_name='Value')\n",
        "\n",
        "# Create a facet grid with subplots for each metric\n",
        "g = sns.FacetGrid(trends, col='Metric', hue='Metric', col_wrap=2, sharey=False)\n",
        "g.map(sns.lineplot, 'Epoch', 'Value')\n",
        "\n",
        "# Set the axis labels and legend\n",
        "g.set_axis_labels('Epoch', 'Value')\n",
        "g.add_legend()\n",
        "\n",
        "# Show the plot\n",
        "plt.show()"
      ]
    },
    {
      "cell_type": "code",
      "execution_count": null,
      "metadata": {
        "id": "_y8euX0IXQ-x"
      },
      "outputs": [],
      "source": [
        "torch.save(model.state_dict(), ROOT / \"bert-rottentomatoes-binary-05-v3.pth\")"
      ]
    },
    {
      "cell_type": "code",
      "execution_count": null,
      "metadata": {
        "id": "6XpEMrdEvjqd"
      },
      "outputs": [],
      "source": [
        "class BertForSentimentAnalysis(nn.Module):\n",
        "    def __init__(self, bert_model):\n",
        "        super().__init__()\n",
        "        self.bert = bert_model\n",
        "        self.dropout = nn.Dropout(0.1)\n",
        "        self.classifier = nn.Linear(768, 2) # 768 is the output dimension of BERT model\n",
        "    \n",
        "    def forward(self, input_ids, attention_mask):\n",
        "        outputs = self.bert(input_ids, attention_mask=attention_mask)\n",
        "        pooled_output = outputs.pooler_output\n",
        "        pooled_output = self.dropout(pooled_output)\n",
        "        logits = self.classifier(pooled_output)\n",
        "        return logits"
      ]
    },
    {
      "cell_type": "code",
      "execution_count": null,
      "metadata": {
        "colab": {
          "base_uri": "https://localhost:8080/"
        },
        "id": "w8DwjsNRtPgn",
        "outputId": "755d8674-6923-4015-8622-473812d207d2"
      },
      "outputs": [
        {
          "name": "stderr",
          "output_type": "stream",
          "text": [
            "Some weights of the model checkpoint at bert-base-uncased were not used when initializing BertModel: ['cls.seq_relationship.bias', 'cls.predictions.bias', 'cls.predictions.transform.LayerNorm.bias', 'cls.predictions.transform.dense.bias', 'cls.predictions.decoder.weight', 'cls.seq_relationship.weight', 'cls.predictions.transform.dense.weight', 'cls.predictions.transform.LayerNorm.weight']\n",
            "- This IS expected if you are initializing BertModel from the checkpoint of a model trained on another task or with another architecture (e.g. initializing a BertForSequenceClassification model from a BertForPreTraining model).\n",
            "- This IS NOT expected if you are initializing BertModel from the checkpoint of a model that you expect to be exactly identical (initializing a BertForSequenceClassification model from a BertForSequenceClassification model).\n"
          ]
        },
        {
          "data": {
            "text/plain": [
              "<All keys matched successfully>"
            ]
          },
          "execution_count": 103,
          "metadata": {},
          "output_type": "execute_result"
        }
      ],
      "source": [
        "bert_model = BertModel.from_pretrained('bert-base-uncased', return_dict=True)\n",
        "bert_binary = BertForSentimentAnalysis(bert_model)\n",
        "bert_binary.load_state_dict(torch.load(ROOT / \"bert-rottentomatoes-binary-05-v3.pth\"))"
      ]
    },
    {
      "cell_type": "code",
      "execution_count": null,
      "metadata": {
        "colab": {
          "base_uri": "https://localhost:8080/"
        },
        "id": "qOq2numg6t3K",
        "outputId": "f011d7cf-f789-48fb-9e21-5883fabf2a4c"
      },
      "outputs": [],
      "source": [
        "bert_binary.to(device)"
      ]
    },
    {
      "cell_type": "code",
      "execution_count": null,
      "metadata": {
        "id": "o7cMHsIK6a_j"
      },
      "outputs": [],
      "source": [
        "def predict(model, val_dataloader):\n",
        "    \"\"\"After the completion of each training epoch, measure the model's performance\n",
        "    on our validation set.\n",
        "    \"\"\"\n",
        "    # Put the model into the evaluation mode. The dropout layers are disabled during\n",
        "    # the test time.\n",
        "    model.eval()\n",
        "    predictions=[]\n",
        "    # Tracking variables\n",
        "    # For each batch in our validation set...\n",
        "    for batch in val_dataloader:\n",
        "        # Load batch to GPU\n",
        "        b_input_ids, b_attn_mask, b_labels = tuple(t.to(device) for t in batch)\n",
        "\n",
        "        # Compute logits\n",
        "        with torch.no_grad():\n",
        "            logits = model(b_input_ids, b_attn_mask)\n",
        "\n",
        "        # Get the predictions\n",
        "        preds = torch.argmax(logits, dim=1).flatten()\n",
        "        predictions.append(int(preds.detach().cpu().numpy()))\n",
        "\n",
        "    return predictions"
      ]
    },
    {
      "cell_type": "code",
      "execution_count": null,
      "metadata": {
        "colab": {
          "base_uri": "https://localhost:8080/"
        },
        "id": "oMwWeP9Lvid4",
        "outputId": "4f2ea596-81d8-416d-c872-6fb8e2546b5c"
      },
      "outputs": [
        {
          "name": "stdout",
          "output_type": "stream",
          "text": [
            "              precision    recall  f1-score   support\n",
            "\n",
            "           0       0.84      0.71      0.77       286\n",
            "           1       0.75      0.87      0.81       293\n",
            "\n",
            "    accuracy                           0.79       579\n",
            "   macro avg       0.79      0.79      0.79       579\n",
            "weighted avg       0.79      0.79      0.79       579\n",
            "\n"
          ]
        }
      ],
      "source": [
        "predictions = predict(bert_binary, test_dataloader)\n",
        "\n",
        "print(classification_report(y_test, predictions))"
      ]
    },
    {
      "cell_type": "code",
      "execution_count": null,
      "metadata": {
        "id": "JFsHbPIQBD7E"
      },
      "outputs": [],
      "source": [
        "def custom_test(model, text):\n",
        "    inputs = tokenizer(text, return_tensors='pt')\n",
        "\n",
        "    # Make a prediction with the model\n",
        "    outputs = model(inputs['input_ids'], inputs['attention_mask'])\n",
        "    predicted_class = torch.argmax(outputs[0])\n",
        "\n",
        "    # Print the predicted sentiment\n",
        "    if predicted_class == 1:\n",
        "        # print('Fresh')\n",
        "        return 'Fresh'\n",
        "    else:\n",
        "        # print('Rotten')\n",
        "        return 'Rotten'"
      ]
    },
    {
      "cell_type": "code",
      "execution_count": null,
      "metadata": {
        "colab": {
          "base_uri": "https://localhost:8080/"
        },
        "id": "oBRZkGj3ByDF",
        "outputId": "fb4fc094-fa78-4c29-888b-c44e207e539a"
      },
      "outputs": [
        {
          "name": "stderr",
          "output_type": "stream",
          "text": [
            "Some weights of the model checkpoint at bert-base-uncased were not used when initializing BertModel: ['cls.seq_relationship.bias', 'cls.predictions.bias', 'cls.predictions.transform.LayerNorm.bias', 'cls.predictions.transform.dense.bias', 'cls.predictions.decoder.weight', 'cls.seq_relationship.weight', 'cls.predictions.transform.dense.weight', 'cls.predictions.transform.LayerNorm.weight']\n",
            "- This IS expected if you are initializing BertModel from the checkpoint of a model trained on another task or with another architecture (e.g. initializing a BertForSequenceClassification model from a BertForPreTraining model).\n",
            "- This IS NOT expected if you are initializing BertModel from the checkpoint of a model that you expect to be exactly identical (initializing a BertForSequenceClassification model from a BertForSequenceClassification model).\n"
          ]
        },
        {
          "data": {
            "text/plain": [
              "<All keys matched successfully>"
            ]
          },
          "execution_count": 108,
          "metadata": {},
          "output_type": "execute_result"
        }
      ],
      "source": [
        "bert_model = BertModel.from_pretrained('bert-base-uncased', return_dict=True)\n",
        "bert_binary = BertForSentimentAnalysis(bert_model)\n",
        "bert_binary.load_state_dict(torch.load(ROOT / \"bert-rottentomatoes-binary-05-v2.pth\"))"
      ]
    },
    {
      "cell_type": "code",
      "execution_count": null,
      "metadata": {
        "id": "gJcGfl93LsAe"
      },
      "outputs": [],
      "source": [
        "def preprocess_text(text):\n",
        "    # Removing numerical data or irrelevant characters\n",
        "    text = re.sub(r\"[^a-zA-Z\\s]\", \"\", text)\n",
        "    # Tokenization\n",
        "    tokens = nltk.word_tokenize(text)\n",
        "    # Lowercasing\n",
        "    tokens = [token.lower() for token in tokens]\n",
        "    # Removing stopwords\n",
        "    tokens = [token for token in tokens if token not in stopwords.words(\"english\")]\n",
        "    # Lemmatization\n",
        "    lemmatizer = WordNetLemmatizer()\n",
        "    tokens = [lemmatizer.lemmatize(token) for token in tokens]\n",
        "    # Joining the tokens back to a string\n",
        "    text = \" \".join(tokens)\n",
        "    return text"
      ]
    },
    {
      "cell_type": "code",
      "execution_count": null,
      "metadata": {
        "colab": {
          "base_uri": "https://localhost:8080/"
        },
        "id": "NeS1_9qTEf4p",
        "outputId": "1d4624e0-4a76-405f-a209-8b8d92775171"
      },
      "outputs": [
        {
          "name": "stdout",
          "output_type": "stream",
          "text": [
            "Index(['review_type', 'review_score', 'review_content'], dtype='object')\n",
            "REVIEW:\n",
            "Puerile writing, confused plotting and shockingly off-note performances make Oliver Stone's epic film a disappointment.\n",
            "True type: Rotten\n",
            "Prediction: Rotten\n",
            "REVIEW:\n",
            "Frankly, us geeks have never had it so good: Scott Pilgrim Vs The World is modern cinema at its most exciting, and it belongs to us.\n",
            "True type: Fresh\n",
            "Prediction: Fresh\n",
            "REVIEW:\n",
            "Space Chimps tries to please both kids and parents with a queasy mix of rapid-fire, Looney Tunes-y slapstick and sly pop culture references, but the surprisingly flat animation and tired jokes keep it from ever leaving orbit.\n",
            "True type: Rotten\n",
            "Prediction: Rotten\n",
            "REVIEW:\n",
            "This Barbershop may not provide you a soapbox or a good fade, but it'll definitely leave you with a warm and fuzzy feeling.\n",
            "True type: Fresh\n",
            "Prediction: Fresh\n",
            "REVIEW:\n",
            "For fans of the show, even with all of its faults, the movie has many laugh-out-loud scenes and is a guilty pleasure\n",
            "True type: Fresh\n",
            "Prediction: Rotten\n",
            "REVIEW:\n",
            "It's a blockbuster with brains, and when it's over, you might find yourself in a time loop of your own -- one where you can't wait to see it over and over again.\n",
            "True type: Fresh\n",
            "Prediction: Rotten\n",
            "REVIEW:\n",
            "confidently struts along, seemingly unaware of its lackluster script and distinct lack of professionalism.\n",
            "True type: Rotten\n",
            "Prediction: Fresh\n",
            "REVIEW:\n",
            "First Love is a grand guignol of sparring, slashing, stabbing and shooting interrupted by muted stretches of character development.\n",
            "True type: Fresh\n",
            "Prediction: Rotten\n",
            "REVIEW:\n",
            "Ozon gives the movie to Ms. Rampling, whose performance is like a perfectly executed piano étude.\n",
            "True type: Fresh\n",
            "Prediction: Fresh\n",
            "REVIEW:\n",
            "Half Star Wars and half Classics Illustrated, Disney's Treasure Planet is a total blast, filled with animation dazzle and imaginative storytelling.\n",
            "True type: Fresh\n",
            "Prediction: Fresh\n",
            "REVIEW:\n",
            "far too silly\n",
            "True type: Rotten\n",
            "Prediction: Rotten\n",
            "REVIEW:\n",
            "As I said earlier, it isn't good enough or bad enough to even get a real reaction.\n",
            "True type: Rotten\n",
            "Prediction: Rotten\n",
            "REVIEW:\n",
            "With another whopper plot, this one's saved by a strong turn from Berry, a convincingly panicked performance by Breslin and, as one of the more incompetent screen villains in some time, Eklund.\n",
            "True type: Fresh\n",
            "Prediction: Rotten\n",
            "REVIEW:\n",
            "A comedy that is creepy and amusing in just the right measures.\n",
            "True type: Fresh\n",
            "Prediction: Fresh\n",
            "REVIEW:\n",
            "The Last Thing He Wanted is a political thriller so incoherent, disjointed, convoluted, and boring that its very existence proves to be perplexing.\n",
            "True type: Rotten\n",
            "Prediction: Rotten\n",
            "REVIEW:\n",
            "An authentic masterpiece where genre film and political filmmaking combine to perfection. [Full Review in Spanish]\n",
            "True type: Fresh\n",
            "Prediction: Fresh\n",
            "REVIEW:\n",
            "The whole thing raises questions of the type it is almost embarrassing to contemplate; it's almost like \"Donnie Darko,\" for little kids.\n",
            "True type: Rotten\n",
            "Prediction: Rotten\n",
            "REVIEW:\n",
            "A film that focus on real-life possibilities and whose characters traverse the highs and lows of their lives. The perfect Valentine Date Movie.\n",
            "True type: Fresh\n",
            "Prediction: Fresh\n",
            "REVIEW:\n",
            "One of the most important and urgent premieres to watch, as it tackles the topics it talks about with integrity, ambiguity and lots of dignity. [Full review in Spanish]\n",
            "True type: Fresh\n",
            "Prediction: Fresh\n",
            "REVIEW:\n",
            "A gloppy, scattered sop to the power of positive thinking from director Brad Bird (The Incredibles, which offered a much sharper take on the subject of being special).\n",
            "True type: Rotten\n",
            "Prediction: Fresh\n",
            "REVIEW:\n",
            "The worst thing is the film goes for brilliance when it really isn't.\n",
            "True type: Rotten\n",
            "Prediction: Rotten\n",
            "REVIEW:\n",
            "The dire romantic comedy Valentine's Day is neither romantic nor remotely comedic.\n",
            "True type: Rotten\n",
            "Prediction: Rotten\n",
            "REVIEW:\n",
            "The story is eventful and tempestuous, and Amandla Stenberg (playing Starr) is an ideal teen-drama lead - radiant yet wholly believable.\n",
            "True type: Fresh\n",
            "Prediction: Fresh\n",
            "REVIEW:\n",
            "The character writing truly is Horse Girl's greatest strength, what makes it notable instead of a dime-a-dozen straight-to-streaming movie.\n",
            "True type: Fresh\n",
            "Prediction: Rotten\n",
            "REVIEW:\n",
            "Despite being directed by Gregg Mottola (Superbad, Paul), the comic scenes play out with often banal interplay that barely has a whiff of improvised mayhem, while the action sequences are essentially generic.\n",
            "True type: Rotten\n",
            "Prediction: Rotten\n",
            "REVIEW:\n",
            "Us is brilliant. Frightening in some parts, funny in others, and altogether a cinematic experience.\n",
            "True type: Fresh\n",
            "Prediction: Fresh\n",
            "REVIEW:\n",
            "It takes the joy of Christmas and makes it bellicose. I'd rather have a black licorice candy cane, thanks.\n",
            "True type: Rotten\n",
            "Prediction: Fresh\n",
            "REVIEW:\n",
            "Raw, chaotic and engagingly eager, This Divided State juxtaposes candid interviews with scenes of unrest as Mr. Greenstreet rushes gamely from one hot spot to another.\n",
            "True type: Fresh\n",
            "Prediction: Fresh\n",
            "REVIEW:\n",
            "If you've never seen movie explosions before, you're in for a treat. Otherwise, you've got lots of hard-to-follow, poorly lit, very loud chaos to look forward to.\n",
            "True type: Rotten\n",
            "Prediction: Rotten\n",
            "REVIEW:\n",
            "It's not a monster movie in the same sense as the original. As the title suggests, the story is more concerned about the right to play God, and the Frankenstein like result of doing same.\n",
            "True type: Fresh\n",
            "Prediction: Rotten\n",
            "REVIEW:\n",
            "Just interested in being more BHC; nobody really bothered with quality control.\n",
            "True type: Rotten\n",
            "Prediction: Rotten\n",
            "REVIEW:\n",
            "It sounds like some crank on the next barstool venting about how everything is crap.\n",
            "True type: Rotten\n",
            "Prediction: Rotten\n",
            "REVIEW:\n",
            "More than I expected, and I suspect it will nicely serve its target market.\n",
            "True type: Fresh\n",
            "Prediction: Fresh\n",
            "REVIEW:\n",
            "The Secret in Their Eyes uses genre to explore the politics of its country without sacrificing the delivery of an extremely engaging story.\n",
            "True type: Fresh\n",
            "Prediction: Fresh\n",
            "REVIEW:\n",
            "Gosling exudes a cool, studied confidence and the scenes of him educating Cal, while displaying his own killer prowess with women, are amongst the most entertaining.\n",
            "True type: Fresh\n",
            "Prediction: Fresh\n",
            "REVIEW:\n",
            "Director Michael Chaves ramps up the Spielbergian flair in the final act, with a spookhouse run of more playful malevolence than perfunctory motion. But after two acts of overly telegraphed terror, you just don't fear the weeper.\n",
            "True type: Rotten\n",
            "Prediction: Rotten\n",
            "REVIEW:\n",
            "The thing is an unadulterated mess. The moments of entertainment that you get...get drowned in all the other detritus that Bay brings to the table.\n",
            "True type: Rotten\n",
            "Prediction: Rotten\n",
            "REVIEW:\n",
            "Dakota Fanning stars in a coming-of-age whose greatest freshness lies in the tribute to Star Trek and Spock as instruments to talk about autism. [Full Review in Spanish]\n",
            "True type: Fresh\n",
            "Prediction: Fresh\n",
            "REVIEW:\n",
            "A witless realization of a promising supernatural premise suggests that a few people involved with the movie don't have a particular talent for it.\n",
            "True type: Rotten\n",
            "Prediction: Rotten\n",
            "REVIEW:\n",
            "Kites morphs into an action picture, complete with unfathomable chase scenes and a Thelma & Louise ending that is laugh-out-loud hilarious.\n",
            "True type: Rotten\n",
            "Prediction: Rotten\n",
            "REVIEW:\n",
            "Forget about beasts and lions, this is Disney's greatest animated achievement of the 1990s.\n",
            "True type: Fresh\n",
            "Prediction: Fresh\n",
            "REVIEW:\n",
            "The story had no guts and cheated the audience with such insanely coincidental plot twists that made me to fight to stay in my seat.\n",
            "True type: Rotten\n",
            "Prediction: Rotten\n",
            "REVIEW:\n",
            "The fantasy elements are intriguing, but the high concept premise is left with the majority of its greatness buried underneath the surface.\n",
            "True type: Rotten\n",
            "Prediction: Fresh\n",
            "REVIEW:\n",
            "Claustrophobic, eccentric, and at times downright incoherent, this film is oddly compelling in a warped sort of way.\n",
            "True type: Rotten\n",
            "Prediction: Rotten\n",
            "REVIEW:\n",
            "Once Meat turns up the heat it's hard to look away, although plugging your ears is always an option.\n",
            "True type: Rotten\n",
            "Prediction: Rotten\n",
            "REVIEW:\n",
            "Idealism is admirable, but Moore's simplification of the potential solutions to complex national crises is ultimately naive; challenging hegemonic infrastructure and national discourse requires a little more than a few nice ideas haphazardly presented.\n",
            "True type: Fresh\n",
            "Prediction: Fresh\n",
            "REVIEW:\n",
            "The overall tone of the film is jaunty, almost upbeat, the atmosphere that of an end-of-season trip with a lot of explosions.\n",
            "True type: Rotten\n",
            "Prediction: Fresh\n",
            "REVIEW:\n",
            "Good Boy! is in that mid-range of family films that kids will like and that parents will enjoy rather than endure.\n",
            "True type: Fresh\n",
            "Prediction: Fresh\n",
            "REVIEW:\n",
            "This is a movie with no wit, no imagination, and no laughs throughout its two tedious hours.\n",
            "True type: Rotten\n",
            "Prediction: Rotten\n",
            "REVIEW:\n",
            "Bridges (gorgeous and effortlessly leftfield) has saved many a dire film. He tries to hold the fort but it just can't be done.\n",
            "True type: Rotten\n",
            "Prediction: Fresh\n"
          ]
        }
      ],
      "source": [
        "reviews = pd.read_csv(ROOT / \"clean_reviews.csv\")\n",
        "reviews = reviews.sample(50)\n",
        "print(reviews.columns)\n",
        "# print(reviews)\n",
        "for r in reviews.iterrows():\n",
        "    _, r = r\n",
        "    review_type, review_score, review_content = r\n",
        "    # print(r)eview_type, review_score, review_content = r\n",
        "    print('REVIEW:')\n",
        "    print(review_content)\n",
        "    print('True type:', 'Rotten' if review_type == 0 else 'Fresh')\n",
        "    print('Prediction:', custom_test(bert_binary, preprocess_text(review_content)))\n"
      ]
    }
  ],
  "metadata": {
    "accelerator": "GPU",
    "colab": {
      "provenance": []
    },
    "gpuClass": "standard",
    "kernelspec": {
      "display_name": "Python 3",
      "name": "python3"
    },
    "language_info": {
      "name": "python"
    }
  },
  "nbformat": 4,
  "nbformat_minor": 0
}
