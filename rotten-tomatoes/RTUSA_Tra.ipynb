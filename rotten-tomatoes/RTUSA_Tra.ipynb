{
  "cells": [
    {
      "cell_type": "code",
      "execution_count": null,
      "metadata": {},
      "outputs": [],
      "source": [
        "# ========================================= #\n",
        "# ============ DISCLAIMER ================= #\n",
        "# ========================================= #\n",
        "\n",
        "# Big part of the code used for this sentiment analysis\n",
        "# is taken from the code provided during the lectures of the course \n",
        "#            \"DEEP LEARNING (2022)\" \n",
        "# taken at \n",
        "# \n",
        "#             UNIVERSITA' DEGLI STUDI DI BRESCIA \n",
        "#             ( https://www.unibs.it/it )\n",
        "# \n",
        "# taught by   PROF. IVAN SERINA\n",
        "#             ( https://ivan-serina.unibs.it )\n",
        "\n",
        "# In particular, \n",
        "#  - the code used to define the model on top of BERT\n",
        "#  - the function preprocessing_for_bert(data, max_len)"
      ]
    },
    {
      "cell_type": "code",
      "execution_count": 1,
      "metadata": {
        "colab": {
          "base_uri": "https://localhost:8080/"
        },
        "id": "tK4FYS7XJ4v1",
        "outputId": "fa505b7e-7602-4873-ced8-4b5dad4be4e7"
      },
      "outputs": [
        {
          "name": "stdout",
          "output_type": "stream",
          "text": [
            "Mounted at /content/drive\n"
          ]
        }
      ],
      "source": [
        "from google.colab import drive\n",
        "drive.mount('/content/drive')"
      ]
    },
    {
      "cell_type": "code",
      "execution_count": 2,
      "metadata": {
        "id": "XhjHEd5IKdzm"
      },
      "outputs": [],
      "source": [
        "from pathlib import Path\n",
        "ROOT = Path('/content/drive/MyDrive/universite-paris-saclay/nlp/rottentomatoes')"
      ]
    },
    {
      "cell_type": "code",
      "execution_count": 3,
      "metadata": {
        "colab": {
          "base_uri": "https://localhost:8080/"
        },
        "id": "FFVSzdeOKqsA",
        "outputId": "8e65265d-bbb9-4efb-ff7b-8727a1e188a6"
      },
      "outputs": [
        {
          "name": "stdout",
          "output_type": "stream",
          "text": [
            "Looking in indexes: https://pypi.org/simple, https://us-python.pkg.dev/colab-wheels/public/simple/\n",
            "Collecting transformers\n",
            "  Downloading transformers-4.26.1-py3-none-any.whl (6.3 MB)\n",
            "\u001b[2K     \u001b[90m━━━━━━━━━━━━━━━━━━━━━━━━━━━━━━━━━━━━━━━━\u001b[0m \u001b[32m6.3/6.3 MB\u001b[0m \u001b[31m55.1 MB/s\u001b[0m eta \u001b[36m0:00:00\u001b[0m\n",
            "\u001b[?25hRequirement already satisfied: numpy>=1.17 in /usr/local/lib/python3.8/dist-packages (from transformers) (1.22.4)\n",
            "Requirement already satisfied: requests in /usr/local/lib/python3.8/dist-packages (from transformers) (2.25.1)\n",
            "Collecting huggingface-hub<1.0,>=0.11.0\n",
            "  Downloading huggingface_hub-0.12.1-py3-none-any.whl (190 kB)\n",
            "\u001b[2K     \u001b[90m━━━━━━━━━━━━━━━━━━━━━━━━━━━━━━━━━━━━━━\u001b[0m \u001b[32m190.3/190.3 KB\u001b[0m \u001b[31m23.2 MB/s\u001b[0m eta \u001b[36m0:00:00\u001b[0m\n",
            "\u001b[?25hRequirement already satisfied: tqdm>=4.27 in /usr/local/lib/python3.8/dist-packages (from transformers) (4.64.1)\n",
            "Requirement already satisfied: regex!=2019.12.17 in /usr/local/lib/python3.8/dist-packages (from transformers) (2022.6.2)\n",
            "Collecting tokenizers!=0.11.3,<0.14,>=0.11.1\n",
            "  Downloading tokenizers-0.13.2-cp38-cp38-manylinux_2_17_x86_64.manylinux2014_x86_64.whl (7.6 MB)\n",
            "\u001b[2K     \u001b[90m━━━━━━━━━━━━━━━━━━━━━━━━━━━━━━━━━━━━━━━━\u001b[0m \u001b[32m7.6/7.6 MB\u001b[0m \u001b[31m73.6 MB/s\u001b[0m eta \u001b[36m0:00:00\u001b[0m\n",
            "\u001b[?25hRequirement already satisfied: pyyaml>=5.1 in /usr/local/lib/python3.8/dist-packages (from transformers) (6.0)\n",
            "Requirement already satisfied: packaging>=20.0 in /usr/local/lib/python3.8/dist-packages (from transformers) (23.0)\n",
            "Requirement already satisfied: filelock in /usr/local/lib/python3.8/dist-packages (from transformers) (3.9.0)\n",
            "Requirement already satisfied: typing-extensions>=3.7.4.3 in /usr/local/lib/python3.8/dist-packages (from huggingface-hub<1.0,>=0.11.0->transformers) (4.5.0)\n",
            "Requirement already satisfied: chardet<5,>=3.0.2 in /usr/local/lib/python3.8/dist-packages (from requests->transformers) (4.0.0)\n",
            "Requirement already satisfied: urllib3<1.27,>=1.21.1 in /usr/local/lib/python3.8/dist-packages (from requests->transformers) (1.26.14)\n",
            "Requirement already satisfied: certifi>=2017.4.17 in /usr/local/lib/python3.8/dist-packages (from requests->transformers) (2022.12.7)\n",
            "Requirement already satisfied: idna<3,>=2.5 in /usr/local/lib/python3.8/dist-packages (from requests->transformers) (2.10)\n",
            "Installing collected packages: tokenizers, huggingface-hub, transformers\n",
            "Successfully installed huggingface-hub-0.12.1 tokenizers-0.13.2 transformers-4.26.1\n"
          ]
        }
      ],
      "source": [
        "!pip install transformers"
      ]
    },
    {
      "cell_type": "code",
      "execution_count": 4,
      "metadata": {
        "id": "UFU4HTYUK5EA"
      },
      "outputs": [],
      "source": [
        "from pathlib import Path\n",
        "from gensim.models import Word2Vec\n",
        "from nltk.tokenize import word_tokenize\n",
        "from nltk.corpus import stopwords\n",
        "from nltk.stem import WordNetLemmatizer\n",
        "from sklearn.decomposition import PCA\n",
        "from wordcloud import WordCloud\n",
        "from transformers import BertModel, BertTokenizer\n",
        "from sklearn.metrics import accuracy_score\n",
        "from torch.utils.data import TensorDataset, Dataset, DataLoader, random_split\n",
        "from torch.utils.data import TensorDataset, DataLoader, RandomSampler, SequentialSampler\n",
        "\n",
        "\n",
        "import matplotlib.pyplot as plt\n",
        "import re\n",
        "import pandas as pd\n",
        "import numpy as np\n",
        "import matplotlib.pyplot as plt\n",
        "import seaborn as sns\n",
        "import random\n",
        "import nltk\n",
        "import gensim\n",
        "import torch\n",
        "import torch.nn as nn\n",
        "\n",
        "import numpy as np\n",
        "import matplotlib.pyplot as plt\n",
        "from sklearn.metrics import confusion_matrix, accuracy_score, precision_score, recall_score, f1_score\n",
        "from sklearn.metrics import mean_squared_error, mean_absolute_error, r2_score\n",
        "from sklearn.metrics import classification_report\n",
        "from sklearn.model_selection import train_test_split"
      ]
    },
    {
      "cell_type": "code",
      "execution_count": 8,
      "metadata": {
        "colab": {
          "base_uri": "https://localhost:8080/",
          "height": 113,
          "referenced_widgets": [
            "e8c00d7fb92c4ad491b6b04e892f330b",
            "9ae195bd62e94889b3bd835483ffb5e1",
            "a08923c56ac04996a7ac6c379ac51d1d",
            "c0e3545f23474bc19c15e58e312586cf",
            "6a22d1ccc933452182365bb993d5b4d7",
            "0a03f25e7a824b828307bd80ea6cad8b",
            "ffe4f4db5b6c4ea2bb0259456ee0b833",
            "c1163e32065c4295b6e754f87c0fba87",
            "e58c3abad32e4df0b3f17f4b644278d8",
            "daa4b1034cae4c7c81cb13072094be0e",
            "d27bf8033bb146c3b34fa1cdfdeb0fda",
            "e26bf56e808a4713b824e302dc651b01",
            "e2b75d9ef2134d138cf849c7bde47444",
            "2c005b62dcde44c6b171c62788badc8a",
            "9bd59c11c0cc4dc1b92505eb1e88ce9f",
            "76ea12a562fd4ce6ad6d12026cac4a9c",
            "2fb2df8c88c445a0bab227a3fdbb7aa0",
            "6f558511508f450bb31ade1e6572c818",
            "9c3101320fd14ef18d399de51c752730",
            "cc04b989186e42cb8434e6eb4c76994a",
            "440a732ba26143778db83fc20ae7ffb7",
            "32fc92f45ad841f5847bcc76f8abfb0b",
            "0158b100dbe5415780bbe25b424b81e5",
            "0a49afce2be54d34aff0bc8dcb757843",
            "7c171dcf4b1040cb8c5458568d94d29d",
            "acb21867c011494d8e4989521596ed45",
            "40eb1f8364c0466f84283fa1c8c94520",
            "5f1734f799ea43f88deaec3cb691eede",
            "7db1251d81f641c1983622d239a403e3",
            "6fe564f51c8d4c09aca554c4fdb4fa8e",
            "c403b1ae631d4f23bc7cfae3b43629e2",
            "2a7591855be84d7eb678c21f7bfa277f",
            "bd73dd4b9b044bd39bc3eecb0f837fb0"
          ]
        },
        "id": "plwtLRR1LkMz",
        "outputId": "7c006fb8-280f-4470-d681-90b07148452e"
      },
      "outputs": [
        {
          "data": {
            "application/vnd.jupyter.widget-view+json": {
              "model_id": "e8c00d7fb92c4ad491b6b04e892f330b",
              "version_major": 2,
              "version_minor": 0
            },
            "text/plain": [
              "Downloading (…)solve/main/vocab.txt:   0%|          | 0.00/232k [00:00<?, ?B/s]"
            ]
          },
          "metadata": {},
          "output_type": "display_data"
        },
        {
          "data": {
            "application/vnd.jupyter.widget-view+json": {
              "model_id": "e26bf56e808a4713b824e302dc651b01",
              "version_major": 2,
              "version_minor": 0
            },
            "text/plain": [
              "Downloading (…)okenizer_config.json:   0%|          | 0.00/28.0 [00:00<?, ?B/s]"
            ]
          },
          "metadata": {},
          "output_type": "display_data"
        },
        {
          "data": {
            "application/vnd.jupyter.widget-view+json": {
              "model_id": "0158b100dbe5415780bbe25b424b81e5",
              "version_major": 2,
              "version_minor": 0
            },
            "text/plain": [
              "Downloading (…)lve/main/config.json:   0%|          | 0.00/570 [00:00<?, ?B/s]"
            ]
          },
          "metadata": {},
          "output_type": "display_data"
        }
      ],
      "source": [
        "tokenizer = BertTokenizer.from_pretrained('bert-base-uncased')"
      ]
    },
    {
      "cell_type": "code",
      "execution_count": 5,
      "metadata": {
        "id": "DUsNZPhuM0rR"
      },
      "outputs": [],
      "source": [
        "RANDOM_STATE = 2023\n",
        "\n",
        "TEST_SIZE = 0.2\n",
        "VALIDATION_SIZE = 0.2"
      ]
    },
    {
      "cell_type": "code",
      "execution_count": 6,
      "metadata": {
        "id": "YsFx0vUcLfte"
      },
      "outputs": [],
      "source": [
        "# ========================================= #\n",
        "# ============ DISCLAIMER ================= #\n",
        "# ========================================= #\n",
        "\n",
        "# This content is taken from the code provided during the lectures of the course \n",
        "#            \"DEEP LEARNING (2022)\" \n",
        "# taken at \n",
        "# \n",
        "#             UNIVERSITA' DEGLI STUDI DI BRESCIA \n",
        "#             ( https://www.unibs.it/it )\n",
        "# \n",
        "# taught by   PROF. IVAN SERINA\n",
        "#             ( https://ivan-serina.unibs.it )\n",
        "\n",
        "\n",
        "# Create a function to tokenize a set of texts\n",
        "def preprocessing_for_bert(data, max_len):\n",
        "    \"\"\"Perform required preprocessing steps for pretrained BERT.\n",
        "    @param    data (np.array): Array of texts to be processed.\n",
        "    @return   input_ids (torch.Tensor): Tensor of token ids to be fed to a model.\n",
        "    @return   attention_masks (torch.Tensor): Tensor of indices specifying which\n",
        "                  tokens should be attended to by the model.\n",
        "    \"\"\"\n",
        "    # Create empty lists to store outputs\n",
        "    input_ids = []\n",
        "    attention_masks = []\n",
        "\n",
        "    # For every sentence...\n",
        "    for sent in data:\n",
        "        # `encode_plus` will:\n",
        "        #    (1) Tokenize the sentence\n",
        "        #    (2) Add the `[CLS]` and `[SEP]` token to the start and end\n",
        "        #    (3) Truncate/Pad sentence to max length\n",
        "        #    (4) Map tokens to their IDs\n",
        "        #    (5) Create attention mask\n",
        "        #    (6) Return a dictionary of outputs\n",
        "        encoded_sent = tokenizer.encode_plus(\n",
        "            text = sent,  # Preprocess sentence\n",
        "            add_special_tokens=True,        # Add `[CLS]` and `[SEP]`\n",
        "            max_length=max_len,                  # Max length to truncate/pad\n",
        "            pad_to_max_length=True,         # Pad sentence to max length\n",
        "            #return_tensors='pt',           # Return PyTorch tensor\n",
        "            return_attention_mask=True      # Return attention mask\n",
        "            )\n",
        "        \n",
        "        # Add the outputs to the lists\n",
        "        input_ids.append(encoded_sent.get('input_ids'))\n",
        "        attention_masks.append(encoded_sent.get('attention_mask'))\n",
        "\n",
        "    # Convert lists to tensors\n",
        "    input_ids = torch.tensor(input_ids)\n",
        "    attention_masks = torch.tensor(attention_masks)\n",
        "\n",
        "    return input_ids, attention_masks"
      ]
    },
    {
      "cell_type": "markdown",
      "metadata": {
        "id": "KDu77ivJLs7_"
      },
      "source": [
        "TASKS:\n",
        "- Classification (binary: [Rotten/Fresh])\n",
        "- Regression: [0-5]"
      ]
    },
    {
      "cell_type": "markdown",
      "metadata": {
        "id": "wpsN9BxwMFIS"
      },
      "source": [
        "-----"
      ]
    },
    {
      "cell_type": "markdown",
      "metadata": {
        "id": "x12bX5mhMKTo"
      },
      "source": [
        "# CLASSIFICATION"
      ]
    },
    {
      "cell_type": "code",
      "execution_count": null,
      "metadata": {
        "id": "OcciFV-MMDMC"
      },
      "outputs": [],
      "source": [
        "# REGRESSION"
      ]
    },
    {
      "cell_type": "code",
      "execution_count": 16,
      "metadata": {
        "colab": {
          "base_uri": "https://localhost:8080/"
        },
        "id": "FRAc97OuMmct",
        "outputId": "c8442622-4371-4a00-f2c0-9494b1c74cb9"
      },
      "outputs": [
        {
          "name": "stderr",
          "output_type": "stream",
          "text": [
            "/usr/local/lib/python3.8/dist-packages/transformers/tokenization_utils_base.py:2339: FutureWarning: The `pad_to_max_length` argument is deprecated and will be removed in a future version, use `padding=True` or `padding='longest'` to pad to the longest sequence in the batch, or use `padding='max_length'` to pad to a max length. In this case, you can give a specific length with `max_length` (e.g. `max_length=45`) or leave max_length to None to pad to the maximal input size of the model (e.g. 512 for Bert).\n",
            "  warnings.warn(\n"
          ]
        }
      ],
      "source": [
        "# ========================================= #\n",
        "# ============ DISCLAIMER ================= #\n",
        "# ========================================= #\n",
        "\n",
        "# This content is taken from the code provided during the lectures of the course \n",
        "#            \"DEEP LEARNING (2022)\" \n",
        "# taken at \n",
        "# \n",
        "#             UNIVERSITA' DEGLI STUDI DI BRESCIA \n",
        "#             ( https://www.unibs.it/it )\n",
        "# \n",
        "# taught by   PROF. IVAN SERINA\n",
        "#             ( https://ivan-serina.unibs.it )\n",
        "\n",
        "\n",
        "reviews_df = pd.read_csv(ROOT / \"preprocessed_reviews.csv\")\n",
        "\n",
        "# Sample just a portion of the data\n",
        "perc = 0.99\n",
        "reviews_df = reviews_df.sample(frac=perc, random_state=RANDOM_STATE)\n",
        "\n",
        "X = reviews_df['review_content'].values\n",
        "y = reviews_df['review_type'].values\n",
        "\n",
        "X_train, X_test, y_train, y_test =\\\n",
        "    train_test_split(X, y, test_size=TEST_SIZE, random_state=RANDOM_STATE)\n",
        "\n",
        "X_train, X_val, y_train, y_val =\\\n",
        "    train_test_split(X_train, y_train, test_size=VALIDATION_SIZE, random_state=RANDOM_STATE)\n",
        "\n",
        "# Tokenize the input text\n",
        "\n",
        "# From the histogram we saw that all the reviews\n",
        "# are shorter than 30 tokens.\n",
        "max_len = 30\n",
        "\n",
        "# Run function `preprocessing_for_bert` on the train set, the validation set and the test set\n",
        "train_inputs, train_masks = preprocessing_for_bert(X_train, max_len)\n",
        "val_inputs, val_masks = preprocessing_for_bert(X_val, max_len)\n",
        "test_inputs, test_masks = preprocessing_for_bert(X_test, max_len)\n",
        "\n",
        "# Convert other data types to torch.Tensor\n",
        "train_labels = torch.tensor(y_train)\n",
        "val_labels = torch.tensor(y_val)\n",
        "test_labels = torch.tensor(y_test)\n",
        "\n",
        "# For fine-tuning BERT, it's recommended a batch size of 16 or 32.\n",
        "batch_size = 16\n",
        "\n",
        "# Create the DataLoader for our training set\n",
        "train_data = TensorDataset(train_inputs, train_masks, train_labels)\n",
        "train_sampler = RandomSampler(train_data)\n",
        "train_dataloader = DataLoader(train_data, sampler=train_sampler, batch_size=batch_size)\n",
        "\n",
        "# Create the DataLoader for our validation set\n",
        "val_data = TensorDataset(val_inputs, val_masks, val_labels)\n",
        "val_sampler = SequentialSampler(val_data)\n",
        "val_dataloader = DataLoader(val_data, sampler=val_sampler, batch_size=batch_size)\n",
        "\n",
        "# Create the DataLoader for our test set\n",
        "test_data = TensorDataset(test_inputs, test_masks, test_labels)\n",
        "test_sampler = SequentialSampler(test_data)\n",
        "test_dataloader = DataLoader(test_data, sampler=test_sampler, batch_size=1)"
      ]
    },
    {
      "cell_type": "code",
      "execution_count": 17,
      "metadata": {
        "colab": {
          "base_uri": "https://localhost:8080/"
        },
        "id": "gC0eCfWBN1ry",
        "outputId": "38ff1d9a-fac3-482c-b728-3240dc06f5d0"
      },
      "outputs": [
        {
          "name": "stdout",
          "output_type": "stream",
          "text": [
            "There are 1 GPU(s) available.\n",
            "Device name: Tesla T4\n"
          ]
        }
      ],
      "source": [
        "if torch.cuda.is_available():       \n",
        "    device = torch.device(\"cuda\")\n",
        "    print(f'There are {torch.cuda.device_count()} GPU(s) available.')\n",
        "    print('Device name:', torch.cuda.get_device_name(0))\n",
        "\n",
        "else:\n",
        "    print('No GPU available, using the CPU instead.')\n",
        "    device = torch.device(\"cpu\")"
      ]
    },
    {
      "cell_type": "code",
      "execution_count": 18,
      "metadata": {
        "id": "Oushw3ihN39H"
      },
      "outputs": [],
      "source": [
        "# ========================================= #\n",
        "# ============ DISCLAIMER ================= #\n",
        "# ========================================= #\n",
        "\n",
        "# This content is taken from the code provided during the lectures of the course \n",
        "#            \"DEEP LEARNING (2022)\" \n",
        "# taken at \n",
        "# \n",
        "#             UNIVERSITA' DEGLI STUDI DI BRESCIA \n",
        "#             ( https://www.unibs.it/it )\n",
        "# \n",
        "# taught by   PROF. IVAN SERINA\n",
        "#             ( https://ivan-serina.unibs.it )\n",
        "\n",
        "\n",
        "class BertForSentimentAnalysis(nn.Module):\n",
        "    def __init__(self, freeze_bert=False):\n",
        "        \"\"\"\n",
        "        @param    bert: a BertModel object\n",
        "        @param    classifier: a torch.nn.Module classifier\n",
        "        @param    freeze_bert (bool): Set `False` to fine-tune the BERT model\n",
        "        \"\"\"\n",
        "        super(BertForSentimentAnalysis, self).__init__()\n",
        "        # Specify hidden size of BERT, hidden size of our classifier, and number of labels\n",
        "        \n",
        "        D_in, H, D_out = 768, 100, 2 #The hidden level can be changed to improve the performances!\n",
        "\n",
        "        # Instantiate BERT model\n",
        "        self.bert = BertModel.from_pretrained('bert-base-uncased')\n",
        "\n",
        "        # Instantiate an one-layer feed-forward classifier\n",
        "        self.classifier = nn.Sequential(\n",
        "            nn.Linear(D_in, H),\n",
        "            nn.ReLU(),\n",
        "            nn.Dropout(0.2), #Try to change the dropout value to improve the performances\n",
        "            nn.Linear(H, D_out)\n",
        "        )\n",
        "\n",
        "        # Freeze the BERT model\n",
        "        if freeze_bert:\n",
        "            for param in self.bert.parameters():\n",
        "                param.requires_grad = False\n",
        "\n",
        "    def forward(self, input_ids, attention_mask):\n",
        "        \"\"\"\n",
        "        Feed input to BERT and the classifier to compute logits.\n",
        "        @param    input_ids (torch.Tensor): an input tensor with shape (batch_size,\n",
        "                      max_length)\n",
        "        @param    attention_mask (torch.Tensor): a tensor that hold attention mask\n",
        "                      information with shape (batch_size, max_length)\n",
        "        @return   logits (torch.Tensor): an output tensor with shape (batch_size,\n",
        "                      num_labels)\n",
        "        \"\"\"\n",
        "        # Feed input to BERT\n",
        "        outputs = self.bert(input_ids=input_ids,\n",
        "                            attention_mask=attention_mask)\n",
        "        \n",
        "        # Extract the last hidden state of the token `[CLS]` for classification task\n",
        "        last_hidden_state_cls = outputs[0][:, 0, :]\n",
        "\n",
        "        # Feed input to classifier to compute logits\n",
        "        logits = self.classifier(last_hidden_state_cls)\n",
        "\n",
        "        return logits"
      ]
    },
    {
      "cell_type": "code",
      "execution_count": 19,
      "metadata": {
        "id": "VaOHyW-dQw4s"
      },
      "outputs": [],
      "source": [
        "def train(model, train_dataloader, optimizer, criterion):\n",
        "    model.train()\n",
        "    total_loss, total_acc = 0, 0\n",
        "    for step, batch in enumerate(train_dataloader):\n",
        "        input_ids, attention_mask, labels = tuple(t.to(device) for t in batch)\n",
        "        optimizer.zero_grad()\n",
        "        logits = model(input_ids, attention_mask=attention_mask)\n",
        "        loss = criterion(logits, labels)\n",
        "        loss.backward()\n",
        "        optimizer.step()\n",
        "        total_loss += loss.item()\n",
        "        total_acc += accuracy_score(torch.argmax(logits, axis=1).cpu().numpy(), labels.cpu().numpy())\n",
        "    return total_loss/len(train_dataloader), total_acc/len(train_dataloader)\n",
        "\n",
        "\n",
        "def evaluate(model, val_dataloader, criterion):\n",
        "    model.eval()\n",
        "    total_loss, total_acc = 0, 0\n",
        "    with torch.no_grad():\n",
        "        for step, batch in enumerate(val_dataloader):\n",
        "            input_ids, attention_mask, labels = tuple(t.to(device) for t in batch)\n",
        "            logits = model(input_ids, attention_mask=attention_mask)\n",
        "            loss = criterion(logits, labels)\n",
        "            total_loss += loss.item()\n",
        "            total_acc += accuracy_score(torch.argmax(logits, axis=1).cpu().numpy(), labels.cpu().numpy())\n",
        "    return total_loss/len(val_dataloader), total_acc/len(val_dataloader)"
      ]
    },
    {
      "cell_type": "code",
      "execution_count": 20,
      "metadata": {
        "colab": {
          "base_uri": "https://localhost:8080/"
        },
        "id": "eFbQZpAWQ2n9",
        "outputId": "9a268166-fd96-4df8-e23d-468f7e3843d7"
      },
      "outputs": [
        {
          "name": "stderr",
          "output_type": "stream",
          "text": [
            "Some weights of the model checkpoint at bert-base-uncased were not used when initializing BertModel: ['cls.seq_relationship.weight', 'cls.predictions.transform.dense.weight', 'cls.predictions.transform.LayerNorm.bias', 'cls.predictions.transform.LayerNorm.weight', 'cls.predictions.transform.dense.bias', 'cls.seq_relationship.bias', 'cls.predictions.bias', 'cls.predictions.decoder.weight']\n",
            "- This IS expected if you are initializing BertModel from the checkpoint of a model trained on another task or with another architecture (e.g. initializing a BertForSequenceClassification model from a BertForPreTraining model).\n",
            "- This IS NOT expected if you are initializing BertModel from the checkpoint of a model that you expect to be exactly identical (initializing a BertForSequenceClassification model from a BertForSequenceClassification model).\n"
          ]
        }
      ],
      "source": [
        "model = BertForSentimentAnalysis(freeze_bert=False)\n",
        "model.to(device)\n",
        "\n",
        "optimizer = torch.optim.Adam(model.parameters(), lr=2e-5)\n",
        "criterion = nn.CrossEntropyLoss()"
      ]
    },
    {
      "cell_type": "code",
      "execution_count": 21,
      "metadata": {
        "colab": {
          "base_uri": "https://localhost:8080/"
        },
        "id": "_pWUxwRqRGYX",
        "outputId": "5bb8136e-9877-402d-fd93-f668be5a62a0"
      },
      "outputs": [
        {
          "name": "stdout",
          "output_type": "stream",
          "text": [
            "Epoch 1/5 - Training Loss: 0.5105 - Training Accuracy: 0.7477 - Validation Loss: 0.4096 - Validation Accuracy: 0.8182\n",
            "Epoch 2/5 - Training Loss: 0.3262 - Training Accuracy: 0.8674 - Validation Loss: 0.4464 - Validation Accuracy: 0.8165\n",
            "Epoch 3/5 - Training Loss: 0.1788 - Training Accuracy: 0.9355 - Validation Loss: 0.5295 - Validation Accuracy: 0.8060\n",
            "Epoch 4/5 - Training Loss: 0.0883 - Training Accuracy: 0.9729 - Validation Loss: 0.6971 - Validation Accuracy: 0.8002\n",
            "Epoch 5/5 - Training Loss: 0.0565 - Training Accuracy: 0.9822 - Validation Loss: 0.8365 - Validation Accuracy: 0.7929\n"
          ]
        }
      ],
      "source": [
        "train_losses = []\n",
        "train_accs = []\n",
        "val_losses = []\n",
        "val_accs = []\n",
        "\n",
        "num_epochs = 5\n",
        "for epoch in range(num_epochs):\n",
        "    train_loss, train_acc = train(model, train_dataloader, optimizer, criterion)\n",
        "    val_loss, val_acc = evaluate(model, val_dataloader, criterion)\n",
        "    train_losses.append(train_loss)\n",
        "    train_accs.append(train_acc)\n",
        "    val_losses.append(val_loss)\n",
        "    val_accs.append(val_acc)\n",
        "    print(f'Epoch {epoch+1}/{num_epochs} - Training Loss: {train_loss:.4f} - Training Accuracy: {train_acc:.4f} - Validation Loss: {val_loss:.4f} - Validation Accuracy: {val_acc:.4f}')\n"
      ]
    },
    {
      "cell_type": "code",
      "execution_count": 22,
      "metadata": {
        "colab": {
          "base_uri": "https://localhost:8080/",
          "height": 441
        },
        "id": "aNkaWzzVRruT",
        "outputId": "ba3d061a-851b-41f9-9641-d3221cdcd411"
      },
      "outputs": [
        {
          "data": {
            "image/png": "[encoded data removed]",
            "text/plain": [
              "<Figure size 566.5x432 with 4 Axes>"
            ]
          },
          "metadata": {
            "needs_background": "light"
          },
          "output_type": "display_data"
        }
      ],
      "source": [
        "data = {\n",
        "    'Epoch': range(1, num_epochs+1),\n",
        "    'Training Loss': train_losses,\n",
        "    'Training Accuracy': train_accs,\n",
        "    'Validation Loss': val_losses,\n",
        "    'Validation Accuracy': val_accs\n",
        "}\n",
        "\n",
        "trends = pd.DataFrame(data)\n",
        "\n",
        "trends = trends.melt(id_vars=['Epoch'], var_name='Metric', value_name='Value')\n",
        "\n",
        "# Create a facet grid with subplots for each metric\n",
        "g = sns.FacetGrid(trends, col='Metric', hue='Metric', col_wrap=2, sharey=False)\n",
        "g.map(sns.lineplot, 'Epoch', 'Value')\n",
        "\n",
        "# Set the axis labels and legend\n",
        "g.set_axis_labels('Epoch', 'Value')\n",
        "g.add_legend()\n",
        "\n",
        "# Show the plot\n",
        "plt.show()"
      ]
    },
    {
      "cell_type": "code",
      "execution_count": 23,
      "metadata": {
        "id": "yDnvYgHrR_9T"
      },
      "outputs": [],
      "source": [
        "torch.save(model.state_dict(), ROOT / \"unibs-binary-nofreeze.pth\")"
      ]
    },
    {
      "cell_type": "code",
      "execution_count": 25,
      "metadata": {
        "colab": {
          "base_uri": "https://localhost:8080/"
        },
        "id": "fs55gX8-SGS8",
        "outputId": "c2b8eb97-92ca-4707-9ce7-86eb2e12805d"
      },
      "outputs": [
        {
          "name": "stderr",
          "output_type": "stream",
          "text": [
            "Some weights of the model checkpoint at bert-base-uncased were not used when initializing BertModel: ['cls.seq_relationship.weight', 'cls.predictions.transform.dense.weight', 'cls.predictions.transform.LayerNorm.bias', 'cls.predictions.transform.LayerNorm.weight', 'cls.predictions.transform.dense.bias', 'cls.seq_relationship.bias', 'cls.predictions.bias', 'cls.predictions.decoder.weight']\n",
            "- This IS expected if you are initializing BertModel from the checkpoint of a model trained on another task or with another architecture (e.g. initializing a BertForSequenceClassification model from a BertForPreTraining model).\n",
            "- This IS NOT expected if you are initializing BertModel from the checkpoint of a model that you expect to be exactly identical (initializing a BertForSequenceClassification model from a BertForSequenceClassification model).\n"
          ]
        },
        {
          "data": {
            "text/plain": [
              "<All keys matched successfully>"
            ]
          },
          "execution_count": 25,
          "metadata": {},
          "output_type": "execute_result"
        }
      ],
      "source": [
        "bert_classification = BertForSentimentAnalysis()\n",
        "bert_classification.load_state_dict(torch.load(ROOT / \"unibs-binary-nofreeze.pth\"))"
      ]
    },
    {
      "cell_type": "code",
      "execution_count": null,
      "metadata": {
        "id": "whgksm89YWlE"
      },
      "outputs": [],
      "source": [
        "bert_classification.to(device)"
      ]
    },
    {
      "cell_type": "code",
      "execution_count": 27,
      "metadata": {
        "id": "cZaz2rb3YxjR"
      },
      "outputs": [],
      "source": [
        "def predict(model, val_dataloader):\n",
        "    \"\"\"After the completion of each training epoch, measure the model's performance\n",
        "    on our validation set.\n",
        "    \"\"\"\n",
        "    # Put the model into the evaluation mode. The dropout layers are disabled during\n",
        "    # the test time.\n",
        "    model.eval()\n",
        "    predictions=[]\n",
        "    # Tracking variables\n",
        "    # For each batch in our validation set...\n",
        "    for batch in val_dataloader:\n",
        "        # Load batch to GPU\n",
        "        b_input_ids, b_attn_mask, b_labels = tuple(t.to(device) for t in batch)\n",
        "\n",
        "        # Compute logits\n",
        "        with torch.no_grad():\n",
        "            logits = model(b_input_ids, b_attn_mask)\n",
        "\n",
        "        # Get the predictions\n",
        "        preds = torch.argmax(logits, dim=1).flatten()\n",
        "        predictions.append(int(preds.detach().cpu().numpy()))\n",
        "\n",
        "    return predictions"
      ]
    },
    {
      "cell_type": "code",
      "execution_count": 28,
      "metadata": {
        "colab": {
          "base_uri": "https://localhost:8080/"
        },
        "id": "W6G4qVR-Y4T1",
        "outputId": "8bc0e595-4571-4d76-c014-a288e1eb5bb9"
      },
      "outputs": [
        {
          "name": "stdout",
          "output_type": "stream",
          "text": [
            "              precision    recall  f1-score   support\n",
            "\n",
            "           0       0.75      0.90      0.82      1181\n",
            "           1       0.87      0.68      0.76      1112\n",
            "\n",
            "    accuracy                           0.79      2293\n",
            "   macro avg       0.81      0.79      0.79      2293\n",
            "weighted avg       0.81      0.79      0.79      2293\n",
            "\n"
          ]
        }
      ],
      "source": [
        "predictions = predict(bert_classification, test_dataloader)\n",
        "print(classification_report(y_test, predictions))"
      ]
    },
    {
      "cell_type": "markdown",
      "metadata": {
        "id": "u7gaBzsfMO_P"
      },
      "source": [
        "# REGRESSION"
      ]
    },
    {
      "cell_type": "code",
      "execution_count": 30,
      "metadata": {
        "id": "MkwTr_YxLIkY"
      },
      "outputs": [],
      "source": [
        "# REGRESSION TASK\n",
        "reviews_df = pd.read_csv(ROOT / \"regression_reviews.csv\")\n",
        "\n",
        "# First we need to rescale the values from [0,5] to [0,1]\n",
        "reviews_df['review_score'] = reviews_df['review_score'] / 5.0"
      ]
    },
    {
      "cell_type": "code",
      "execution_count": 31,
      "metadata": {
        "colab": {
          "base_uri": "https://localhost:8080/"
        },
        "id": "HxCWOEWrTMw_",
        "outputId": "af311a19-b3fc-4070-d148-b4a08a6b902e"
      },
      "outputs": [
        {
          "name": "stderr",
          "output_type": "stream",
          "text": [
            "/usr/local/lib/python3.8/dist-packages/transformers/tokenization_utils_base.py:2339: FutureWarning: The `pad_to_max_length` argument is deprecated and will be removed in a future version, use `padding=True` or `padding='longest'` to pad to the longest sequence in the batch, or use `padding='max_length'` to pad to a max length. In this case, you can give a specific length with `max_length` (e.g. `max_length=45`) or leave max_length to None to pad to the maximal input size of the model (e.g. 512 for Bert).\n",
            "  warnings.warn(\n"
          ]
        }
      ],
      "source": [
        "# ========================================= #\n",
        "# ============ DISCLAIMER ================= #\n",
        "# ========================================= #\n",
        "\n",
        "# This content is taken from the code provided during the lectures of the course \n",
        "#            \"DEEP LEARNING (2022)\" \n",
        "# taken at \n",
        "# \n",
        "#             UNIVERSITA' DEGLI STUDI DI BRESCIA \n",
        "#             ( https://www.unibs.it/it )\n",
        "# \n",
        "# taught by   PROF. IVAN SERINA\n",
        "#             ( https://ivan-serina.unibs.it )\n",
        "\n",
        "\n",
        "\n",
        "# Sample just a portion of the data\n",
        "perc = 0.25\n",
        "reviews_df = reviews_df.sample(frac=perc, random_state=RANDOM_STATE)\n",
        "\n",
        "X = reviews_df['review_content'].values\n",
        "y = reviews_df['review_score'].values\n",
        "\n",
        "X_train, X_test, y_train, y_test =\\\n",
        "    train_test_split(X, y, test_size=TEST_SIZE, random_state=RANDOM_STATE)\n",
        "\n",
        "X_train, X_val, y_train, y_val =\\\n",
        "    train_test_split(X_train, y_train, test_size=VALIDATION_SIZE, random_state=RANDOM_STATE)\n",
        "\n",
        "# Tokenize the input text\n",
        "\n",
        "max_len = 30\n",
        "\n",
        "# Run function `preprocessing_for_bert` on the train set, the validation set and the test set\n",
        "train_inputs, train_masks = preprocessing_for_bert(X_train, max_len)\n",
        "val_inputs, val_masks = preprocessing_for_bert(X_val, max_len)\n",
        "test_inputs, test_masks = preprocessing_for_bert(X_test, max_len)\n",
        "\n",
        "# Convert other data types to torch.Tensor\n",
        "train_labels = torch.tensor(y_train)\n",
        "val_labels = torch.tensor(y_val)\n",
        "test_labels = torch.tensor(y_test)\n",
        "\n",
        "# For fine-tuning BERT, it's recommended a batch size of 16 or 32.\n",
        "batch_size = 16\n",
        "\n",
        "# Create the DataLoader for our training set\n",
        "train_data = TensorDataset(train_inputs, train_masks, train_labels)\n",
        "train_sampler = RandomSampler(train_data)\n",
        "train_dataloader = DataLoader(train_data, sampler=train_sampler, batch_size=batch_size)\n",
        "\n",
        "# Create the DataLoader for our validation set\n",
        "val_data = TensorDataset(val_inputs, val_masks, val_labels)\n",
        "val_sampler = SequentialSampler(val_data)\n",
        "val_dataloader = DataLoader(val_data, sampler=val_sampler, batch_size=batch_size)\n",
        "\n",
        "# Create the DataLoader for our test set\n",
        "test_data = TensorDataset(test_inputs, test_masks, test_labels)\n",
        "test_sampler = SequentialSampler(test_data)\n",
        "test_dataloader = DataLoader(test_data, sampler=test_sampler, batch_size=1)"
      ]
    },
    {
      "cell_type": "code",
      "execution_count": 35,
      "metadata": {
        "id": "S6OfKezCVJry"
      },
      "outputs": [],
      "source": [
        "# ========================================= #\n",
        "# ============ DISCLAIMER ================= #\n",
        "# ========================================= #\n",
        "\n",
        "# This content is taken from the code provided during the lectures of the course \n",
        "#            \"DEEP LEARNING (2022)\" \n",
        "# taken at \n",
        "# \n",
        "#             UNIVERSITA' DEGLI STUDI DI BRESCIA \n",
        "#             ( https://www.unibs.it/it )\n",
        "# \n",
        "# taught by   PROF. IVAN SERINA\n",
        "#             ( https://ivan-serina.unibs.it )\n",
        "\n",
        "\n",
        "class BertForSentimentRegression(nn.Module):\n",
        "    def __init__(self, freeze_bert=False):\n",
        "        \"\"\"\n",
        "        @param    bert: a BertModel object\n",
        "        @param    classifier: a torch.nn.Module classifier\n",
        "        @param    freeze_bert (bool): Set `False` to fine-tune the BERT model\n",
        "        \"\"\"\n",
        "        super(BertForSentimentRegression, self).__init__()\n",
        "        # Specify hidden size of BERT, hidden size of our classifier, and number of labels\n",
        "        \n",
        "        D_in, H, D_out = 768, 100, 1 #The hidden level can be changed to improve the performances!\n",
        "\n",
        "        # Instantiate BERT model\n",
        "        self.bert = BertModel.from_pretrained('bert-base-uncased')\n",
        "\n",
        "        # Instantiate an one-layer feed-forward classifier\n",
        "        self.regressor = nn.Sequential(\n",
        "            nn.Linear(D_in, H),\n",
        "            nn.ReLU(),\n",
        "            nn.Dropout(0.2), #Try to change the dropout value to improve the performances\n",
        "            nn.Linear(H, D_out)\n",
        "        )\n",
        "\n",
        "        self.double()\n",
        "\n",
        "        # Freeze the BERT model\n",
        "        if freeze_bert:\n",
        "            for param in self.bert.parameters():\n",
        "                param.requires_grad = False\n",
        "\n",
        "    def forward(self, input_ids, attention_mask):\n",
        "        \"\"\"\n",
        "        Feed input to BERT and the classifier to compute logits.\n",
        "        @param    input_ids (torch.Tensor): an input tensor with shape (batch_size,\n",
        "                      max_length)\n",
        "        @param    attention_mask (torch.Tensor): a tensor that hold attention mask\n",
        "                      information with shape (batch_size, max_length)\n",
        "        @return   logits (torch.Tensor): an output tensor with shape (batch_size,\n",
        "                      num_labels)\n",
        "        \"\"\"\n",
        "        # Feed input to BERT\n",
        "        outputs = self.bert(input_ids=input_ids,\n",
        "                            attention_mask=attention_mask)\n",
        "        \n",
        "        # Extract the last hidden state of the token `[CLS]` for classification task\n",
        "        last_hidden_state_cls = outputs[0][:, 0, :]\n",
        "\n",
        "        # Feed input to classifier to compute logits\n",
        "        regression_output = self.regressor(last_hidden_state_cls)\n",
        "\n",
        "        return regression_output.squeeze(-1)"
      ]
    },
    {
      "cell_type": "code",
      "execution_count": 33,
      "metadata": {
        "id": "ujqUxWa6XGtE"
      },
      "outputs": [],
      "source": [
        "def train(model, train_dataloader, optimizer, criterion, device):\n",
        "    model.train()\n",
        "    epoch_loss = 0\n",
        "    for i, batch in enumerate(train_dataloader):\n",
        "        input_ids, attention_mask, labels = tuple(t.to(device) for t in batch)\n",
        "        # input_ids = batch['input_ids'].to(device)\n",
        "        # attention_mask = batch['attention_mask'].to(device)\n",
        "        # labels = batch['label'].to(device)\n",
        "\n",
        "        optimizer.zero_grad()\n",
        "        outputs = model(input_ids, attention_mask=attention_mask)\n",
        "        loss = criterion(outputs, labels)\n",
        "        loss.backward()\n",
        "        optimizer.step()\n",
        "\n",
        "        epoch_loss += loss.item()\n",
        "\n",
        "    return epoch_loss / len(train_dataloader)\n",
        "\n",
        "\n",
        "def evaluate(model, val_dataloader, criterion, device):\n",
        "    model.eval()\n",
        "    epoch_loss = 0\n",
        "    with torch.no_grad():\n",
        "        for i, batch in enumerate(val_dataloader):\n",
        "            input_ids, attention_mask, labels = tuple(t.to(device) for t in batch)\n",
        "\n",
        "            outputs = model(input_ids, attention_mask=attention_mask)\n",
        "            loss = criterion(outputs, labels)\n",
        "\n",
        "            epoch_loss += loss.item()\n",
        "\n",
        "    return epoch_loss / len(val_dataloader)\n"
      ]
    },
    {
      "cell_type": "code",
      "execution_count": 37,
      "metadata": {
        "colab": {
          "base_uri": "https://localhost:8080/"
        },
        "id": "cgQk9kOVXNNP",
        "outputId": "2e5831a8-fcb2-41ef-873a-4d02dc0614d4"
      },
      "outputs": [
        {
          "name": "stderr",
          "output_type": "stream",
          "text": [
            "Some weights of the model checkpoint at bert-base-uncased were not used when initializing BertModel: ['cls.seq_relationship.weight', 'cls.predictions.transform.dense.weight', 'cls.predictions.transform.LayerNorm.bias', 'cls.predictions.transform.LayerNorm.weight', 'cls.predictions.transform.dense.bias', 'cls.seq_relationship.bias', 'cls.predictions.bias', 'cls.predictions.decoder.weight']\n",
            "- This IS expected if you are initializing BertModel from the checkpoint of a model trained on another task or with another architecture (e.g. initializing a BertForSequenceClassification model from a BertForPreTraining model).\n",
            "- This IS NOT expected if you are initializing BertModel from the checkpoint of a model that you expect to be exactly identical (initializing a BertForSequenceClassification model from a BertForSequenceClassification model).\n"
          ]
        },
        {
          "name": "stdout",
          "output_type": "stream",
          "text": [
            "Epoch 1. Train loss: 0.10289. Validation loss: 0.06377\n",
            "Epoch 2. Train loss: 0.05624. Validation loss: 0.06685\n",
            "Epoch 3. Train loss: 0.03671. Validation loss: 0.06877\n",
            "Epoch 4. Train loss: 0.02480. Validation loss: 0.06653\n",
            "Epoch 5. Train loss: 0.01818. Validation loss: 0.06335\n"
          ]
        }
      ],
      "source": [
        "model = BertForSentimentRegression(freeze_bert=False)\n",
        "model.to(device)\n",
        "optimizer = torch.optim.Adam(model.parameters(), lr=2e-5)\n",
        "criterion = nn.MSELoss()\n",
        "\n",
        "train_losses = []\n",
        "val_losses = []\n",
        "\n",
        "num_epochs = 5\n",
        "\n",
        "for epoch in range(num_epochs):\n",
        "    train_loss = train(model, train_dataloader, optimizer, criterion, device)\n",
        "    train_losses.append(train_loss)\n",
        "    val_losses.append(train_loss)\n",
        "    val_loss = evaluate(model, val_dataloader, criterion, device)\n",
        "    print(f\"Epoch {epoch+1}. Train loss: {train_loss:.5f}. Validation loss: {val_loss:.5f}\")\n"
      ]
    },
    {
      "cell_type": "code",
      "execution_count": 38,
      "metadata": {
        "id": "TMXvGzGUXTTJ"
      },
      "outputs": [],
      "source": [
        "torch.save(model.state_dict(), ROOT / \"unibs-regression-nofreeze.pth\")"
      ]
    },
    {
      "cell_type": "code",
      "execution_count": 41,
      "metadata": {
        "colab": {
          "base_uri": "https://localhost:8080/"
        },
        "id": "nf1pNevgYEGv",
        "outputId": "82c27a84-4b44-4c1c-e996-00fe18109ebb"
      },
      "outputs": [
        {
          "name": "stderr",
          "output_type": "stream",
          "text": [
            "Some weights of the model checkpoint at bert-base-uncased were not used when initializing BertModel: ['cls.seq_relationship.weight', 'cls.predictions.transform.dense.weight', 'cls.predictions.transform.LayerNorm.bias', 'cls.predictions.transform.LayerNorm.weight', 'cls.predictions.transform.dense.bias', 'cls.seq_relationship.bias', 'cls.predictions.bias', 'cls.predictions.decoder.weight']\n",
            "- This IS expected if you are initializing BertModel from the checkpoint of a model trained on another task or with another architecture (e.g. initializing a BertForSequenceClassification model from a BertForPreTraining model).\n",
            "- This IS NOT expected if you are initializing BertModel from the checkpoint of a model that you expect to be exactly identical (initializing a BertForSequenceClassification model from a BertForSequenceClassification model).\n"
          ]
        },
        {
          "data": {
            "text/plain": [
              "<All keys matched successfully>"
            ]
          },
          "execution_count": 41,
          "metadata": {},
          "output_type": "execute_result"
        }
      ],
      "source": [
        "bert_regression = BertForSentimentRegression()\n",
        "bert_regression.load_state_dict(torch.load(ROOT / \"unibs-regression-nofreeze.pth\"))"
      ]
    },
    {
      "cell_type": "code",
      "execution_count": null,
      "metadata": {
        "id": "5EwBYhNvYclX"
      },
      "outputs": [],
      "source": [
        "bert_regression.to(device)"
      ]
    },
    {
      "cell_type": "code",
      "execution_count": 43,
      "metadata": {
        "id": "abE-YW4cZHeL"
      },
      "outputs": [],
      "source": [
        "def predict(model, test_dataloader):\n",
        "    model.eval()\n",
        "    predictions = []\n",
        "    with torch.no_grad():\n",
        "        for batch in test_dataloader:\n",
        "            input_ids, attention_mask, _ = tuple(t.to(device) for t in batch)\n",
        "\n",
        "            outputs = model(input_ids, attention_mask=attention_mask)\n",
        "            predictions.extend(outputs.tolist())\n",
        "\n",
        "    return predictions"
      ]
    },
    {
      "cell_type": "code",
      "execution_count": 44,
      "metadata": {
        "colab": {
          "base_uri": "https://localhost:8080/"
        },
        "id": "08qdU-OzZJKe",
        "outputId": "3a07e9bc-e65e-4835-aa0d-103b8b312410"
      },
      "outputs": [
        {
          "name": "stdout",
          "output_type": "stream",
          "text": [
            "MSE: 0.05652\n",
            "RMSE: 0.23775\n",
            "MAE: 0.18043\n",
            "R2: 0.43379\n"
          ]
        }
      ],
      "source": [
        "predictions = predict(model, test_dataloader)\n",
        "targets = y_test\n",
        "\n",
        "mse = mean_squared_error(targets, predictions)\n",
        "rmse = mean_squared_error(targets, predictions, squared=False)\n",
        "mae = mean_absolute_error(targets, predictions)\n",
        "r2 = r2_score(targets, predictions)\n",
        "\n",
        "print(f\"MSE: {mse:.5f}\")\n",
        "print(f\"RMSE: {rmse:.5f}\")\n",
        "print(f\"MAE: {mae:.5f}\")\n",
        "print(f\"R2: {r2:.5f}\")"
      ]
    },
    {
      "cell_type": "code",
      "execution_count": 45,
      "metadata": {
        "id": "T98mfQlYZT5g"
      },
      "outputs": [],
      "source": [
        "# ============================================== #\n",
        "# =============== Manual Testing =============== #\n",
        "# ============================================== #"
      ]
    },
    {
      "cell_type": "code",
      "execution_count": 47,
      "metadata": {
        "colab": {
          "base_uri": "https://localhost:8080/"
        },
        "id": "0HTf2s42ZU5p",
        "outputId": "85879894-ecb4-4df1-e45c-8b448f0829ef"
      },
      "outputs": [
        {
          "name": "stderr",
          "output_type": "stream",
          "text": [
            "Some weights of the model checkpoint at bert-base-uncased were not used when initializing BertModel: ['cls.seq_relationship.weight', 'cls.predictions.transform.dense.weight', 'cls.predictions.transform.LayerNorm.bias', 'cls.predictions.transform.LayerNorm.weight', 'cls.predictions.transform.dense.bias', 'cls.seq_relationship.bias', 'cls.predictions.bias', 'cls.predictions.decoder.weight']\n",
            "- This IS expected if you are initializing BertModel from the checkpoint of a model trained on another task or with another architecture (e.g. initializing a BertForSequenceClassification model from a BertForPreTraining model).\n",
            "- This IS NOT expected if you are initializing BertModel from the checkpoint of a model that you expect to be exactly identical (initializing a BertForSequenceClassification model from a BertForSequenceClassification model).\n",
            "Some weights of the model checkpoint at bert-base-uncased were not used when initializing BertModel: ['cls.seq_relationship.weight', 'cls.predictions.transform.dense.weight', 'cls.predictions.transform.LayerNorm.bias', 'cls.predictions.transform.LayerNorm.weight', 'cls.predictions.transform.dense.bias', 'cls.seq_relationship.bias', 'cls.predictions.bias', 'cls.predictions.decoder.weight']\n",
            "- This IS expected if you are initializing BertModel from the checkpoint of a model trained on another task or with another architecture (e.g. initializing a BertForSequenceClassification model from a BertForPreTraining model).\n",
            "- This IS NOT expected if you are initializing BertModel from the checkpoint of a model that you expect to be exactly identical (initializing a BertForSequenceClassification model from a BertForSequenceClassification model).\n"
          ]
        },
        {
          "data": {
            "text/plain": [
              "<All keys matched successfully>"
            ]
          },
          "execution_count": 47,
          "metadata": {},
          "output_type": "execute_result"
        }
      ],
      "source": [
        "bert_classification = BertForSentimentAnalysis()\n",
        "bert_classification.load_state_dict(torch.load(ROOT / \"unibs-binary-nofreeze.pth\"))\n",
        "\n",
        "bert_regression = BertForSentimentRegression()\n",
        "bert_regression.load_state_dict(torch.load(ROOT / \"unibs-regression-nofreeze.pth\"))"
      ]
    },
    {
      "cell_type": "code",
      "execution_count": 48,
      "metadata": {
        "colab": {
          "base_uri": "https://localhost:8080/"
        },
        "id": "V_HgflkqZlt_",
        "outputId": "c9f445d9-8cae-43e9-80a6-5cff07b8934d"
      },
      "outputs": [
        {
          "name": "stderr",
          "output_type": "stream",
          "text": [
            "[nltk_data] Downloading package punkt to /root/nltk_data...\n",
            "[nltk_data]   Unzipping tokenizers/punkt.zip.\n",
            "[nltk_data] Downloading package wordnet to /root/nltk_data...\n",
            "[nltk_data] Downloading package stopwords to /root/nltk_data...\n",
            "[nltk_data]   Unzipping corpora/stopwords.zip.\n",
            "[nltk_data] Downloading package omw-1.4 to /root/nltk_data...\n"
          ]
        },
        {
          "data": {
            "text/plain": [
              "True"
            ]
          },
          "execution_count": 48,
          "metadata": {},
          "output_type": "execute_result"
        }
      ],
      "source": [
        "nltk.download(\"punkt\")\n",
        "nltk.download(\"wordnet\")\n",
        "nltk.download(\"stopwords\")\n",
        "nltk.download(\"omw-1.4\")"
      ]
    },
    {
      "cell_type": "code",
      "execution_count": 49,
      "metadata": {
        "id": "1cysVZkGZk1X"
      },
      "outputs": [],
      "source": [
        "def preprocess_text(text):\n",
        "    # Removing numerical data or irrelevant characters\n",
        "    text = re.sub(r\"[^a-zA-Z\\s]\", \"\", text)\n",
        "    # Tokenization\n",
        "    tokens = nltk.word_tokenize(text)\n",
        "    # Lowercasing\n",
        "    tokens = [token.lower() for token in tokens]\n",
        "    # Removing stopwords\n",
        "    tokens = [token for token in tokens if token not in stopwords.words(\"english\")]\n",
        "    # Lemmatization\n",
        "    lemmatizer = WordNetLemmatizer()\n",
        "    tokens = [lemmatizer.lemmatize(token) for token in tokens]\n",
        "    # Joining the tokens back to a string\n",
        "    text = \" \".join(tokens)\n",
        "    return text"
      ]
    },
    {
      "cell_type": "code",
      "execution_count": 51,
      "metadata": {
        "id": "gaSQhu22Zv_e"
      },
      "outputs": [],
      "source": [
        "def custom_classification_test(model, text):\n",
        "    inputs = tokenizer(text, return_tensors='pt')\n",
        "    outputs = model(inputs['input_ids'], inputs['attention_mask'])\n",
        "    predicted_class = torch.argmax(outputs[0])\n",
        "    return 'Fresh' if predicted_class == 1 else 'Rotten'"
      ]
    },
    {
      "cell_type": "code",
      "execution_count": 52,
      "metadata": {
        "id": "M0wEa4zeZwu6"
      },
      "outputs": [],
      "source": [
        "def custom_regression_test(model, text):\n",
        "    input = tokenizer(text, return_tensors='pt')\n",
        "    output = model(input['input_ids'], input['attention_mask'])\n",
        "    return output.item() * 5.0"
      ]
    },
    {
      "cell_type": "code",
      "execution_count": 53,
      "metadata": {
        "colab": {
          "base_uri": "https://localhost:8080/"
        },
        "id": "Z2BQHsnJZ1E9",
        "outputId": "d621fc9c-e74a-410c-eb1f-4f2fa1207cd9"
      },
      "outputs": [
        {
          "name": "stdout",
          "output_type": "stream",
          "text": [
            "REVIEW:\n",
            "Aimless, sloppy, low-budget garbage that will prove especially painful to endure for long-time Kevin Smith fans. Where did all that zeitgeist savvy go?\n",
            "True type: Rotten\n",
            "Predicted type: Rotten\n",
            "True score: 0.5\n",
            "Predicted score: 0.8845534412856944\n",
            "REVIEW:\n",
            "[Washington] has a terrific cast at his disposal.\n",
            "True type: Fresh\n",
            "Predicted type: Fresh\n",
            "True score: 3.0\n",
            "Predicted score: 2.2528717417481743\n",
            "REVIEW:\n",
            "My Cousin Rachel belongs to Weisz, in a role that capitalises on her gift for showing multiple layers of emotion.\n",
            "True type: Fresh\n",
            "Predicted type: Fresh\n",
            "True score: 3.0\n",
            "Predicted score: 4.1780365206395675\n",
            "REVIEW:\n",
            "Some of the phallic jokes work, others are really lame. Fortunately there are many other funny bits that have nothing to do with body parts that keep the laughs coming.\n",
            "True type: Fresh\n",
            "Predicted type: Fresh\n",
            "True score: 3.0\n",
            "Predicted score: 1.1828031733351831\n",
            "REVIEW:\n",
            "I think it was after Betty White told Steve Martin's son not to \"wear his hair like a ***\" that I thought about walking out.\n",
            "True type: Rotten\n",
            "Predicted type: Rotten\n",
            "True score: 0.0\n",
            "Predicted score: 0.7969073243371043\n",
            "REVIEW:\n",
            "Apart from some genuine archetypes and myths that find their way into the mix, the film's overflow of half-baked ideas adds up to a cluttered, nondescript, \"Weapon Number XI\"-like mess.\n",
            "True type: Rotten\n",
            "Predicted type: Rotten\n",
            "True score: 2.5\n",
            "Predicted score: 1.70534889507971\n",
            "REVIEW:\n",
            "Galaxy Quest works not just as a parody or a send-up of a type of film. It works as a basic space adventure as well.\n",
            "True type: Fresh\n",
            "Predicted type: Fresh\n",
            "True score: 4.0\n",
            "Predicted score: 1.7194541080021968\n",
            "REVIEW:\n",
            "Not a lot to recommend this sequel.\n",
            "True type: Rotten\n",
            "Predicted type: Rotten\n",
            "True score: 2.0\n",
            "Predicted score: 3.764727791013585\n",
            "REVIEW:\n",
            "Sciamma's work joins a select group of texts that brilliantly thematise the power of the image - either through painting, drawing or photography.\n",
            "True type: Fresh\n",
            "Predicted type: Fresh\n",
            "True score: 4.0\n",
            "Predicted score: 3.8085835376636687\n",
            "REVIEW:\n",
            "Flanagan and Rose prove to be an exceptionally creative and intelligent couple who were able to turn their obsessions into art, albeit of a highly specialized kind and involving at times an overwhelmingly brutal exhibitionism.\n",
            "True type: Fresh\n",
            "Predicted type: Fresh\n",
            "True score: 4.0\n",
            "Predicted score: 4.44992186183083\n",
            "REVIEW:\n",
            "Director Robert Luketic [does] nothing beyond his contractual obligations (which presumably read, \"Um, make a movie, I guess\").\n",
            "True type: Rotten\n",
            "Predicted type: Rotten\n",
            "True score: 1.5\n",
            "Predicted score: 1.0691725965746404\n",
            "REVIEW:\n",
            "Very enjoyable, underrated western.\n",
            "True type: Fresh\n",
            "Predicted type: Fresh\n",
            "True score: 4.0\n",
            "Predicted score: 3.4146435922928164\n",
            "REVIEW:\n",
            "If you want to watch a children's film based on a biblical story, I'm sorry to say that was made 20 years go with a movie called \"The Prince of Egypt.\"\n",
            "True type: Rotten\n",
            "Predicted type: Rotten\n",
            "True score: 1.0\n",
            "Predicted score: 1.909192357019548\n",
            "REVIEW:\n",
            "A valuable though flawed documentary about the international movement to free Tibet from Chinese rule ...\n",
            "True type: Fresh\n",
            "Predicted type: Fresh\n",
            "True score: 3.0\n",
            "Predicted score: 3.4101243173818743\n",
            "REVIEW:\n",
            "Unavoidable classic on a 1950 mine strike, made by McCarthy era blacklisted filmmakers.\n",
            "True type: Fresh\n",
            "Predicted type: Rotten\n",
            "True score: 5.0\n",
            "Predicted score: 0.9159361019978424\n",
            "REVIEW:\n",
            "I haven't gleefully laughed this hard at a dark comedy in a very long time. It's vicious and nasty in the best way.\n",
            "True type: Fresh\n",
            "Predicted type: Rotten\n",
            "True score: 4.0\n",
            "Predicted score: 5.0132622682764305\n",
            "REVIEW:\n",
            "If it's conventional horror scares you're after, you're much better off with Annabelle: Creation, which is a prequel to both Annabelle and The Conjuring and gets a truly impressive amount of creepiness out of the origins of that scary old doll.\n",
            "True type: Fresh\n",
            "Predicted type: Rotten\n",
            "True score: 4.0\n",
            "Predicted score: 3.058371762315458\n",
            "REVIEW:\n",
            "Boasting more posthumous recordings than Tupac, Jigsaw should have spent time devising clever new traps instead of buying Radio Shack's entire inventory of tape recorders.\n",
            "True type: Rotten\n",
            "Predicted type: Rotten\n",
            "True score: 0.0\n",
            "Predicted score: 0.7461977325893877\n",
            "REVIEW:\n",
            "Offers a lesson for both parties about what can happen when powerful forces unite to bring down a politician.\n",
            "True type: Fresh\n",
            "Predicted type: Fresh\n",
            "True score: 3.5\n",
            "Predicted score: 4.281158275595672\n",
            "REVIEW:\n",
            "As a production project it was, apparently, stuck in \"development hell\" for more than a decade. Sometimes projects are stuck in development hell for a reason.\n",
            "True type: Rotten\n",
            "Predicted type: Rotten\n",
            "True score: 1.0\n",
            "Predicted score: 0.6225326821422629\n",
            "REVIEW:\n",
            "You wouldn't want to give any of these people the time of day in real life. They are blah or worse, and they are headed for some violent confrontations that seem pointless because they are so unworthy of our attention in the first place.\n",
            "True type: Rotten\n",
            "Predicted type: Rotten\n",
            "True score: 0.5\n",
            "Predicted score: 0.8253314676703677\n",
            "REVIEW:\n",
            "Brosnan has a good time hamming it up as a heartless assassin, but why Jovovich is forced to spend the whole film darting around with black smudges on her face is a mystery.\n",
            "True type: Rotten\n",
            "Predicted type: Rotten\n",
            "True score: 1.5\n",
            "Predicted score: 1.6967520094620876\n",
            "REVIEW:\n",
            "Imagine a Rambo remake directed by Fahrenheit 9/11's Michael Moore while high on crystal meth.\n",
            "True type: Rotten\n",
            "Predicted type: Rotten\n",
            "True score: 1.0\n",
            "Predicted score: 4.165322928516674\n",
            "REVIEW:\n",
            "How long can a numbskull comedy about primitive dudes sustain itself before the laughs run dry? Year One has the answer: about ten minutes.\n",
            "True type: Rotten\n",
            "Predicted type: Rotten\n",
            "True score: 2.0\n",
            "Predicted score: 1.1397244777590008\n",
            "REVIEW:\n",
            "A Carter Burwell score nicely wraps around this slowly charming telling.\n",
            "True type: Fresh\n",
            "Predicted type: Fresh\n",
            "True score: 3.5\n",
            "Predicted score: 4.479361309055621\n",
            "REVIEW:\n",
            "Dogtooth is one of the funniest films of the past 12 months, an unforgettable social-satire, a devious little test of endurance for brave movie-lovers and the best argument against home-schooling since The Jonas Brothers.\n",
            "True type: Fresh\n",
            "Predicted type: Fresh\n",
            "True score: 5.0\n",
            "Predicted score: 4.069226584390555\n",
            "REVIEW:\n",
            "A sweeping, lovingly detailed epic of sorts that benefits from its unique setting and Latin-American soundtrack.\n",
            "True type: Fresh\n",
            "Predicted type: Fresh\n",
            "True score: 4.0\n",
            "Predicted score: 4.66410669769072\n",
            "REVIEW:\n",
            "Suggests unintentional self-parody from the get-go.\n",
            "True type: Rotten\n",
            "Predicted type: Rotten\n",
            "True score: 0.5\n",
            "Predicted score: 1.510042254388675\n",
            "REVIEW:\n",
            "An astonishing story, told with grace\n",
            "True type: Fresh\n",
            "Predicted type: Fresh\n",
            "True score: 5.0\n",
            "Predicted score: 3.602868893305869\n",
            "REVIEW:\n",
            "It is a great character study that ranks with Paul Thomas Anderson's epic Magnolia.\n",
            "True type: Fresh\n",
            "Predicted type: Fresh\n",
            "True score: 3.5\n",
            "Predicted score: 4.30497283057207\n",
            "REVIEW:\n",
            "Full of nightmarish imagery and emotional terror, 'Hereditary' has the makings of a horror classic. There is true evil lurking inside this film.\n",
            "True type: Fresh\n",
            "Predicted type: Fresh\n",
            "True score: 4.5\n",
            "Predicted score: 3.5357552829693626\n",
            "REVIEW:\n",
            "If all you're here to see is some good a cappella performance and one last farewell from the characters you love, Pitch Perfect 3 is merely adequate.\n",
            "True type: Rotten\n",
            "Predicted type: Fresh\n",
            "True score: 2.5\n",
            "Predicted score: 4.286741308846792\n",
            "REVIEW:\n",
            "Pickpocket is a film that puts the characters directly into a frame of judgment and asks the viewer if they would really try to understand the character's side of the story.\n",
            "True type: Fresh\n",
            "Predicted type: Fresh\n",
            "True score: 5.0\n",
            "Predicted score: 2.1443081858948982\n",
            "REVIEW:\n",
            "A rewarding watch and an inspirational, informative history lesson which begins more strongly than it ends.\n",
            "True type: Fresh\n",
            "Predicted type: Fresh\n",
            "True score: 3.0\n",
            "Predicted score: 3.7487328267946607\n",
            "REVIEW:\n",
            "This is the kind of movie that prompted Michael Haneke to make Funny Games twice, and while I loathed that moralistic scold of a film, Last House almost made me concede Haneke's point.\n",
            "True type: Rotten\n",
            "Predicted type: Rotten\n",
            "True score: 1.0\n",
            "Predicted score: 1.4304218810354807\n",
            "REVIEW:\n",
            "Shazam! is a fun, exciting, and delightfully-amusing superhero flick that boasts a great sense of humor and a strong performance from star Zachary Levi.\n",
            "True type: Fresh\n",
            "Predicted type: Fresh\n",
            "True score: 3.5\n",
            "Predicted score: 4.563512692987648\n",
            "REVIEW:\n",
            "A film which says little of consequence beyond fictionalizing its target; only Bisset's Lady Macbeth-like presence hits an appropriately hysterical note for this tabloid-trashy film which quickly chokes on its pretensions.\n",
            "True type: Rotten\n",
            "Predicted type: Rotten\n",
            "True score: 2.0\n",
            "Predicted score: 1.8602302049455304\n",
            "REVIEW:\n",
            "As if in imitation of the ruthless Mexican drug cartel its heroes go after, director Stefano Sollima's sequel decapitates, disembowels, and castrates Denis Villeneuve's beautiful, tough, and sad 2015 original.\n",
            "True type: Rotten\n",
            "Predicted type: Rotten\n",
            "True score: 0.0\n",
            "Predicted score: 2.5968492632742475\n",
            "REVIEW:\n",
            "A deliriously pretentious and utterly dreadful movie, Suspiria amounts to an unnecessary reworking of the cult 1977 Italian horror freak-out of the same name.\n",
            "True type: Rotten\n",
            "Predicted type: Rotten\n",
            "True score: 1.0\n",
            "Predicted score: 0.1013617199123906\n",
            "REVIEW:\n",
            "Written with a poet's ear and directed with an artist's eye ...\n",
            "True type: Fresh\n",
            "Predicted type: Rotten\n",
            "True score: 4.0\n",
            "Predicted score: 3.6034680232080873\n",
            "REVIEW:\n",
            "This movie's 90-minute run time definitely feels like too long of a sentence.\n",
            "True type: Rotten\n",
            "Predicted type: Rotten\n",
            "True score: 1.5\n",
            "Predicted score: 1.4047714721773843\n",
            "REVIEW:\n",
            "Suicide Squad had such potential but a lazy plot with holes the size of basketballs ruined all of that. Great actors were put to waste in this movie that made no sense.\n",
            "True type: Rotten\n",
            "Predicted type: Rotten\n",
            "True score: 1.5\n",
            "Predicted score: 0.7629024366574578\n",
            "REVIEW:\n",
            "I don't see how anybody could find anything to like about this movie.\n",
            "True type: Rotten\n",
            "Predicted type: Rotten\n",
            "True score: 1.0\n",
            "Predicted score: 0.729545225340228\n",
            "REVIEW:\n",
            "The biggest problem with Breaking In is that you can see a fairly clear path to a much better movie. What could have been a fun upending of expectations turned into a rote checklist of those very same expectations.\n",
            "True type: Rotten\n",
            "Predicted type: Rotten\n",
            "True score: 1.5\n",
            "Predicted score: 2.337615282080429\n",
            "REVIEW:\n",
            "Nothing much of any import or interest happens to get us to the end we predicted within the first two minutes, so if for some masochistic reason you do let your kid drag you to this, this would be a good time to catch a nap.\n",
            "True type: Rotten\n",
            "Predicted type: Rotten\n",
            "True score: 0.0\n",
            "Predicted score: 0.8151933056115486\n",
            "REVIEW:\n",
            "Mild but talky look at Churchill's early days in power.\n",
            "True type: Fresh\n",
            "Predicted type: Fresh\n",
            "True score: 3.0\n",
            "Predicted score: 2.766407378844336\n",
            "REVIEW:\n",
            "Featuring strong performances, whip-smart dialogue, competent execution, and some of the most gruesome horror to ever come from north of the border, Becky is a pleasant little surprise.\n",
            "True type: Fresh\n",
            "Predicted type: Fresh\n",
            "True score: 4.0\n",
            "Predicted score: 2.507895708662642\n",
            "REVIEW:\n",
            "It's hard not to feel you've just watched a feature-length video game with some really heavy back story.\n",
            "True type: Rotten\n",
            "Predicted type: Rotten\n",
            "True score: 2.0\n",
            "Predicted score: 2.2069921186257115\n",
            "REVIEW:\n",
            "Honestly, this awful little movie should have stayed in the closet.\n",
            "True type: Rotten\n",
            "Predicted type: Rotten\n",
            "True score: 0.0\n",
            "Predicted score: 0.41791832028972137\n",
            "REVIEW:\n",
            "Luce feels theatrical in the wrong way: muddled and contrived.\n",
            "True type: Rotten\n",
            "Predicted type: Rotten\n",
            "True score: 2.0\n",
            "Predicted score: 1.1021143864836913\n"
          ]
        }
      ],
      "source": [
        "reviews = pd.read_csv(ROOT / \"clean_reviews.csv\")\n",
        "reviews = reviews.sample(50, random_state=RANDOM_STATE+1)\n",
        "\n",
        "for r in reviews.iterrows():\n",
        "    _, r = r\n",
        "    review_type, review_score, review_content = r\n",
        "    # print(r)eview_type, review_score, review_content = r\n",
        "    print('REVIEW:')\n",
        "    print(review_content)\n",
        "\n",
        "    text = preprocess_text(review_content)\n",
        "\n",
        "    print('True type:', 'Rotten' if review_type == 0 else 'Fresh')\n",
        "    print('Predicted type:', custom_classification_test(bert_classification, text))\n",
        "\n",
        "    print('True score:', review_score)\n",
        "    print('Predicted score:', custom_regression_test(bert_regression, text))\n"
      ]
    }
  ],
  "metadata": {
    "accelerator": "GPU",
    "colab": {
      "provenance": []
    },
    "gpuClass": "standard",
    "kernelspec": {
      "display_name": "Python 3",
      "name": "python3"
    },
    "language_info": {
      "name": "python"
    },
    "widgets": {
      "application/vnd.jupyter.widget-state+json": {
        "0158b100dbe5415780bbe25b424b81e5": {
          "model_module": "@jupyter-widgets/controls",
          "model_module_version": "1.5.0",
          "model_name": "HBoxModel",
          "state": {
            "_dom_classes": [],
            "_model_module": "@jupyter-widgets/controls",
            "_model_module_version": "1.5.0",
            "_model_name": "HBoxModel",
            "_view_count": null,
            "_view_module": "@jupyter-widgets/controls",
            "_view_module_version": "1.5.0",
            "_view_name": "HBoxView",
            "box_style": "",
            "children": [
              "IPY_MODEL_0a49afce2be54d34aff0bc8dcb757843",
              "IPY_MODEL_7c171dcf4b1040cb8c5458568d94d29d",
              "IPY_MODEL_acb21867c011494d8e4989521596ed45"
            ],
            "layout": "IPY_MODEL_40eb1f8364c0466f84283fa1c8c94520"
          }
        },
        "0a03f25e7a824b828307bd80ea6cad8b": {
          "model_module": "@jupyter-widgets/base",
          "model_module_version": "1.2.0",
          "model_name": "LayoutModel",
          "state": {
            "_model_module": "@jupyter-widgets/base",
            "_model_module_version": "1.2.0",
            "_model_name": "LayoutModel",
            "_view_count": null,
            "_view_module": "@jupyter-widgets/base",
            "_view_module_version": "1.2.0",
            "_view_name": "LayoutView",
            "align_content": null,
            "align_items": null,
            "align_self": null,
            "border": null,
            "bottom": null,
            "display": null,
            "flex": null,
            "flex_flow": null,
            "grid_area": null,
            "grid_auto_columns": null,
            "grid_auto_flow": null,
            "grid_auto_rows": null,
            "grid_column": null,
            "grid_gap": null,
            "grid_row": null,
            "grid_template_areas": null,
            "grid_template_columns": null,
            "grid_template_rows": null,
            "height": null,
            "justify_content": null,
            "justify_items": null,
            "left": null,
            "margin": null,
            "max_height": null,
            "max_width": null,
            "min_height": null,
            "min_width": null,
            "object_fit": null,
            "object_position": null,
            "order": null,
            "overflow": null,
            "overflow_x": null,
            "overflow_y": null,
            "padding": null,
            "right": null,
            "top": null,
            "visibility": null,
            "width": null
          }
        },
        "0a49afce2be54d34aff0bc8dcb757843": {
          "model_module": "@jupyter-widgets/controls",
          "model_module_version": "1.5.0",
          "model_name": "HTMLModel",
          "state": {
            "_dom_classes": [],
            "_model_module": "@jupyter-widgets/controls",
            "_model_module_version": "1.5.0",
            "_model_name": "HTMLModel",
            "_view_count": null,
            "_view_module": "@jupyter-widgets/controls",
            "_view_module_version": "1.5.0",
            "_view_name": "HTMLView",
            "description": "",
            "description_tooltip": null,
            "layout": "IPY_MODEL_5f1734f799ea43f88deaec3cb691eede",
            "placeholder": "​",
            "style": "IPY_MODEL_7db1251d81f641c1983622d239a403e3",
            "value": "Downloading (…)lve/main/config.json: 100%"
          }
        },
        "2a7591855be84d7eb678c21f7bfa277f": {
          "model_module": "@jupyter-widgets/base",
          "model_module_version": "1.2.0",
          "model_name": "LayoutModel",
          "state": {
            "_model_module": "@jupyter-widgets/base",
            "_model_module_version": "1.2.0",
            "_model_name": "LayoutModel",
            "_view_count": null,
            "_view_module": "@jupyter-widgets/base",
            "_view_module_version": "1.2.0",
            "_view_name": "LayoutView",
            "align_content": null,
            "align_items": null,
            "align_self": null,
            "border": null,
            "bottom": null,
            "display": null,
            "flex": null,
            "flex_flow": null,
            "grid_area": null,
            "grid_auto_columns": null,
            "grid_auto_flow": null,
            "grid_auto_rows": null,
            "grid_column": null,
            "grid_gap": null,
            "grid_row": null,
            "grid_template_areas": null,
            "grid_template_columns": null,
            "grid_template_rows": null,
            "height": null,
            "justify_content": null,
            "justify_items": null,
            "left": null,
            "margin": null,
            "max_height": null,
            "max_width": null,
            "min_height": null,
            "min_width": null,
            "object_fit": null,
            "object_position": null,
            "order": null,
            "overflow": null,
            "overflow_x": null,
            "overflow_y": null,
            "padding": null,
            "right": null,
            "top": null,
            "visibility": null,
            "width": null
          }
        },
        "2c005b62dcde44c6b171c62788badc8a": {
          "model_module": "@jupyter-widgets/controls",
          "model_module_version": "1.5.0",
          "model_name": "FloatProgressModel",
          "state": {
            "_dom_classes": [],
            "_model_module": "@jupyter-widgets/controls",
            "_model_module_version": "1.5.0",
            "_model_name": "FloatProgressModel",
            "_view_count": null,
            "_view_module": "@jupyter-widgets/controls",
            "_view_module_version": "1.5.0",
            "_view_name": "ProgressView",
            "bar_style": "success",
            "description": "",
            "description_tooltip": null,
            "layout": "IPY_MODEL_9c3101320fd14ef18d399de51c752730",
            "max": 28,
            "min": 0,
            "orientation": "horizontal",
            "style": "IPY_MODEL_cc04b989186e42cb8434e6eb4c76994a",
            "value": 28
          }
        },
        "2fb2df8c88c445a0bab227a3fdbb7aa0": {
          "model_module": "@jupyter-widgets/base",
          "model_module_version": "1.2.0",
          "model_name": "LayoutModel",
          "state": {
            "_model_module": "@jupyter-widgets/base",
            "_model_module_version": "1.2.0",
            "_model_name": "LayoutModel",
            "_view_count": null,
            "_view_module": "@jupyter-widgets/base",
            "_view_module_version": "1.2.0",
            "_view_name": "LayoutView",
            "align_content": null,
            "align_items": null,
            "align_self": null,
            "border": null,
            "bottom": null,
            "display": null,
            "flex": null,
            "flex_flow": null,
            "grid_area": null,
            "grid_auto_columns": null,
            "grid_auto_flow": null,
            "grid_auto_rows": null,
            "grid_column": null,
            "grid_gap": null,
            "grid_row": null,
            "grid_template_areas": null,
            "grid_template_columns": null,
            "grid_template_rows": null,
            "height": null,
            "justify_content": null,
            "justify_items": null,
            "left": null,
            "margin": null,
            "max_height": null,
            "max_width": null,
            "min_height": null,
            "min_width": null,
            "object_fit": null,
            "object_position": null,
            "order": null,
            "overflow": null,
            "overflow_x": null,
            "overflow_y": null,
            "padding": null,
            "right": null,
            "top": null,
            "visibility": null,
            "width": null
          }
        },
        "32fc92f45ad841f5847bcc76f8abfb0b": {
          "model_module": "@jupyter-widgets/controls",
          "model_module_version": "1.5.0",
          "model_name": "DescriptionStyleModel",
          "state": {
            "_model_module": "@jupyter-widgets/controls",
            "_model_module_version": "1.5.0",
            "_model_name": "DescriptionStyleModel",
            "_view_count": null,
            "_view_module": "@jupyter-widgets/base",
            "_view_module_version": "1.2.0",
            "_view_name": "StyleView",
            "description_width": ""
          }
        },
        "40eb1f8364c0466f84283fa1c8c94520": {
          "model_module": "@jupyter-widgets/base",
          "model_module_version": "1.2.0",
          "model_name": "LayoutModel",
          "state": {
            "_model_module": "@jupyter-widgets/base",
            "_model_module_version": "1.2.0",
            "_model_name": "LayoutModel",
            "_view_count": null,
            "_view_module": "@jupyter-widgets/base",
            "_view_module_version": "1.2.0",
            "_view_name": "LayoutView",
            "align_content": null,
            "align_items": null,
            "align_self": null,
            "border": null,
            "bottom": null,
            "display": null,
            "flex": null,
            "flex_flow": null,
            "grid_area": null,
            "grid_auto_columns": null,
            "grid_auto_flow": null,
            "grid_auto_rows": null,
            "grid_column": null,
            "grid_gap": null,
            "grid_row": null,
            "grid_template_areas": null,
            "grid_template_columns": null,
            "grid_template_rows": null,
            "height": null,
            "justify_content": null,
            "justify_items": null,
            "left": null,
            "margin": null,
            "max_height": null,
            "max_width": null,
            "min_height": null,
            "min_width": null,
            "object_fit": null,
            "object_position": null,
            "order": null,
            "overflow": null,
            "overflow_x": null,
            "overflow_y": null,
            "padding": null,
            "right": null,
            "top": null,
            "visibility": null,
            "width": null
          }
        },
        "440a732ba26143778db83fc20ae7ffb7": {
          "model_module": "@jupyter-widgets/base",
          "model_module_version": "1.2.0",
          "model_name": "LayoutModel",
          "state": {
            "_model_module": "@jupyter-widgets/base",
            "_model_module_version": "1.2.0",
            "_model_name": "LayoutModel",
            "_view_count": null,
            "_view_module": "@jupyter-widgets/base",
            "_view_module_version": "1.2.0",
            "_view_name": "LayoutView",
            "align_content": null,
            "align_items": null,
            "align_self": null,
            "border": null,
            "bottom": null,
            "display": null,
            "flex": null,
            "flex_flow": null,
            "grid_area": null,
            "grid_auto_columns": null,
            "grid_auto_flow": null,
            "grid_auto_rows": null,
            "grid_column": null,
            "grid_gap": null,
            "grid_row": null,
            "grid_template_areas": null,
            "grid_template_columns": null,
            "grid_template_rows": null,
            "height": null,
            "justify_content": null,
            "justify_items": null,
            "left": null,
            "margin": null,
            "max_height": null,
            "max_width": null,
            "min_height": null,
            "min_width": null,
            "object_fit": null,
            "object_position": null,
            "order": null,
            "overflow": null,
            "overflow_x": null,
            "overflow_y": null,
            "padding": null,
            "right": null,
            "top": null,
            "visibility": null,
            "width": null
          }
        },
        "5f1734f799ea43f88deaec3cb691eede": {
          "model_module": "@jupyter-widgets/base",
          "model_module_version": "1.2.0",
          "model_name": "LayoutModel",
          "state": {
            "_model_module": "@jupyter-widgets/base",
            "_model_module_version": "1.2.0",
            "_model_name": "LayoutModel",
            "_view_count": null,
            "_view_module": "@jupyter-widgets/base",
            "_view_module_version": "1.2.0",
            "_view_name": "LayoutView",
            "align_content": null,
            "align_items": null,
            "align_self": null,
            "border": null,
            "bottom": null,
            "display": null,
            "flex": null,
            "flex_flow": null,
            "grid_area": null,
            "grid_auto_columns": null,
            "grid_auto_flow": null,
            "grid_auto_rows": null,
            "grid_column": null,
            "grid_gap": null,
            "grid_row": null,
            "grid_template_areas": null,
            "grid_template_columns": null,
            "grid_template_rows": null,
            "height": null,
            "justify_content": null,
            "justify_items": null,
            "left": null,
            "margin": null,
            "max_height": null,
            "max_width": null,
            "min_height": null,
            "min_width": null,
            "object_fit": null,
            "object_position": null,
            "order": null,
            "overflow": null,
            "overflow_x": null,
            "overflow_y": null,
            "padding": null,
            "right": null,
            "top": null,
            "visibility": null,
            "width": null
          }
        },
        "6a22d1ccc933452182365bb993d5b4d7": {
          "model_module": "@jupyter-widgets/base",
          "model_module_version": "1.2.0",
          "model_name": "LayoutModel",
          "state": {
            "_model_module": "@jupyter-widgets/base",
            "_model_module_version": "1.2.0",
            "_model_name": "LayoutModel",
            "_view_count": null,
            "_view_module": "@jupyter-widgets/base",
            "_view_module_version": "1.2.0",
            "_view_name": "LayoutView",
            "align_content": null,
            "align_items": null,
            "align_self": null,
            "border": null,
            "bottom": null,
            "display": null,
            "flex": null,
            "flex_flow": null,
            "grid_area": null,
            "grid_auto_columns": null,
            "grid_auto_flow": null,
            "grid_auto_rows": null,
            "grid_column": null,
            "grid_gap": null,
            "grid_row": null,
            "grid_template_areas": null,
            "grid_template_columns": null,
            "grid_template_rows": null,
            "height": null,
            "justify_content": null,
            "justify_items": null,
            "left": null,
            "margin": null,
            "max_height": null,
            "max_width": null,
            "min_height": null,
            "min_width": null,
            "object_fit": null,
            "object_position": null,
            "order": null,
            "overflow": null,
            "overflow_x": null,
            "overflow_y": null,
            "padding": null,
            "right": null,
            "top": null,
            "visibility": null,
            "width": null
          }
        },
        "6f558511508f450bb31ade1e6572c818": {
          "model_module": "@jupyter-widgets/controls",
          "model_module_version": "1.5.0",
          "model_name": "DescriptionStyleModel",
          "state": {
            "_model_module": "@jupyter-widgets/controls",
            "_model_module_version": "1.5.0",
            "_model_name": "DescriptionStyleModel",
            "_view_count": null,
            "_view_module": "@jupyter-widgets/base",
            "_view_module_version": "1.2.0",
            "_view_name": "StyleView",
            "description_width": ""
          }
        },
        "6fe564f51c8d4c09aca554c4fdb4fa8e": {
          "model_module": "@jupyter-widgets/base",
          "model_module_version": "1.2.0",
          "model_name": "LayoutModel",
          "state": {
            "_model_module": "@jupyter-widgets/base",
            "_model_module_version": "1.2.0",
            "_model_name": "LayoutModel",
            "_view_count": null,
            "_view_module": "@jupyter-widgets/base",
            "_view_module_version": "1.2.0",
            "_view_name": "LayoutView",
            "align_content": null,
            "align_items": null,
            "align_self": null,
            "border": null,
            "bottom": null,
            "display": null,
            "flex": null,
            "flex_flow": null,
            "grid_area": null,
            "grid_auto_columns": null,
            "grid_auto_flow": null,
            "grid_auto_rows": null,
            "grid_column": null,
            "grid_gap": null,
            "grid_row": null,
            "grid_template_areas": null,
            "grid_template_columns": null,
            "grid_template_rows": null,
            "height": null,
            "justify_content": null,
            "justify_items": null,
            "left": null,
            "margin": null,
            "max_height": null,
            "max_width": null,
            "min_height": null,
            "min_width": null,
            "object_fit": null,
            "object_position": null,
            "order": null,
            "overflow": null,
            "overflow_x": null,
            "overflow_y": null,
            "padding": null,
            "right": null,
            "top": null,
            "visibility": null,
            "width": null
          }
        },
        "76ea12a562fd4ce6ad6d12026cac4a9c": {
          "model_module": "@jupyter-widgets/base",
          "model_module_version": "1.2.0",
          "model_name": "LayoutModel",
          "state": {
            "_model_module": "@jupyter-widgets/base",
            "_model_module_version": "1.2.0",
            "_model_name": "LayoutModel",
            "_view_count": null,
            "_view_module": "@jupyter-widgets/base",
            "_view_module_version": "1.2.0",
            "_view_name": "LayoutView",
            "align_content": null,
            "align_items": null,
            "align_self": null,
            "border": null,
            "bottom": null,
            "display": null,
            "flex": null,
            "flex_flow": null,
            "grid_area": null,
            "grid_auto_columns": null,
            "grid_auto_flow": null,
            "grid_auto_rows": null,
            "grid_column": null,
            "grid_gap": null,
            "grid_row": null,
            "grid_template_areas": null,
            "grid_template_columns": null,
            "grid_template_rows": null,
            "height": null,
            "justify_content": null,
            "justify_items": null,
            "left": null,
            "margin": null,
            "max_height": null,
            "max_width": null,
            "min_height": null,
            "min_width": null,
            "object_fit": null,
            "object_position": null,
            "order": null,
            "overflow": null,
            "overflow_x": null,
            "overflow_y": null,
            "padding": null,
            "right": null,
            "top": null,
            "visibility": null,
            "width": null
          }
        },
        "7c171dcf4b1040cb8c5458568d94d29d": {
          "model_module": "@jupyter-widgets/controls",
          "model_module_version": "1.5.0",
          "model_name": "FloatProgressModel",
          "state": {
            "_dom_classes": [],
            "_model_module": "@jupyter-widgets/controls",
            "_model_module_version": "1.5.0",
            "_model_name": "FloatProgressModel",
            "_view_count": null,
            "_view_module": "@jupyter-widgets/controls",
            "_view_module_version": "1.5.0",
            "_view_name": "ProgressView",
            "bar_style": "success",
            "description": "",
            "description_tooltip": null,
            "layout": "IPY_MODEL_6fe564f51c8d4c09aca554c4fdb4fa8e",
            "max": 570,
            "min": 0,
            "orientation": "horizontal",
            "style": "IPY_MODEL_c403b1ae631d4f23bc7cfae3b43629e2",
            "value": 570
          }
        },
        "7db1251d81f641c1983622d239a403e3": {
          "model_module": "@jupyter-widgets/controls",
          "model_module_version": "1.5.0",
          "model_name": "DescriptionStyleModel",
          "state": {
            "_model_module": "@jupyter-widgets/controls",
            "_model_module_version": "1.5.0",
            "_model_name": "DescriptionStyleModel",
            "_view_count": null,
            "_view_module": "@jupyter-widgets/base",
            "_view_module_version": "1.2.0",
            "_view_name": "StyleView",
            "description_width": ""
          }
        },
        "9ae195bd62e94889b3bd835483ffb5e1": {
          "model_module": "@jupyter-widgets/controls",
          "model_module_version": "1.5.0",
          "model_name": "HTMLModel",
          "state": {
            "_dom_classes": [],
            "_model_module": "@jupyter-widgets/controls",
            "_model_module_version": "1.5.0",
            "_model_name": "HTMLModel",
            "_view_count": null,
            "_view_module": "@jupyter-widgets/controls",
            "_view_module_version": "1.5.0",
            "_view_name": "HTMLView",
            "description": "",
            "description_tooltip": null,
            "layout": "IPY_MODEL_0a03f25e7a824b828307bd80ea6cad8b",
            "placeholder": "​",
            "style": "IPY_MODEL_ffe4f4db5b6c4ea2bb0259456ee0b833",
            "value": "Downloading (…)solve/main/vocab.txt: 100%"
          }
        },
        "9bd59c11c0cc4dc1b92505eb1e88ce9f": {
          "model_module": "@jupyter-widgets/controls",
          "model_module_version": "1.5.0",
          "model_name": "HTMLModel",
          "state": {
            "_dom_classes": [],
            "_model_module": "@jupyter-widgets/controls",
            "_model_module_version": "1.5.0",
            "_model_name": "HTMLModel",
            "_view_count": null,
            "_view_module": "@jupyter-widgets/controls",
            "_view_module_version": "1.5.0",
            "_view_name": "HTMLView",
            "description": "",
            "description_tooltip": null,
            "layout": "IPY_MODEL_440a732ba26143778db83fc20ae7ffb7",
            "placeholder": "​",
            "style": "IPY_MODEL_32fc92f45ad841f5847bcc76f8abfb0b",
            "value": " 28.0/28.0 [00:00&lt;00:00, 370B/s]"
          }
        },
        "9c3101320fd14ef18d399de51c752730": {
          "model_module": "@jupyter-widgets/base",
          "model_module_version": "1.2.0",
          "model_name": "LayoutModel",
          "state": {
            "_model_module": "@jupyter-widgets/base",
            "_model_module_version": "1.2.0",
            "_model_name": "LayoutModel",
            "_view_count": null,
            "_view_module": "@jupyter-widgets/base",
            "_view_module_version": "1.2.0",
            "_view_name": "LayoutView",
            "align_content": null,
            "align_items": null,
            "align_self": null,
            "border": null,
            "bottom": null,
            "display": null,
            "flex": null,
            "flex_flow": null,
            "grid_area": null,
            "grid_auto_columns": null,
            "grid_auto_flow": null,
            "grid_auto_rows": null,
            "grid_column": null,
            "grid_gap": null,
            "grid_row": null,
            "grid_template_areas": null,
            "grid_template_columns": null,
            "grid_template_rows": null,
            "height": null,
            "justify_content": null,
            "justify_items": null,
            "left": null,
            "margin": null,
            "max_height": null,
            "max_width": null,
            "min_height": null,
            "min_width": null,
            "object_fit": null,
            "object_position": null,
            "order": null,
            "overflow": null,
            "overflow_x": null,
            "overflow_y": null,
            "padding": null,
            "right": null,
            "top": null,
            "visibility": null,
            "width": null
          }
        },
        "a08923c56ac04996a7ac6c379ac51d1d": {
          "model_module": "@jupyter-widgets/controls",
          "model_module_version": "1.5.0",
          "model_name": "FloatProgressModel",
          "state": {
            "_dom_classes": [],
            "_model_module": "@jupyter-widgets/controls",
            "_model_module_version": "1.5.0",
            "_model_name": "FloatProgressModel",
            "_view_count": null,
            "_view_module": "@jupyter-widgets/controls",
            "_view_module_version": "1.5.0",
            "_view_name": "ProgressView",
            "bar_style": "success",
            "description": "",
            "description_tooltip": null,
            "layout": "IPY_MODEL_c1163e32065c4295b6e754f87c0fba87",
            "max": 231508,
            "min": 0,
            "orientation": "horizontal",
            "style": "IPY_MODEL_e58c3abad32e4df0b3f17f4b644278d8",
            "value": 231508
          }
        },
        "acb21867c011494d8e4989521596ed45": {
          "model_module": "@jupyter-widgets/controls",
          "model_module_version": "1.5.0",
          "model_name": "HTMLModel",
          "state": {
            "_dom_classes": [],
            "_model_module": "@jupyter-widgets/controls",
            "_model_module_version": "1.5.0",
            "_model_name": "HTMLModel",
            "_view_count": null,
            "_view_module": "@jupyter-widgets/controls",
            "_view_module_version": "1.5.0",
            "_view_name": "HTMLView",
            "description": "",
            "description_tooltip": null,
            "layout": "IPY_MODEL_2a7591855be84d7eb678c21f7bfa277f",
            "placeholder": "​",
            "style": "IPY_MODEL_bd73dd4b9b044bd39bc3eecb0f837fb0",
            "value": " 570/570 [00:00&lt;00:00, 8.61kB/s]"
          }
        },
        "bd73dd4b9b044bd39bc3eecb0f837fb0": {
          "model_module": "@jupyter-widgets/controls",
          "model_module_version": "1.5.0",
          "model_name": "DescriptionStyleModel",
          "state": {
            "_model_module": "@jupyter-widgets/controls",
            "_model_module_version": "1.5.0",
            "_model_name": "DescriptionStyleModel",
            "_view_count": null,
            "_view_module": "@jupyter-widgets/base",
            "_view_module_version": "1.2.0",
            "_view_name": "StyleView",
            "description_width": ""
          }
        },
        "c0e3545f23474bc19c15e58e312586cf": {
          "model_module": "@jupyter-widgets/controls",
          "model_module_version": "1.5.0",
          "model_name": "HTMLModel",
          "state": {
            "_dom_classes": [],
            "_model_module": "@jupyter-widgets/controls",
            "_model_module_version": "1.5.0",
            "_model_name": "HTMLModel",
            "_view_count": null,
            "_view_module": "@jupyter-widgets/controls",
            "_view_module_version": "1.5.0",
            "_view_name": "HTMLView",
            "description": "",
            "description_tooltip": null,
            "layout": "IPY_MODEL_daa4b1034cae4c7c81cb13072094be0e",
            "placeholder": "​",
            "style": "IPY_MODEL_d27bf8033bb146c3b34fa1cdfdeb0fda",
            "value": " 232k/232k [00:00&lt;00:00, 1.32MB/s]"
          }
        },
        "c1163e32065c4295b6e754f87c0fba87": {
          "model_module": "@jupyter-widgets/base",
          "model_module_version": "1.2.0",
          "model_name": "LayoutModel",
          "state": {
            "_model_module": "@jupyter-widgets/base",
            "_model_module_version": "1.2.0",
            "_model_name": "LayoutModel",
            "_view_count": null,
            "_view_module": "@jupyter-widgets/base",
            "_view_module_version": "1.2.0",
            "_view_name": "LayoutView",
            "align_content": null,
            "align_items": null,
            "align_self": null,
            "border": null,
            "bottom": null,
            "display": null,
            "flex": null,
            "flex_flow": null,
            "grid_area": null,
            "grid_auto_columns": null,
            "grid_auto_flow": null,
            "grid_auto_rows": null,
            "grid_column": null,
            "grid_gap": null,
            "grid_row": null,
            "grid_template_areas": null,
            "grid_template_columns": null,
            "grid_template_rows": null,
            "height": null,
            "justify_content": null,
            "justify_items": null,
            "left": null,
            "margin": null,
            "max_height": null,
            "max_width": null,
            "min_height": null,
            "min_width": null,
            "object_fit": null,
            "object_position": null,
            "order": null,
            "overflow": null,
            "overflow_x": null,
            "overflow_y": null,
            "padding": null,
            "right": null,
            "top": null,
            "visibility": null,
            "width": null
          }
        },
        "c403b1ae631d4f23bc7cfae3b43629e2": {
          "model_module": "@jupyter-widgets/controls",
          "model_module_version": "1.5.0",
          "model_name": "ProgressStyleModel",
          "state": {
            "_model_module": "@jupyter-widgets/controls",
            "_model_module_version": "1.5.0",
            "_model_name": "ProgressStyleModel",
            "_view_count": null,
            "_view_module": "@jupyter-widgets/base",
            "_view_module_version": "1.2.0",
            "_view_name": "StyleView",
            "bar_color": null,
            "description_width": ""
          }
        },
        "cc04b989186e42cb8434e6eb4c76994a": {
          "model_module": "@jupyter-widgets/controls",
          "model_module_version": "1.5.0",
          "model_name": "ProgressStyleModel",
          "state": {
            "_model_module": "@jupyter-widgets/controls",
            "_model_module_version": "1.5.0",
            "_model_name": "ProgressStyleModel",
            "_view_count": null,
            "_view_module": "@jupyter-widgets/base",
            "_view_module_version": "1.2.0",
            "_view_name": "StyleView",
            "bar_color": null,
            "description_width": ""
          }
        },
        "d27bf8033bb146c3b34fa1cdfdeb0fda": {
          "model_module": "@jupyter-widgets/controls",
          "model_module_version": "1.5.0",
          "model_name": "DescriptionStyleModel",
          "state": {
            "_model_module": "@jupyter-widgets/controls",
            "_model_module_version": "1.5.0",
            "_model_name": "DescriptionStyleModel",
            "_view_count": null,
            "_view_module": "@jupyter-widgets/base",
            "_view_module_version": "1.2.0",
            "_view_name": "StyleView",
            "description_width": ""
          }
        },
        "daa4b1034cae4c7c81cb13072094be0e": {
          "model_module": "@jupyter-widgets/base",
          "model_module_version": "1.2.0",
          "model_name": "LayoutModel",
          "state": {
            "_model_module": "@jupyter-widgets/base",
            "_model_module_version": "1.2.0",
            "_model_name": "LayoutModel",
            "_view_count": null,
            "_view_module": "@jupyter-widgets/base",
            "_view_module_version": "1.2.0",
            "_view_name": "LayoutView",
            "align_content": null,
            "align_items": null,
            "align_self": null,
            "border": null,
            "bottom": null,
            "display": null,
            "flex": null,
            "flex_flow": null,
            "grid_area": null,
            "grid_auto_columns": null,
            "grid_auto_flow": null,
            "grid_auto_rows": null,
            "grid_column": null,
            "grid_gap": null,
            "grid_row": null,
            "grid_template_areas": null,
            "grid_template_columns": null,
            "grid_template_rows": null,
            "height": null,
            "justify_content": null,
            "justify_items": null,
            "left": null,
            "margin": null,
            "max_height": null,
            "max_width": null,
            "min_height": null,
            "min_width": null,
            "object_fit": null,
            "object_position": null,
            "order": null,
            "overflow": null,
            "overflow_x": null,
            "overflow_y": null,
            "padding": null,
            "right": null,
            "top": null,
            "visibility": null,
            "width": null
          }
        },
        "e26bf56e808a4713b824e302dc651b01": {
          "model_module": "@jupyter-widgets/controls",
          "model_module_version": "1.5.0",
          "model_name": "HBoxModel",
          "state": {
            "_dom_classes": [],
            "_model_module": "@jupyter-widgets/controls",
            "_model_module_version": "1.5.0",
            "_model_name": "HBoxModel",
            "_view_count": null,
            "_view_module": "@jupyter-widgets/controls",
            "_view_module_version": "1.5.0",
            "_view_name": "HBoxView",
            "box_style": "",
            "children": [
              "IPY_MODEL_e2b75d9ef2134d138cf849c7bde47444",
              "IPY_MODEL_2c005b62dcde44c6b171c62788badc8a",
              "IPY_MODEL_9bd59c11c0cc4dc1b92505eb1e88ce9f"
            ],
            "layout": "IPY_MODEL_76ea12a562fd4ce6ad6d12026cac4a9c"
          }
        },
        "e2b75d9ef2134d138cf849c7bde47444": {
          "model_module": "@jupyter-widgets/controls",
          "model_module_version": "1.5.0",
          "model_name": "HTMLModel",
          "state": {
            "_dom_classes": [],
            "_model_module": "@jupyter-widgets/controls",
            "_model_module_version": "1.5.0",
            "_model_name": "HTMLModel",
            "_view_count": null,
            "_view_module": "@jupyter-widgets/controls",
            "_view_module_version": "1.5.0",
            "_view_name": "HTMLView",
            "description": "",
            "description_tooltip": null,
            "layout": "IPY_MODEL_2fb2df8c88c445a0bab227a3fdbb7aa0",
            "placeholder": "​",
            "style": "IPY_MODEL_6f558511508f450bb31ade1e6572c818",
            "value": "Downloading (…)okenizer_config.json: 100%"
          }
        },
        "e58c3abad32e4df0b3f17f4b644278d8": {
          "model_module": "@jupyter-widgets/controls",
          "model_module_version": "1.5.0",
          "model_name": "ProgressStyleModel",
          "state": {
            "_model_module": "@jupyter-widgets/controls",
            "_model_module_version": "1.5.0",
            "_model_name": "ProgressStyleModel",
            "_view_count": null,
            "_view_module": "@jupyter-widgets/base",
            "_view_module_version": "1.2.0",
            "_view_name": "StyleView",
            "bar_color": null,
            "description_width": ""
          }
        },
        "e8c00d7fb92c4ad491b6b04e892f330b": {
          "model_module": "@jupyter-widgets/controls",
          "model_module_version": "1.5.0",
          "model_name": "HBoxModel",
          "state": {
            "_dom_classes": [],
            "_model_module": "@jupyter-widgets/controls",
            "_model_module_version": "1.5.0",
            "_model_name": "HBoxModel",
            "_view_count": null,
            "_view_module": "@jupyter-widgets/controls",
            "_view_module_version": "1.5.0",
            "_view_name": "HBoxView",
            "box_style": "",
            "children": [
              "IPY_MODEL_9ae195bd62e94889b3bd835483ffb5e1",
              "IPY_MODEL_a08923c56ac04996a7ac6c379ac51d1d",
              "IPY_MODEL_c0e3545f23474bc19c15e58e312586cf"
            ],
            "layout": "IPY_MODEL_6a22d1ccc933452182365bb993d5b4d7"
          }
        },
        "ffe4f4db5b6c4ea2bb0259456ee0b833": {
          "model_module": "@jupyter-widgets/controls",
          "model_module_version": "1.5.0",
          "model_name": "DescriptionStyleModel",
          "state": {
            "_model_module": "@jupyter-widgets/controls",
            "_model_module_version": "1.5.0",
            "_model_name": "DescriptionStyleModel",
            "_view_count": null,
            "_view_module": "@jupyter-widgets/base",
            "_view_module_version": "1.2.0",
            "_view_name": "StyleView",
            "description_width": ""
          }
        }
      }
    }
  },
  "nbformat": 4,
  "nbformat_minor": 0
}
