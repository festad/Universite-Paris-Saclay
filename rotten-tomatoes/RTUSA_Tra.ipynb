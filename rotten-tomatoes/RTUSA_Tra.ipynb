{
  "nbformat": 4,
  "nbformat_minor": 0,
  "metadata": {
    "colab": {
      "provenance": []
    },
    "kernelspec": {
      "name": "python3",
      "display_name": "Python 3"
    },
    "language_info": {
      "name": "python"
    },
    "accelerator": "GPU",
    "gpuClass": "standard",
    "widgets": {
      "application/vnd.jupyter.widget-state+json": {
        "a46617fddc924596baa9d05bb16c26d7": {
          "model_module": "@jupyter-widgets/controls",
          "model_name": "HBoxModel",
          "model_module_version": "1.5.0",
          "state": {
            "_dom_classes": [],
            "_model_module": "@jupyter-widgets/controls",
            "_model_module_version": "1.5.0",
            "_model_name": "HBoxModel",
            "_view_count": null,
            "_view_module": "@jupyter-widgets/controls",
            "_view_module_version": "1.5.0",
            "_view_name": "HBoxView",
            "box_style": "",
            "children": [
              "IPY_MODEL_fc7a618009c24598b7091c3c4c0f7f00",
              "IPY_MODEL_5245abc83da74177b4c7a39edd00a4df",
              "IPY_MODEL_8d6d82e944ce4892a1eae0573fac06ef"
            ],
            "layout": "IPY_MODEL_e20de0f5a7094504b2dc9130df9a3e1f"
          }
        },
        "fc7a618009c24598b7091c3c4c0f7f00": {
          "model_module": "@jupyter-widgets/controls",
          "model_name": "HTMLModel",
          "model_module_version": "1.5.0",
          "state": {
            "_dom_classes": [],
            "_model_module": "@jupyter-widgets/controls",
            "_model_module_version": "1.5.0",
            "_model_name": "HTMLModel",
            "_view_count": null,
            "_view_module": "@jupyter-widgets/controls",
            "_view_module_version": "1.5.0",
            "_view_name": "HTMLView",
            "description": "",
            "description_tooltip": null,
            "layout": "IPY_MODEL_a9888eb572574a469baccb1abe2933e0",
            "placeholder": "​",
            "style": "IPY_MODEL_b4d2a46f3cfb4770a749071299b43471",
            "value": "Downloading (…)solve/main/vocab.txt: 100%"
          }
        },
        "5245abc83da74177b4c7a39edd00a4df": {
          "model_module": "@jupyter-widgets/controls",
          "model_name": "FloatProgressModel",
          "model_module_version": "1.5.0",
          "state": {
            "_dom_classes": [],
            "_model_module": "@jupyter-widgets/controls",
            "_model_module_version": "1.5.0",
            "_model_name": "FloatProgressModel",
            "_view_count": null,
            "_view_module": "@jupyter-widgets/controls",
            "_view_module_version": "1.5.0",
            "_view_name": "ProgressView",
            "bar_style": "success",
            "description": "",
            "description_tooltip": null,
            "layout": "IPY_MODEL_891ba84505934ab5aac4c7383f9421c9",
            "max": 231508,
            "min": 0,
            "orientation": "horizontal",
            "style": "IPY_MODEL_bbd79640c3a94204a774aeb8f9d0e02b",
            "value": 231508
          }
        },
        "8d6d82e944ce4892a1eae0573fac06ef": {
          "model_module": "@jupyter-widgets/controls",
          "model_name": "HTMLModel",
          "model_module_version": "1.5.0",
          "state": {
            "_dom_classes": [],
            "_model_module": "@jupyter-widgets/controls",
            "_model_module_version": "1.5.0",
            "_model_name": "HTMLModel",
            "_view_count": null,
            "_view_module": "@jupyter-widgets/controls",
            "_view_module_version": "1.5.0",
            "_view_name": "HTMLView",
            "description": "",
            "description_tooltip": null,
            "layout": "IPY_MODEL_7e57841f46144294840d34f591d01dfe",
            "placeholder": "​",
            "style": "IPY_MODEL_76022ec593134a88985ab4e6cd8eb957",
            "value": " 232k/232k [00:00&lt;00:00, 1.64MB/s]"
          }
        },
        "e20de0f5a7094504b2dc9130df9a3e1f": {
          "model_module": "@jupyter-widgets/base",
          "model_name": "LayoutModel",
          "model_module_version": "1.2.0",
          "state": {
            "_model_module": "@jupyter-widgets/base",
            "_model_module_version": "1.2.0",
            "_model_name": "LayoutModel",
            "_view_count": null,
            "_view_module": "@jupyter-widgets/base",
            "_view_module_version": "1.2.0",
            "_view_name": "LayoutView",
            "align_content": null,
            "align_items": null,
            "align_self": null,
            "border": null,
            "bottom": null,
            "display": null,
            "flex": null,
            "flex_flow": null,
            "grid_area": null,
            "grid_auto_columns": null,
            "grid_auto_flow": null,
            "grid_auto_rows": null,
            "grid_column": null,
            "grid_gap": null,
            "grid_row": null,
            "grid_template_areas": null,
            "grid_template_columns": null,
            "grid_template_rows": null,
            "height": null,
            "justify_content": null,
            "justify_items": null,
            "left": null,
            "margin": null,
            "max_height": null,
            "max_width": null,
            "min_height": null,
            "min_width": null,
            "object_fit": null,
            "object_position": null,
            "order": null,
            "overflow": null,
            "overflow_x": null,
            "overflow_y": null,
            "padding": null,
            "right": null,
            "top": null,
            "visibility": null,
            "width": null
          }
        },
        "a9888eb572574a469baccb1abe2933e0": {
          "model_module": "@jupyter-widgets/base",
          "model_name": "LayoutModel",
          "model_module_version": "1.2.0",
          "state": {
            "_model_module": "@jupyter-widgets/base",
            "_model_module_version": "1.2.0",
            "_model_name": "LayoutModel",
            "_view_count": null,
            "_view_module": "@jupyter-widgets/base",
            "_view_module_version": "1.2.0",
            "_view_name": "LayoutView",
            "align_content": null,
            "align_items": null,
            "align_self": null,
            "border": null,
            "bottom": null,
            "display": null,
            "flex": null,
            "flex_flow": null,
            "grid_area": null,
            "grid_auto_columns": null,
            "grid_auto_flow": null,
            "grid_auto_rows": null,
            "grid_column": null,
            "grid_gap": null,
            "grid_row": null,
            "grid_template_areas": null,
            "grid_template_columns": null,
            "grid_template_rows": null,
            "height": null,
            "justify_content": null,
            "justify_items": null,
            "left": null,
            "margin": null,
            "max_height": null,
            "max_width": null,
            "min_height": null,
            "min_width": null,
            "object_fit": null,
            "object_position": null,
            "order": null,
            "overflow": null,
            "overflow_x": null,
            "overflow_y": null,
            "padding": null,
            "right": null,
            "top": null,
            "visibility": null,
            "width": null
          }
        },
        "b4d2a46f3cfb4770a749071299b43471": {
          "model_module": "@jupyter-widgets/controls",
          "model_name": "DescriptionStyleModel",
          "model_module_version": "1.5.0",
          "state": {
            "_model_module": "@jupyter-widgets/controls",
            "_model_module_version": "1.5.0",
            "_model_name": "DescriptionStyleModel",
            "_view_count": null,
            "_view_module": "@jupyter-widgets/base",
            "_view_module_version": "1.2.0",
            "_view_name": "StyleView",
            "description_width": ""
          }
        },
        "891ba84505934ab5aac4c7383f9421c9": {
          "model_module": "@jupyter-widgets/base",
          "model_name": "LayoutModel",
          "model_module_version": "1.2.0",
          "state": {
            "_model_module": "@jupyter-widgets/base",
            "_model_module_version": "1.2.0",
            "_model_name": "LayoutModel",
            "_view_count": null,
            "_view_module": "@jupyter-widgets/base",
            "_view_module_version": "1.2.0",
            "_view_name": "LayoutView",
            "align_content": null,
            "align_items": null,
            "align_self": null,
            "border": null,
            "bottom": null,
            "display": null,
            "flex": null,
            "flex_flow": null,
            "grid_area": null,
            "grid_auto_columns": null,
            "grid_auto_flow": null,
            "grid_auto_rows": null,
            "grid_column": null,
            "grid_gap": null,
            "grid_row": null,
            "grid_template_areas": null,
            "grid_template_columns": null,
            "grid_template_rows": null,
            "height": null,
            "justify_content": null,
            "justify_items": null,
            "left": null,
            "margin": null,
            "max_height": null,
            "max_width": null,
            "min_height": null,
            "min_width": null,
            "object_fit": null,
            "object_position": null,
            "order": null,
            "overflow": null,
            "overflow_x": null,
            "overflow_y": null,
            "padding": null,
            "right": null,
            "top": null,
            "visibility": null,
            "width": null
          }
        },
        "bbd79640c3a94204a774aeb8f9d0e02b": {
          "model_module": "@jupyter-widgets/controls",
          "model_name": "ProgressStyleModel",
          "model_module_version": "1.5.0",
          "state": {
            "_model_module": "@jupyter-widgets/controls",
            "_model_module_version": "1.5.0",
            "_model_name": "ProgressStyleModel",
            "_view_count": null,
            "_view_module": "@jupyter-widgets/base",
            "_view_module_version": "1.2.0",
            "_view_name": "StyleView",
            "bar_color": null,
            "description_width": ""
          }
        },
        "7e57841f46144294840d34f591d01dfe": {
          "model_module": "@jupyter-widgets/base",
          "model_name": "LayoutModel",
          "model_module_version": "1.2.0",
          "state": {
            "_model_module": "@jupyter-widgets/base",
            "_model_module_version": "1.2.0",
            "_model_name": "LayoutModel",
            "_view_count": null,
            "_view_module": "@jupyter-widgets/base",
            "_view_module_version": "1.2.0",
            "_view_name": "LayoutView",
            "align_content": null,
            "align_items": null,
            "align_self": null,
            "border": null,
            "bottom": null,
            "display": null,
            "flex": null,
            "flex_flow": null,
            "grid_area": null,
            "grid_auto_columns": null,
            "grid_auto_flow": null,
            "grid_auto_rows": null,
            "grid_column": null,
            "grid_gap": null,
            "grid_row": null,
            "grid_template_areas": null,
            "grid_template_columns": null,
            "grid_template_rows": null,
            "height": null,
            "justify_content": null,
            "justify_items": null,
            "left": null,
            "margin": null,
            "max_height": null,
            "max_width": null,
            "min_height": null,
            "min_width": null,
            "object_fit": null,
            "object_position": null,
            "order": null,
            "overflow": null,
            "overflow_x": null,
            "overflow_y": null,
            "padding": null,
            "right": null,
            "top": null,
            "visibility": null,
            "width": null
          }
        },
        "76022ec593134a88985ab4e6cd8eb957": {
          "model_module": "@jupyter-widgets/controls",
          "model_name": "DescriptionStyleModel",
          "model_module_version": "1.5.0",
          "state": {
            "_model_module": "@jupyter-widgets/controls",
            "_model_module_version": "1.5.0",
            "_model_name": "DescriptionStyleModel",
            "_view_count": null,
            "_view_module": "@jupyter-widgets/base",
            "_view_module_version": "1.2.0",
            "_view_name": "StyleView",
            "description_width": ""
          }
        },
        "ddd644c3e206457783e9c45527b8bbfa": {
          "model_module": "@jupyter-widgets/controls",
          "model_name": "HBoxModel",
          "model_module_version": "1.5.0",
          "state": {
            "_dom_classes": [],
            "_model_module": "@jupyter-widgets/controls",
            "_model_module_version": "1.5.0",
            "_model_name": "HBoxModel",
            "_view_count": null,
            "_view_module": "@jupyter-widgets/controls",
            "_view_module_version": "1.5.0",
            "_view_name": "HBoxView",
            "box_style": "",
            "children": [
              "IPY_MODEL_c33c4c69878a492ba4daec6353117ed9",
              "IPY_MODEL_ee7baebbaf0140d1aa7a3033e6ea10cf",
              "IPY_MODEL_8306bd1e0dbd4351a4ca1c608a5d8dab"
            ],
            "layout": "IPY_MODEL_914279fbc0e24c3d90eb6e25f7a1c65f"
          }
        },
        "c33c4c69878a492ba4daec6353117ed9": {
          "model_module": "@jupyter-widgets/controls",
          "model_name": "HTMLModel",
          "model_module_version": "1.5.0",
          "state": {
            "_dom_classes": [],
            "_model_module": "@jupyter-widgets/controls",
            "_model_module_version": "1.5.0",
            "_model_name": "HTMLModel",
            "_view_count": null,
            "_view_module": "@jupyter-widgets/controls",
            "_view_module_version": "1.5.0",
            "_view_name": "HTMLView",
            "description": "",
            "description_tooltip": null,
            "layout": "IPY_MODEL_6670dac1e1894e94b8156e19707d05b6",
            "placeholder": "​",
            "style": "IPY_MODEL_5b2142c6f25f4f12a5636753535d8124",
            "value": "Downloading (…)okenizer_config.json: 100%"
          }
        },
        "ee7baebbaf0140d1aa7a3033e6ea10cf": {
          "model_module": "@jupyter-widgets/controls",
          "model_name": "FloatProgressModel",
          "model_module_version": "1.5.0",
          "state": {
            "_dom_classes": [],
            "_model_module": "@jupyter-widgets/controls",
            "_model_module_version": "1.5.0",
            "_model_name": "FloatProgressModel",
            "_view_count": null,
            "_view_module": "@jupyter-widgets/controls",
            "_view_module_version": "1.5.0",
            "_view_name": "ProgressView",
            "bar_style": "success",
            "description": "",
            "description_tooltip": null,
            "layout": "IPY_MODEL_88ce944b629f4c6887daff4a0a447f35",
            "max": 28,
            "min": 0,
            "orientation": "horizontal",
            "style": "IPY_MODEL_52b05b7a688947358efe2fb6a0239db7",
            "value": 28
          }
        },
        "8306bd1e0dbd4351a4ca1c608a5d8dab": {
          "model_module": "@jupyter-widgets/controls",
          "model_name": "HTMLModel",
          "model_module_version": "1.5.0",
          "state": {
            "_dom_classes": [],
            "_model_module": "@jupyter-widgets/controls",
            "_model_module_version": "1.5.0",
            "_model_name": "HTMLModel",
            "_view_count": null,
            "_view_module": "@jupyter-widgets/controls",
            "_view_module_version": "1.5.0",
            "_view_name": "HTMLView",
            "description": "",
            "description_tooltip": null,
            "layout": "IPY_MODEL_b12811e2f9f1430aba87f7873cb4c4f5",
            "placeholder": "​",
            "style": "IPY_MODEL_c5a8a4f9141646b79190329864b3010b",
            "value": " 28.0/28.0 [00:00&lt;00:00, 359B/s]"
          }
        },
        "914279fbc0e24c3d90eb6e25f7a1c65f": {
          "model_module": "@jupyter-widgets/base",
          "model_name": "LayoutModel",
          "model_module_version": "1.2.0",
          "state": {
            "_model_module": "@jupyter-widgets/base",
            "_model_module_version": "1.2.0",
            "_model_name": "LayoutModel",
            "_view_count": null,
            "_view_module": "@jupyter-widgets/base",
            "_view_module_version": "1.2.0",
            "_view_name": "LayoutView",
            "align_content": null,
            "align_items": null,
            "align_self": null,
            "border": null,
            "bottom": null,
            "display": null,
            "flex": null,
            "flex_flow": null,
            "grid_area": null,
            "grid_auto_columns": null,
            "grid_auto_flow": null,
            "grid_auto_rows": null,
            "grid_column": null,
            "grid_gap": null,
            "grid_row": null,
            "grid_template_areas": null,
            "grid_template_columns": null,
            "grid_template_rows": null,
            "height": null,
            "justify_content": null,
            "justify_items": null,
            "left": null,
            "margin": null,
            "max_height": null,
            "max_width": null,
            "min_height": null,
            "min_width": null,
            "object_fit": null,
            "object_position": null,
            "order": null,
            "overflow": null,
            "overflow_x": null,
            "overflow_y": null,
            "padding": null,
            "right": null,
            "top": null,
            "visibility": null,
            "width": null
          }
        },
        "6670dac1e1894e94b8156e19707d05b6": {
          "model_module": "@jupyter-widgets/base",
          "model_name": "LayoutModel",
          "model_module_version": "1.2.0",
          "state": {
            "_model_module": "@jupyter-widgets/base",
            "_model_module_version": "1.2.0",
            "_model_name": "LayoutModel",
            "_view_count": null,
            "_view_module": "@jupyter-widgets/base",
            "_view_module_version": "1.2.0",
            "_view_name": "LayoutView",
            "align_content": null,
            "align_items": null,
            "align_self": null,
            "border": null,
            "bottom": null,
            "display": null,
            "flex": null,
            "flex_flow": null,
            "grid_area": null,
            "grid_auto_columns": null,
            "grid_auto_flow": null,
            "grid_auto_rows": null,
            "grid_column": null,
            "grid_gap": null,
            "grid_row": null,
            "grid_template_areas": null,
            "grid_template_columns": null,
            "grid_template_rows": null,
            "height": null,
            "justify_content": null,
            "justify_items": null,
            "left": null,
            "margin": null,
            "max_height": null,
            "max_width": null,
            "min_height": null,
            "min_width": null,
            "object_fit": null,
            "object_position": null,
            "order": null,
            "overflow": null,
            "overflow_x": null,
            "overflow_y": null,
            "padding": null,
            "right": null,
            "top": null,
            "visibility": null,
            "width": null
          }
        },
        "5b2142c6f25f4f12a5636753535d8124": {
          "model_module": "@jupyter-widgets/controls",
          "model_name": "DescriptionStyleModel",
          "model_module_version": "1.5.0",
          "state": {
            "_model_module": "@jupyter-widgets/controls",
            "_model_module_version": "1.5.0",
            "_model_name": "DescriptionStyleModel",
            "_view_count": null,
            "_view_module": "@jupyter-widgets/base",
            "_view_module_version": "1.2.0",
            "_view_name": "StyleView",
            "description_width": ""
          }
        },
        "88ce944b629f4c6887daff4a0a447f35": {
          "model_module": "@jupyter-widgets/base",
          "model_name": "LayoutModel",
          "model_module_version": "1.2.0",
          "state": {
            "_model_module": "@jupyter-widgets/base",
            "_model_module_version": "1.2.0",
            "_model_name": "LayoutModel",
            "_view_count": null,
            "_view_module": "@jupyter-widgets/base",
            "_view_module_version": "1.2.0",
            "_view_name": "LayoutView",
            "align_content": null,
            "align_items": null,
            "align_self": null,
            "border": null,
            "bottom": null,
            "display": null,
            "flex": null,
            "flex_flow": null,
            "grid_area": null,
            "grid_auto_columns": null,
            "grid_auto_flow": null,
            "grid_auto_rows": null,
            "grid_column": null,
            "grid_gap": null,
            "grid_row": null,
            "grid_template_areas": null,
            "grid_template_columns": null,
            "grid_template_rows": null,
            "height": null,
            "justify_content": null,
            "justify_items": null,
            "left": null,
            "margin": null,
            "max_height": null,
            "max_width": null,
            "min_height": null,
            "min_width": null,
            "object_fit": null,
            "object_position": null,
            "order": null,
            "overflow": null,
            "overflow_x": null,
            "overflow_y": null,
            "padding": null,
            "right": null,
            "top": null,
            "visibility": null,
            "width": null
          }
        },
        "52b05b7a688947358efe2fb6a0239db7": {
          "model_module": "@jupyter-widgets/controls",
          "model_name": "ProgressStyleModel",
          "model_module_version": "1.5.0",
          "state": {
            "_model_module": "@jupyter-widgets/controls",
            "_model_module_version": "1.5.0",
            "_model_name": "ProgressStyleModel",
            "_view_count": null,
            "_view_module": "@jupyter-widgets/base",
            "_view_module_version": "1.2.0",
            "_view_name": "StyleView",
            "bar_color": null,
            "description_width": ""
          }
        },
        "b12811e2f9f1430aba87f7873cb4c4f5": {
          "model_module": "@jupyter-widgets/base",
          "model_name": "LayoutModel",
          "model_module_version": "1.2.0",
          "state": {
            "_model_module": "@jupyter-widgets/base",
            "_model_module_version": "1.2.0",
            "_model_name": "LayoutModel",
            "_view_count": null,
            "_view_module": "@jupyter-widgets/base",
            "_view_module_version": "1.2.0",
            "_view_name": "LayoutView",
            "align_content": null,
            "align_items": null,
            "align_self": null,
            "border": null,
            "bottom": null,
            "display": null,
            "flex": null,
            "flex_flow": null,
            "grid_area": null,
            "grid_auto_columns": null,
            "grid_auto_flow": null,
            "grid_auto_rows": null,
            "grid_column": null,
            "grid_gap": null,
            "grid_row": null,
            "grid_template_areas": null,
            "grid_template_columns": null,
            "grid_template_rows": null,
            "height": null,
            "justify_content": null,
            "justify_items": null,
            "left": null,
            "margin": null,
            "max_height": null,
            "max_width": null,
            "min_height": null,
            "min_width": null,
            "object_fit": null,
            "object_position": null,
            "order": null,
            "overflow": null,
            "overflow_x": null,
            "overflow_y": null,
            "padding": null,
            "right": null,
            "top": null,
            "visibility": null,
            "width": null
          }
        },
        "c5a8a4f9141646b79190329864b3010b": {
          "model_module": "@jupyter-widgets/controls",
          "model_name": "DescriptionStyleModel",
          "model_module_version": "1.5.0",
          "state": {
            "_model_module": "@jupyter-widgets/controls",
            "_model_module_version": "1.5.0",
            "_model_name": "DescriptionStyleModel",
            "_view_count": null,
            "_view_module": "@jupyter-widgets/base",
            "_view_module_version": "1.2.0",
            "_view_name": "StyleView",
            "description_width": ""
          }
        },
        "8fbf545b218d4175afea13fa4cf35cdb": {
          "model_module": "@jupyter-widgets/controls",
          "model_name": "HBoxModel",
          "model_module_version": "1.5.0",
          "state": {
            "_dom_classes": [],
            "_model_module": "@jupyter-widgets/controls",
            "_model_module_version": "1.5.0",
            "_model_name": "HBoxModel",
            "_view_count": null,
            "_view_module": "@jupyter-widgets/controls",
            "_view_module_version": "1.5.0",
            "_view_name": "HBoxView",
            "box_style": "",
            "children": [
              "IPY_MODEL_487f0b9c027848d0ae0296fd1ca84d19",
              "IPY_MODEL_65edca894fcb42b2b8067370403b8412",
              "IPY_MODEL_284da3e59cf244278a5ef5cfa505137c"
            ],
            "layout": "IPY_MODEL_e38990d95f6642bdb63d8e454b87c761"
          }
        },
        "487f0b9c027848d0ae0296fd1ca84d19": {
          "model_module": "@jupyter-widgets/controls",
          "model_name": "HTMLModel",
          "model_module_version": "1.5.0",
          "state": {
            "_dom_classes": [],
            "_model_module": "@jupyter-widgets/controls",
            "_model_module_version": "1.5.0",
            "_model_name": "HTMLModel",
            "_view_count": null,
            "_view_module": "@jupyter-widgets/controls",
            "_view_module_version": "1.5.0",
            "_view_name": "HTMLView",
            "description": "",
            "description_tooltip": null,
            "layout": "IPY_MODEL_6b1b2ba5ad0e45ee868d5b4f6dc4976d",
            "placeholder": "​",
            "style": "IPY_MODEL_d6bba958ca7a4ee5b66a0edb0846246b",
            "value": "Downloading (…)lve/main/config.json: 100%"
          }
        },
        "65edca894fcb42b2b8067370403b8412": {
          "model_module": "@jupyter-widgets/controls",
          "model_name": "FloatProgressModel",
          "model_module_version": "1.5.0",
          "state": {
            "_dom_classes": [],
            "_model_module": "@jupyter-widgets/controls",
            "_model_module_version": "1.5.0",
            "_model_name": "FloatProgressModel",
            "_view_count": null,
            "_view_module": "@jupyter-widgets/controls",
            "_view_module_version": "1.5.0",
            "_view_name": "ProgressView",
            "bar_style": "success",
            "description": "",
            "description_tooltip": null,
            "layout": "IPY_MODEL_5b80783d5dab4a4e9aef39c6f3a0da30",
            "max": 570,
            "min": 0,
            "orientation": "horizontal",
            "style": "IPY_MODEL_9c18cdd393a144a8903b7bfebec28767",
            "value": 570
          }
        },
        "284da3e59cf244278a5ef5cfa505137c": {
          "model_module": "@jupyter-widgets/controls",
          "model_name": "HTMLModel",
          "model_module_version": "1.5.0",
          "state": {
            "_dom_classes": [],
            "_model_module": "@jupyter-widgets/controls",
            "_model_module_version": "1.5.0",
            "_model_name": "HTMLModel",
            "_view_count": null,
            "_view_module": "@jupyter-widgets/controls",
            "_view_module_version": "1.5.0",
            "_view_name": "HTMLView",
            "description": "",
            "description_tooltip": null,
            "layout": "IPY_MODEL_979931c9236c4527bcb68b21aabd407c",
            "placeholder": "​",
            "style": "IPY_MODEL_e9442887bf024fe5abec74fc9e470acf",
            "value": " 570/570 [00:00&lt;00:00, 18.8kB/s]"
          }
        },
        "e38990d95f6642bdb63d8e454b87c761": {
          "model_module": "@jupyter-widgets/base",
          "model_name": "LayoutModel",
          "model_module_version": "1.2.0",
          "state": {
            "_model_module": "@jupyter-widgets/base",
            "_model_module_version": "1.2.0",
            "_model_name": "LayoutModel",
            "_view_count": null,
            "_view_module": "@jupyter-widgets/base",
            "_view_module_version": "1.2.0",
            "_view_name": "LayoutView",
            "align_content": null,
            "align_items": null,
            "align_self": null,
            "border": null,
            "bottom": null,
            "display": null,
            "flex": null,
            "flex_flow": null,
            "grid_area": null,
            "grid_auto_columns": null,
            "grid_auto_flow": null,
            "grid_auto_rows": null,
            "grid_column": null,
            "grid_gap": null,
            "grid_row": null,
            "grid_template_areas": null,
            "grid_template_columns": null,
            "grid_template_rows": null,
            "height": null,
            "justify_content": null,
            "justify_items": null,
            "left": null,
            "margin": null,
            "max_height": null,
            "max_width": null,
            "min_height": null,
            "min_width": null,
            "object_fit": null,
            "object_position": null,
            "order": null,
            "overflow": null,
            "overflow_x": null,
            "overflow_y": null,
            "padding": null,
            "right": null,
            "top": null,
            "visibility": null,
            "width": null
          }
        },
        "6b1b2ba5ad0e45ee868d5b4f6dc4976d": {
          "model_module": "@jupyter-widgets/base",
          "model_name": "LayoutModel",
          "model_module_version": "1.2.0",
          "state": {
            "_model_module": "@jupyter-widgets/base",
            "_model_module_version": "1.2.0",
            "_model_name": "LayoutModel",
            "_view_count": null,
            "_view_module": "@jupyter-widgets/base",
            "_view_module_version": "1.2.0",
            "_view_name": "LayoutView",
            "align_content": null,
            "align_items": null,
            "align_self": null,
            "border": null,
            "bottom": null,
            "display": null,
            "flex": null,
            "flex_flow": null,
            "grid_area": null,
            "grid_auto_columns": null,
            "grid_auto_flow": null,
            "grid_auto_rows": null,
            "grid_column": null,
            "grid_gap": null,
            "grid_row": null,
            "grid_template_areas": null,
            "grid_template_columns": null,
            "grid_template_rows": null,
            "height": null,
            "justify_content": null,
            "justify_items": null,
            "left": null,
            "margin": null,
            "max_height": null,
            "max_width": null,
            "min_height": null,
            "min_width": null,
            "object_fit": null,
            "object_position": null,
            "order": null,
            "overflow": null,
            "overflow_x": null,
            "overflow_y": null,
            "padding": null,
            "right": null,
            "top": null,
            "visibility": null,
            "width": null
          }
        },
        "d6bba958ca7a4ee5b66a0edb0846246b": {
          "model_module": "@jupyter-widgets/controls",
          "model_name": "DescriptionStyleModel",
          "model_module_version": "1.5.0",
          "state": {
            "_model_module": "@jupyter-widgets/controls",
            "_model_module_version": "1.5.0",
            "_model_name": "DescriptionStyleModel",
            "_view_count": null,
            "_view_module": "@jupyter-widgets/base",
            "_view_module_version": "1.2.0",
            "_view_name": "StyleView",
            "description_width": ""
          }
        },
        "5b80783d5dab4a4e9aef39c6f3a0da30": {
          "model_module": "@jupyter-widgets/base",
          "model_name": "LayoutModel",
          "model_module_version": "1.2.0",
          "state": {
            "_model_module": "@jupyter-widgets/base",
            "_model_module_version": "1.2.0",
            "_model_name": "LayoutModel",
            "_view_count": null,
            "_view_module": "@jupyter-widgets/base",
            "_view_module_version": "1.2.0",
            "_view_name": "LayoutView",
            "align_content": null,
            "align_items": null,
            "align_self": null,
            "border": null,
            "bottom": null,
            "display": null,
            "flex": null,
            "flex_flow": null,
            "grid_area": null,
            "grid_auto_columns": null,
            "grid_auto_flow": null,
            "grid_auto_rows": null,
            "grid_column": null,
            "grid_gap": null,
            "grid_row": null,
            "grid_template_areas": null,
            "grid_template_columns": null,
            "grid_template_rows": null,
            "height": null,
            "justify_content": null,
            "justify_items": null,
            "left": null,
            "margin": null,
            "max_height": null,
            "max_width": null,
            "min_height": null,
            "min_width": null,
            "object_fit": null,
            "object_position": null,
            "order": null,
            "overflow": null,
            "overflow_x": null,
            "overflow_y": null,
            "padding": null,
            "right": null,
            "top": null,
            "visibility": null,
            "width": null
          }
        },
        "9c18cdd393a144a8903b7bfebec28767": {
          "model_module": "@jupyter-widgets/controls",
          "model_name": "ProgressStyleModel",
          "model_module_version": "1.5.0",
          "state": {
            "_model_module": "@jupyter-widgets/controls",
            "_model_module_version": "1.5.0",
            "_model_name": "ProgressStyleModel",
            "_view_count": null,
            "_view_module": "@jupyter-widgets/base",
            "_view_module_version": "1.2.0",
            "_view_name": "StyleView",
            "bar_color": null,
            "description_width": ""
          }
        },
        "979931c9236c4527bcb68b21aabd407c": {
          "model_module": "@jupyter-widgets/base",
          "model_name": "LayoutModel",
          "model_module_version": "1.2.0",
          "state": {
            "_model_module": "@jupyter-widgets/base",
            "_model_module_version": "1.2.0",
            "_model_name": "LayoutModel",
            "_view_count": null,
            "_view_module": "@jupyter-widgets/base",
            "_view_module_version": "1.2.0",
            "_view_name": "LayoutView",
            "align_content": null,
            "align_items": null,
            "align_self": null,
            "border": null,
            "bottom": null,
            "display": null,
            "flex": null,
            "flex_flow": null,
            "grid_area": null,
            "grid_auto_columns": null,
            "grid_auto_flow": null,
            "grid_auto_rows": null,
            "grid_column": null,
            "grid_gap": null,
            "grid_row": null,
            "grid_template_areas": null,
            "grid_template_columns": null,
            "grid_template_rows": null,
            "height": null,
            "justify_content": null,
            "justify_items": null,
            "left": null,
            "margin": null,
            "max_height": null,
            "max_width": null,
            "min_height": null,
            "min_width": null,
            "object_fit": null,
            "object_position": null,
            "order": null,
            "overflow": null,
            "overflow_x": null,
            "overflow_y": null,
            "padding": null,
            "right": null,
            "top": null,
            "visibility": null,
            "width": null
          }
        },
        "e9442887bf024fe5abec74fc9e470acf": {
          "model_module": "@jupyter-widgets/controls",
          "model_name": "DescriptionStyleModel",
          "model_module_version": "1.5.0",
          "state": {
            "_model_module": "@jupyter-widgets/controls",
            "_model_module_version": "1.5.0",
            "_model_name": "DescriptionStyleModel",
            "_view_count": null,
            "_view_module": "@jupyter-widgets/base",
            "_view_module_version": "1.2.0",
            "_view_name": "StyleView",
            "description_width": ""
          }
        }
      }
    }
  },
  "cells": [
    {
      "cell_type": "code",
      "execution_count": 1,
      "metadata": {
        "colab": {
          "base_uri": "https://localhost:8080/"
        },
        "id": "tK4FYS7XJ4v1",
        "outputId": "f37972ae-210c-46f5-a69c-eb61c63f2907"
      },
      "outputs": [
        {
          "output_type": "stream",
          "name": "stdout",
          "text": [
            "Mounted at /content/drive\n"
          ]
        }
      ],
      "source": [
        "from google.colab import drive\n",
        "drive.mount('/content/drive')"
      ]
    },
    {
      "cell_type": "code",
      "source": [
        "from pathlib import Path\n",
        "ROOT = Path('/content/drive/MyDrive/universite-paris-saclay/nlp/rottentomatoes')"
      ],
      "metadata": {
        "id": "XhjHEd5IKdzm"
      },
      "execution_count": 2,
      "outputs": []
    },
    {
      "cell_type": "code",
      "source": [
        "!pip install transformers"
      ],
      "metadata": {
        "colab": {
          "base_uri": "https://localhost:8080/"
        },
        "id": "FFVSzdeOKqsA",
        "outputId": "b7202818-7e5d-4621-c79a-f0cfc9c0cbd0"
      },
      "execution_count": 3,
      "outputs": [
        {
          "output_type": "stream",
          "name": "stdout",
          "text": [
            "Looking in indexes: https://pypi.org/simple, https://us-python.pkg.dev/colab-wheels/public/simple/\n",
            "Collecting transformers\n",
            "  Downloading transformers-4.26.1-py3-none-any.whl (6.3 MB)\n",
            "\u001b[2K     \u001b[90m━━━━━━━━━━━━━━━━━━━━━━━━━━━━━━━━━━━━━━━━\u001b[0m \u001b[32m6.3/6.3 MB\u001b[0m \u001b[31m101.6 MB/s\u001b[0m eta \u001b[36m0:00:00\u001b[0m\n",
            "\u001b[?25hRequirement already satisfied: packaging>=20.0 in /usr/local/lib/python3.8/dist-packages (from transformers) (23.0)\n",
            "Requirement already satisfied: numpy>=1.17 in /usr/local/lib/python3.8/dist-packages (from transformers) (1.22.4)\n",
            "Requirement already satisfied: regex!=2019.12.17 in /usr/local/lib/python3.8/dist-packages (from transformers) (2022.6.2)\n",
            "Requirement already satisfied: requests in /usr/local/lib/python3.8/dist-packages (from transformers) (2.25.1)\n",
            "Collecting huggingface-hub<1.0,>=0.11.0\n",
            "  Downloading huggingface_hub-0.12.1-py3-none-any.whl (190 kB)\n",
            "\u001b[2K     \u001b[90m━━━━━━━━━━━━━━━━━━━━━━━━━━━━━━━━━━━━━━\u001b[0m \u001b[32m190.3/190.3 KB\u001b[0m \u001b[31m27.4 MB/s\u001b[0m eta \u001b[36m0:00:00\u001b[0m\n",
            "\u001b[?25hCollecting tokenizers!=0.11.3,<0.14,>=0.11.1\n",
            "  Downloading tokenizers-0.13.2-cp38-cp38-manylinux_2_17_x86_64.manylinux2014_x86_64.whl (7.6 MB)\n",
            "\u001b[2K     \u001b[90m━━━━━━━━━━━━━━━━━━━━━━━━━━━━━━━━━━━━━━━━\u001b[0m \u001b[32m7.6/7.6 MB\u001b[0m \u001b[31m110.5 MB/s\u001b[0m eta \u001b[36m0:00:00\u001b[0m\n",
            "\u001b[?25hRequirement already satisfied: tqdm>=4.27 in /usr/local/lib/python3.8/dist-packages (from transformers) (4.64.1)\n",
            "Requirement already satisfied: filelock in /usr/local/lib/python3.8/dist-packages (from transformers) (3.9.0)\n",
            "Requirement already satisfied: pyyaml>=5.1 in /usr/local/lib/python3.8/dist-packages (from transformers) (6.0)\n",
            "Requirement already satisfied: typing-extensions>=3.7.4.3 in /usr/local/lib/python3.8/dist-packages (from huggingface-hub<1.0,>=0.11.0->transformers) (4.5.0)\n",
            "Requirement already satisfied: idna<3,>=2.5 in /usr/local/lib/python3.8/dist-packages (from requests->transformers) (2.10)\n",
            "Requirement already satisfied: urllib3<1.27,>=1.21.1 in /usr/local/lib/python3.8/dist-packages (from requests->transformers) (1.26.14)\n",
            "Requirement already satisfied: chardet<5,>=3.0.2 in /usr/local/lib/python3.8/dist-packages (from requests->transformers) (4.0.0)\n",
            "Requirement already satisfied: certifi>=2017.4.17 in /usr/local/lib/python3.8/dist-packages (from requests->transformers) (2022.12.7)\n",
            "Installing collected packages: tokenizers, huggingface-hub, transformers\n",
            "Successfully installed huggingface-hub-0.12.1 tokenizers-0.13.2 transformers-4.26.1\n"
          ]
        }
      ]
    },
    {
      "cell_type": "code",
      "source": [
        "from pathlib import Path\n",
        "from gensim.models import Word2Vec\n",
        "from nltk.tokenize import word_tokenize\n",
        "from nltk.corpus import stopwords\n",
        "from nltk.stem import WordNetLemmatizer\n",
        "from sklearn.decomposition import PCA\n",
        "from wordcloud import WordCloud\n",
        "from transformers import BertModel, BertTokenizer\n",
        "from sklearn.metrics import accuracy_score\n",
        "from torch.utils.data import TensorDataset, Dataset, DataLoader, random_split\n",
        "from torch.utils.data import TensorDataset, DataLoader, RandomSampler, SequentialSampler\n",
        "\n",
        "\n",
        "import matplotlib.pyplot as plt\n",
        "import re\n",
        "import pandas as pd\n",
        "import numpy as np\n",
        "import matplotlib.pyplot as plt\n",
        "import seaborn as sns\n",
        "import random\n",
        "import nltk\n",
        "import gensim\n",
        "import torch\n",
        "import torch.nn as nn\n",
        "\n",
        "import numpy as np\n",
        "import matplotlib.pyplot as plt\n",
        "from sklearn.metrics import confusion_matrix, accuracy_score, precision_score, recall_score, f1_score\n",
        "from sklearn.metrics import mean_squared_error, mean_absolute_error, r2_score\n",
        "from sklearn.metrics import classification_report\n",
        "from sklearn.model_selection import train_test_split"
      ],
      "metadata": {
        "id": "UFU4HTYUK5EA"
      },
      "execution_count": 4,
      "outputs": []
    },
    {
      "cell_type": "code",
      "source": [
        "tokenizer = BertTokenizer.from_pretrained('bert-base-uncased')"
      ],
      "metadata": {
        "colab": {
          "base_uri": "https://localhost:8080/",
          "height": 113,
          "referenced_widgets": [
            "a46617fddc924596baa9d05bb16c26d7",
            "fc7a618009c24598b7091c3c4c0f7f00",
            "5245abc83da74177b4c7a39edd00a4df",
            "8d6d82e944ce4892a1eae0573fac06ef",
            "e20de0f5a7094504b2dc9130df9a3e1f",
            "a9888eb572574a469baccb1abe2933e0",
            "b4d2a46f3cfb4770a749071299b43471",
            "891ba84505934ab5aac4c7383f9421c9",
            "bbd79640c3a94204a774aeb8f9d0e02b",
            "7e57841f46144294840d34f591d01dfe",
            "76022ec593134a88985ab4e6cd8eb957",
            "ddd644c3e206457783e9c45527b8bbfa",
            "c33c4c69878a492ba4daec6353117ed9",
            "ee7baebbaf0140d1aa7a3033e6ea10cf",
            "8306bd1e0dbd4351a4ca1c608a5d8dab",
            "914279fbc0e24c3d90eb6e25f7a1c65f",
            "6670dac1e1894e94b8156e19707d05b6",
            "5b2142c6f25f4f12a5636753535d8124",
            "88ce944b629f4c6887daff4a0a447f35",
            "52b05b7a688947358efe2fb6a0239db7",
            "b12811e2f9f1430aba87f7873cb4c4f5",
            "c5a8a4f9141646b79190329864b3010b",
            "8fbf545b218d4175afea13fa4cf35cdb",
            "487f0b9c027848d0ae0296fd1ca84d19",
            "65edca894fcb42b2b8067370403b8412",
            "284da3e59cf244278a5ef5cfa505137c",
            "e38990d95f6642bdb63d8e454b87c761",
            "6b1b2ba5ad0e45ee868d5b4f6dc4976d",
            "d6bba958ca7a4ee5b66a0edb0846246b",
            "5b80783d5dab4a4e9aef39c6f3a0da30",
            "9c18cdd393a144a8903b7bfebec28767",
            "979931c9236c4527bcb68b21aabd407c",
            "e9442887bf024fe5abec74fc9e470acf"
          ]
        },
        "id": "plwtLRR1LkMz",
        "outputId": "ba73c700-2ad7-475f-d6fa-ffa3083ba61f"
      },
      "execution_count": 5,
      "outputs": [
        {
          "output_type": "display_data",
          "data": {
            "text/plain": [
              "Downloading (…)solve/main/vocab.txt:   0%|          | 0.00/232k [00:00<?, ?B/s]"
            ],
            "application/vnd.jupyter.widget-view+json": {
              "version_major": 2,
              "version_minor": 0,
              "model_id": "a46617fddc924596baa9d05bb16c26d7"
            }
          },
          "metadata": {}
        },
        {
          "output_type": "display_data",
          "data": {
            "text/plain": [
              "Downloading (…)okenizer_config.json:   0%|          | 0.00/28.0 [00:00<?, ?B/s]"
            ],
            "application/vnd.jupyter.widget-view+json": {
              "version_major": 2,
              "version_minor": 0,
              "model_id": "ddd644c3e206457783e9c45527b8bbfa"
            }
          },
          "metadata": {}
        },
        {
          "output_type": "display_data",
          "data": {
            "text/plain": [
              "Downloading (…)lve/main/config.json:   0%|          | 0.00/570 [00:00<?, ?B/s]"
            ],
            "application/vnd.jupyter.widget-view+json": {
              "version_major": 2,
              "version_minor": 0,
              "model_id": "8fbf545b218d4175afea13fa4cf35cdb"
            }
          },
          "metadata": {}
        }
      ]
    },
    {
      "cell_type": "code",
      "source": [
        "RANDOM_STATE = 2023\n",
        "\n",
        "TEST_SIZE = 0.2\n",
        "VALIDATION_SIZE = 0.2"
      ],
      "metadata": {
        "id": "DUsNZPhuM0rR"
      },
      "execution_count": 6,
      "outputs": []
    },
    {
      "cell_type": "code",
      "source": [
        "# Create a function to tokenize a set of texts\n",
        "def preprocessing_for_bert(data, max_len):\n",
        "    \"\"\"Perform required preprocessing steps for pretrained BERT.\n",
        "    @param    data (np.array): Array of texts to be processed.\n",
        "    @return   input_ids (torch.Tensor): Tensor of token ids to be fed to a model.\n",
        "    @return   attention_masks (torch.Tensor): Tensor of indices specifying which\n",
        "                  tokens should be attended to by the model.\n",
        "    \"\"\"\n",
        "    # Create empty lists to store outputs\n",
        "    input_ids = []\n",
        "    attention_masks = []\n",
        "\n",
        "    # For every sentence...\n",
        "    for sent in data:\n",
        "        # `encode_plus` will:\n",
        "        #    (1) Tokenize the sentence\n",
        "        #    (2) Add the `[CLS]` and `[SEP]` token to the start and end\n",
        "        #    (3) Truncate/Pad sentence to max length\n",
        "        #    (4) Map tokens to their IDs\n",
        "        #    (5) Create attention mask\n",
        "        #    (6) Return a dictionary of outputs\n",
        "        encoded_sent = tokenizer.encode_plus(\n",
        "            text = sent,  # Preprocess sentence\n",
        "            add_special_tokens=True,        # Add `[CLS]` and `[SEP]`\n",
        "            max_length=max_len,                  # Max length to truncate/pad\n",
        "            pad_to_max_length=True,         # Pad sentence to max length\n",
        "            #return_tensors='pt',           # Return PyTorch tensor\n",
        "            return_attention_mask=True      # Return attention mask\n",
        "            )\n",
        "        \n",
        "        # Add the outputs to the lists\n",
        "        input_ids.append(encoded_sent.get('input_ids'))\n",
        "        attention_masks.append(encoded_sent.get('attention_mask'))\n",
        "\n",
        "    # Convert lists to tensors\n",
        "    input_ids = torch.tensor(input_ids)\n",
        "    attention_masks = torch.tensor(attention_masks)\n",
        "\n",
        "    return input_ids, attention_masks"
      ],
      "metadata": {
        "id": "YsFx0vUcLfte"
      },
      "execution_count": 7,
      "outputs": []
    },
    {
      "cell_type": "markdown",
      "source": [
        "TASKS:\n",
        "- Classification (binary: [Rotten/Fresh])\n",
        "- Regression: [0-5]"
      ],
      "metadata": {
        "id": "KDu77ivJLs7_"
      }
    },
    {
      "cell_type": "markdown",
      "source": [
        "-----"
      ],
      "metadata": {
        "id": "wpsN9BxwMFIS"
      }
    },
    {
      "cell_type": "markdown",
      "source": [
        "# CLASSIFICATION"
      ],
      "metadata": {
        "id": "x12bX5mhMKTo"
      }
    },
    {
      "cell_type": "code",
      "source": [
        "# REGRESSION"
      ],
      "metadata": {
        "id": "OcciFV-MMDMC"
      },
      "execution_count": 8,
      "outputs": []
    },
    {
      "cell_type": "code",
      "source": [
        "reviews_df = pd.read_csv(ROOT / \"preprocessed_reviews.csv\")\n",
        "\n",
        "# Sample just a portion of the data\n",
        "# perc = 0.99\n",
        "# reviews_df = reviews_df.sample(frac=perc, random_state=RANDOM_STATE)\n",
        "\n",
        "X = reviews_df['review_content'].values\n",
        "y = reviews_df['review_type'].values\n",
        "\n",
        "X_train, X_test, y_train, y_test =\\\n",
        "    train_test_split(X, y, test_size=TEST_SIZE, random_state=RANDOM_STATE)\n",
        "\n",
        "X_train, X_val, y_train, y_val =\\\n",
        "    train_test_split(X_train, y_train, test_size=VALIDATION_SIZE, random_state=RANDOM_STATE)\n",
        "\n",
        "# Tokenize the input text\n",
        "\n",
        "# From the histogram we saw that all the reviews\n",
        "# are shorter than 30 tokens.\n",
        "max_len = 30\n",
        "\n",
        "# Run function `preprocessing_for_bert` on the train set, the validation set and the test set\n",
        "train_inputs, train_masks = preprocessing_for_bert(X_train, max_len)\n",
        "val_inputs, val_masks = preprocessing_for_bert(X_val, max_len)\n",
        "test_inputs, test_masks = preprocessing_for_bert(X_test, max_len)\n",
        "\n",
        "# Convert other data types to torch.Tensor\n",
        "train_labels = torch.tensor(y_train)\n",
        "val_labels = torch.tensor(y_val)\n",
        "test_labels = torch.tensor(y_test)\n",
        "\n",
        "# For fine-tuning BERT, it's recommended a batch size of 16 or 32.\n",
        "batch_size = 32\n",
        "\n",
        "# Create the DataLoader for our training set\n",
        "train_data = TensorDataset(train_inputs, train_masks, train_labels)\n",
        "train_sampler = RandomSampler(train_data)\n",
        "train_dataloader = DataLoader(train_data, sampler=train_sampler, batch_size=batch_size)\n",
        "\n",
        "# Create the DataLoader for our validation set\n",
        "val_data = TensorDataset(val_inputs, val_masks, val_labels)\n",
        "val_sampler = SequentialSampler(val_data)\n",
        "val_dataloader = DataLoader(val_data, sampler=val_sampler, batch_size=batch_size)\n",
        "\n",
        "# Create the DataLoader for our test set\n",
        "test_data = TensorDataset(test_inputs, test_masks, test_labels)\n",
        "test_sampler = SequentialSampler(test_data)\n",
        "test_dataloader = DataLoader(test_data, sampler=test_sampler, batch_size=1)"
      ],
      "metadata": {
        "id": "FRAc97OuMmct"
      },
      "execution_count": 15,
      "outputs": []
    },
    {
      "cell_type": "code",
      "source": [
        "if torch.cuda.is_available():       \n",
        "    device = torch.device(\"cuda\")\n",
        "    print(f'There are {torch.cuda.device_count()} GPU(s) available.')\n",
        "    print('Device name:', torch.cuda.get_device_name(0))\n",
        "\n",
        "else:\n",
        "    print('No GPU available, using the CPU instead.')\n",
        "    device = torch.device(\"cpu\")"
      ],
      "metadata": {
        "colab": {
          "base_uri": "https://localhost:8080/"
        },
        "id": "gC0eCfWBN1ry",
        "outputId": "d5508059-255a-4f18-d727-33632c5c3c7e"
      },
      "execution_count": 16,
      "outputs": [
        {
          "output_type": "stream",
          "name": "stdout",
          "text": [
            "There are 1 GPU(s) available.\n",
            "Device name: Tesla T4\n"
          ]
        }
      ]
    },
    {
      "cell_type": "code",
      "source": [
        "class BertForSentimentAnalysis(nn.Module):\n",
        "    def __init__(self, freeze_bert=False):\n",
        "        \"\"\"\n",
        "        @param    bert: a BertModel object\n",
        "        @param    classifier: a torch.nn.Module classifier\n",
        "        @param    freeze_bert (bool): Set `False` to fine-tune the BERT model\n",
        "        \"\"\"\n",
        "        super(BertForSentimentAnalysis, self).__init__()\n",
        "        # Specify hidden size of BERT, hidden size of our classifier, and number of labels\n",
        "        \n",
        "        D_in, H, D_out = 768, 100, 2 #The hidden level can be changed to improve the performances!\n",
        "\n",
        "        # Instantiate BERT model\n",
        "        self.bert = BertModel.from_pretrained('bert-base-uncased')\n",
        "\n",
        "        # Instantiate an one-layer feed-forward classifier\n",
        "        self.classifier = nn.Sequential(\n",
        "            nn.Dropout(0.1), #Try to change the dropout value to improve the performances\n",
        "            nn.Linear(D_in, H),\n",
        "            nn.ReLU(),\n",
        "            nn.Linear(H, D_out)\n",
        "        )\n",
        "\n",
        "        # Freeze the BERT model\n",
        "        if freeze_bert:\n",
        "            for param in self.bert.parameters():\n",
        "                param.requires_grad = False\n",
        "\n",
        "    def forward(self, input_ids, attention_mask):\n",
        "        \"\"\"\n",
        "        Feed input to BERT and the classifier to compute logits.\n",
        "        @param    input_ids (torch.Tensor): an input tensor with shape (batch_size,\n",
        "                      max_length)\n",
        "        @param    attention_mask (torch.Tensor): a tensor that hold attention mask\n",
        "                      information with shape (batch_size, max_length)\n",
        "        @return   logits (torch.Tensor): an output tensor with shape (batch_size,\n",
        "                      num_labels)\n",
        "        \"\"\"\n",
        "        # Feed input to BERT\n",
        "        outputs = self.bert(input_ids=input_ids,\n",
        "                            attention_mask=attention_mask)\n",
        "        \n",
        "        pooled_output = outputs.pooler_output\n",
        "        # Extract the last hidden state of the token `[CLS]` for classification task\n",
        "        # last_hidden_state_cls = outputs[0][:, 0, :]\n",
        "\n",
        "        # Feed input to classifier to compute logits\n",
        "        logits = self.classifier(pooled_output)\n",
        "\n",
        "        return logits"
      ],
      "metadata": {
        "id": "Oushw3ihN39H"
      },
      "execution_count": 17,
      "outputs": []
    },
    {
      "cell_type": "code",
      "source": [
        "def train(model, train_dataloader, optimizer, criterion):\n",
        "    model.train()\n",
        "    total_loss, total_acc = 0, 0\n",
        "    for step, batch in enumerate(train_dataloader):\n",
        "        input_ids, attention_mask, labels = tuple(t.to(device) for t in batch)\n",
        "        optimizer.zero_grad()\n",
        "        logits = model(input_ids, attention_mask=attention_mask)\n",
        "        loss = criterion(logits, labels)\n",
        "        loss.backward()\n",
        "        optimizer.step()\n",
        "        total_loss += loss.item()\n",
        "        total_acc += accuracy_score(torch.argmax(logits, axis=1).cpu().numpy(), labels.cpu().numpy())\n",
        "    return total_loss/len(train_dataloader), total_acc/len(train_dataloader)\n",
        "\n",
        "\n",
        "def evaluate(model, val_dataloader, criterion):\n",
        "    model.eval()\n",
        "    total_loss, total_acc = 0, 0\n",
        "    with torch.no_grad():\n",
        "        for step, batch in enumerate(val_dataloader):\n",
        "            input_ids, attention_mask, labels = tuple(t.to(device) for t in batch)\n",
        "            logits = model(input_ids, attention_mask=attention_mask)\n",
        "            loss = criterion(logits, labels)\n",
        "            total_loss += loss.item()\n",
        "            total_acc += accuracy_score(torch.argmax(logits, axis=1).cpu().numpy(), labels.cpu().numpy())\n",
        "    return total_loss/len(val_dataloader), total_acc/len(val_dataloader)"
      ],
      "metadata": {
        "id": "VaOHyW-dQw4s"
      },
      "execution_count": 18,
      "outputs": []
    },
    {
      "cell_type": "code",
      "source": [
        "model = BertForSentimentAnalysis(freeze_bert=False)\n",
        "model.to(device)\n",
        "\n",
        "optimizer = torch.optim.Adam(model.parameters(), lr=2e-5)\n",
        "criterion = nn.CrossEntropyLoss()"
      ],
      "metadata": {
        "colab": {
          "base_uri": "https://localhost:8080/"
        },
        "id": "eFbQZpAWQ2n9",
        "outputId": "113f763e-26cf-4e7f-b7b6-fa5fb2151bc5"
      },
      "execution_count": 19,
      "outputs": [
        {
          "output_type": "stream",
          "name": "stderr",
          "text": [
            "Some weights of the model checkpoint at bert-base-uncased were not used when initializing BertModel: ['cls.seq_relationship.bias', 'cls.seq_relationship.weight', 'cls.predictions.bias', 'cls.predictions.transform.LayerNorm.weight', 'cls.predictions.transform.LayerNorm.bias', 'cls.predictions.decoder.weight', 'cls.predictions.transform.dense.weight', 'cls.predictions.transform.dense.bias']\n",
            "- This IS expected if you are initializing BertModel from the checkpoint of a model trained on another task or with another architecture (e.g. initializing a BertForSequenceClassification model from a BertForPreTraining model).\n",
            "- This IS NOT expected if you are initializing BertModel from the checkpoint of a model that you expect to be exactly identical (initializing a BertForSequenceClassification model from a BertForSequenceClassification model).\n"
          ]
        }
      ]
    },
    {
      "cell_type": "code",
      "source": [
        "train_losses = []\n",
        "train_accs = []\n",
        "val_losses = []\n",
        "val_accs = []\n",
        "\n",
        "num_epochs = 5\n",
        "for epoch in range(num_epochs):\n",
        "    train_loss, train_acc = train(model, train_dataloader, optimizer, criterion)\n",
        "    val_loss, val_acc = evaluate(model, val_dataloader, criterion)\n",
        "    train_losses.append(train_loss)\n",
        "    train_accs.append(train_acc)\n",
        "    val_losses.append(val_loss)\n",
        "    val_accs.append(val_acc)\n",
        "    print(f'Epoch {epoch+1}/{num_epochs} - Training Loss: {train_loss:.4f} - Training Accuracy: {train_acc:.4f} - Validation Loss: {val_loss:.4f} - Validation Accuracy: {val_acc:.4f}')\n"
      ],
      "metadata": {
        "colab": {
          "base_uri": "https://localhost:8080/"
        },
        "id": "_pWUxwRqRGYX",
        "outputId": "75478c38-5096-47ae-e1e3-773f7f317b77"
      },
      "execution_count": 20,
      "outputs": [
        {
          "output_type": "stream",
          "name": "stdout",
          "text": [
            "Epoch 1/5 - Training Loss: 0.5396 - Training Accuracy: 0.7287 - Validation Loss: 0.4299 - Validation Accuracy: 0.8134\n",
            "Epoch 2/5 - Training Loss: 0.3678 - Training Accuracy: 0.8421 - Validation Loss: 0.4160 - Validation Accuracy: 0.8160\n",
            "Epoch 3/5 - Training Loss: 0.2214 - Training Accuracy: 0.9178 - Validation Loss: 0.5107 - Validation Accuracy: 0.8079\n",
            "Epoch 4/5 - Training Loss: 0.1318 - Training Accuracy: 0.9531 - Validation Loss: 0.6085 - Validation Accuracy: 0.8171\n",
            "Epoch 5/5 - Training Loss: 0.0882 - Training Accuracy: 0.9723 - Validation Loss: 0.5881 - Validation Accuracy: 0.8144\n"
          ]
        }
      ]
    },
    {
      "cell_type": "code",
      "source": [
        "data = {\n",
        "    'Epoch': range(1, num_epochs+1),\n",
        "    'Training Loss': train_losses,\n",
        "    'Training Accuracy': train_accs,\n",
        "    'Validation Loss': val_losses,\n",
        "    'Validation Accuracy': val_accs\n",
        "}\n",
        "\n",
        "trends = pd.DataFrame(data)\n",
        "\n",
        "trends = trends.melt(id_vars=['Epoch'], var_name='Metric', value_name='Value')\n",
        "\n",
        "# Create a facet grid with subplots for each metric\n",
        "g = sns.FacetGrid(trends, col='Metric', hue='Metric', col_wrap=2, sharey=False)\n",
        "g.map(sns.lineplot, 'Epoch', 'Value')\n",
        "\n",
        "# Set the axis labels and legend\n",
        "g.set_axis_labels('Epoch', 'Value')\n",
        "g.add_legend()\n",
        "\n",
        "# Show the plot\n",
        "plt.show()"
      ],
      "metadata": {
        "colab": {
          "base_uri": "https://localhost:8080/",
          "height": 441
        },
        "id": "aNkaWzzVRruT",
        "outputId": "3f587919-2015-4476-cf64-8023b77b9df7"
      },
      "execution_count": 21,
      "outputs": [
        {
          "output_type": "display_data",
          "data": {
            "text/plain": [
              "<Figure size 566.5x432 with 4 Axes>"
            ],
            "image/png": "[encoded data removed]"
          },
          "metadata": {
            "needs_background": "light"
          }
        }
      ]
    },
    {
      "cell_type": "code",
      "source": [
        "torch.save(model.state_dict(), ROOT / \"unibs-binary-nofreeze-pooled.pth\")"
      ],
      "metadata": {
        "id": "yDnvYgHrR_9T"
      },
      "execution_count": 22,
      "outputs": []
    },
    {
      "cell_type": "code",
      "source": [
        "bert_classification = BertForSentimentAnalysis()\n",
        "bert_classification.load_state_dict(torch.load(ROOT / \"unibs-binary-nofreeze-pooled.pth\"))"
      ],
      "metadata": {
        "colab": {
          "base_uri": "https://localhost:8080/"
        },
        "id": "fs55gX8-SGS8",
        "outputId": "2f4cfbf7-c077-43f5-809c-126d7c6bce8e"
      },
      "execution_count": 23,
      "outputs": [
        {
          "output_type": "stream",
          "name": "stderr",
          "text": [
            "Some weights of the model checkpoint at bert-base-uncased were not used when initializing BertModel: ['cls.seq_relationship.bias', 'cls.seq_relationship.weight', 'cls.predictions.bias', 'cls.predictions.transform.LayerNorm.weight', 'cls.predictions.transform.LayerNorm.bias', 'cls.predictions.decoder.weight', 'cls.predictions.transform.dense.weight', 'cls.predictions.transform.dense.bias']\n",
            "- This IS expected if you are initializing BertModel from the checkpoint of a model trained on another task or with another architecture (e.g. initializing a BertForSequenceClassification model from a BertForPreTraining model).\n",
            "- This IS NOT expected if you are initializing BertModel from the checkpoint of a model that you expect to be exactly identical (initializing a BertForSequenceClassification model from a BertForSequenceClassification model).\n"
          ]
        },
        {
          "output_type": "execute_result",
          "data": {
            "text/plain": [
              "<All keys matched successfully>"
            ]
          },
          "metadata": {},
          "execution_count": 23
        }
      ]
    },
    {
      "cell_type": "code",
      "source": [
        "bert_classification.to(device)"
      ],
      "metadata": {
        "id": "whgksm89YWlE"
      },
      "execution_count": null,
      "outputs": []
    },
    {
      "cell_type": "code",
      "source": [
        "def predict(model, val_dataloader):\n",
        "    \"\"\"After the completion of each training epoch, measure the model's performance\n",
        "    on our validation set.\n",
        "    \"\"\"\n",
        "    # Put the model into the evaluation mode. The dropout layers are disabled during\n",
        "    # the test time.\n",
        "    model.eval()\n",
        "    predictions=[]\n",
        "    # Tracking variables\n",
        "    # For each batch in our validation set...\n",
        "    for batch in val_dataloader:\n",
        "        # Load batch to GPU\n",
        "        b_input_ids, b_attn_mask, b_labels = tuple(t.to(device) for t in batch)\n",
        "\n",
        "        # Compute logits\n",
        "        with torch.no_grad():\n",
        "            logits = model(b_input_ids, b_attn_mask)\n",
        "\n",
        "        # Get the predictions\n",
        "        preds = torch.argmax(logits, dim=1).flatten()\n",
        "        predictions.append(int(preds.detach().cpu().numpy()))\n",
        "\n",
        "    return predictions"
      ],
      "metadata": {
        "id": "cZaz2rb3YxjR"
      },
      "execution_count": 25,
      "outputs": []
    },
    {
      "cell_type": "code",
      "source": [
        "predictions = predict(bert_classification, test_dataloader)\n",
        "print(classification_report(y_test, predictions))"
      ],
      "metadata": {
        "id": "W6G4qVR-Y4T1",
        "colab": {
          "base_uri": "https://localhost:8080/"
        },
        "outputId": "20890a59-69da-4956-ad07-93255baea9d3"
      },
      "execution_count": 26,
      "outputs": [
        {
          "output_type": "stream",
          "name": "stdout",
          "text": [
            "              precision    recall  f1-score   support\n",
            "\n",
            "           0       0.83      0.78      0.80      1155\n",
            "           1       0.79      0.84      0.81      1161\n",
            "\n",
            "    accuracy                           0.81      2316\n",
            "   macro avg       0.81      0.81      0.81      2316\n",
            "weighted avg       0.81      0.81      0.81      2316\n",
            "\n"
          ]
        }
      ]
    },
    {
      "cell_type": "markdown",
      "source": [
        "# REGRESSION"
      ],
      "metadata": {
        "id": "u7gaBzsfMO_P"
      }
    },
    {
      "cell_type": "code",
      "source": [
        "# REGRESSION TASK\n",
        "reviews_df = pd.read_csv(ROOT / \"regression_reviews.csv\")\n",
        "\n",
        "# First we need to rescale the values from [0,5] to [0,1]\n",
        "reviews_df['review_score'] = reviews_df['review_score'] / 5.0"
      ],
      "metadata": {
        "id": "MkwTr_YxLIkY"
      },
      "execution_count": 27,
      "outputs": []
    },
    {
      "cell_type": "code",
      "source": [
        "# Sample just a portion of the data\n",
        "# perc = 0.25\n",
        "# reviews_df = reviews_df.sample(frac=perc, random_state=RANDOM_STATE)\n",
        "\n",
        "X = reviews_df['review_content'].values\n",
        "y = reviews_df['review_score'].values\n",
        "\n",
        "X_train, X_test, y_train, y_test =\\\n",
        "    train_test_split(X, y, test_size=TEST_SIZE, random_state=RANDOM_STATE)\n",
        "\n",
        "X_train, X_val, y_train, y_val =\\\n",
        "    train_test_split(X_train, y_train, test_size=VALIDATION_SIZE, random_state=RANDOM_STATE)\n",
        "\n",
        "# Tokenize the input text\n",
        "\n",
        "max_len = 30\n",
        "\n",
        "# Run function `preprocessing_for_bert` on the train set, the validation set and the test set\n",
        "train_inputs, train_masks = preprocessing_for_bert(X_train, max_len)\n",
        "val_inputs, val_masks = preprocessing_for_bert(X_val, max_len)\n",
        "test_inputs, test_masks = preprocessing_for_bert(X_test, max_len)\n",
        "\n",
        "# Convert other data types to torch.Tensor\n",
        "train_labels = torch.tensor(y_train)\n",
        "val_labels = torch.tensor(y_val)\n",
        "test_labels = torch.tensor(y_test)\n",
        "\n",
        "# For fine-tuning BERT, it's recommended a batch size of 16 or 32.\n",
        "batch_size = 32\n",
        "\n",
        "# Create the DataLoader for our training set\n",
        "train_data = TensorDataset(train_inputs, train_masks, train_labels)\n",
        "train_sampler = RandomSampler(train_data)\n",
        "train_dataloader = DataLoader(train_data, sampler=train_sampler, batch_size=batch_size)\n",
        "\n",
        "# Create the DataLoader for our validation set\n",
        "val_data = TensorDataset(val_inputs, val_masks, val_labels)\n",
        "val_sampler = SequentialSampler(val_data)\n",
        "val_dataloader = DataLoader(val_data, sampler=val_sampler, batch_size=batch_size)\n",
        "\n",
        "# Create the DataLoader for our test set\n",
        "test_data = TensorDataset(test_inputs, test_masks, test_labels)\n",
        "test_sampler = SequentialSampler(test_data)\n",
        "test_dataloader = DataLoader(test_data, sampler=test_sampler, batch_size=1)"
      ],
      "metadata": {
        "colab": {
          "base_uri": "https://localhost:8080/"
        },
        "id": "HxCWOEWrTMw_",
        "outputId": "008677f7-afe0-4cd5-8c89-f47223c11af5"
      },
      "execution_count": 28,
      "outputs": [
        {
          "output_type": "stream",
          "name": "stderr",
          "text": [
            "/usr/local/lib/python3.8/dist-packages/transformers/tokenization_utils_base.py:2339: FutureWarning: The `pad_to_max_length` argument is deprecated and will be removed in a future version, use `padding=True` or `padding='longest'` to pad to the longest sequence in the batch, or use `padding='max_length'` to pad to a max length. In this case, you can give a specific length with `max_length` (e.g. `max_length=45`) or leave max_length to None to pad to the maximal input size of the model (e.g. 512 for Bert).\n",
            "  warnings.warn(\n"
          ]
        }
      ]
    },
    {
      "cell_type": "code",
      "source": [
        "class BertForSentimentRegression(nn.Module):\n",
        "    def __init__(self, freeze_bert=False):\n",
        "        \"\"\"\n",
        "        @param    bert: a BertModel object\n",
        "        @param    classifier: a torch.nn.Module classifier\n",
        "        @param    freeze_bert (bool): Set `False` to fine-tune the BERT model\n",
        "        \"\"\"\n",
        "        super(BertForSentimentRegression, self).__init__()\n",
        "        # Specify hidden size of BERT, hidden size of our classifier, and number of labels\n",
        "        \n",
        "        D_in, H, D_out = 768, 100, 1 #The hidden level can be changed to improve the performances!\n",
        "\n",
        "        # Instantiate BERT model\n",
        "        self.bert = BertModel.from_pretrained('bert-base-uncased')\n",
        "\n",
        "        # Instantiate an one-layer feed-forward classifier\n",
        "        self.regressor = nn.Sequential(\n",
        "            nn.Dropout(0.1), #Try to change the dropout value to improve the performances\n",
        "            nn.Linear(D_in, H),\n",
        "            nn.ReLU(),\n",
        "            nn.Linear(H, D_out)\n",
        "        )\n",
        "\n",
        "        self.double()\n",
        "\n",
        "        # Freeze the BERT model\n",
        "        if freeze_bert:\n",
        "            for param in self.bert.parameters():\n",
        "                param.requires_grad = False\n",
        "\n",
        "    def forward(self, input_ids, attention_mask):\n",
        "        \"\"\"\n",
        "        Feed input to BERT and the classifier to compute logits.\n",
        "        @param    input_ids (torch.Tensor): an input tensor with shape (batch_size,\n",
        "                      max_length)\n",
        "        @param    attention_mask (torch.Tensor): a tensor that hold attention mask\n",
        "                      information with shape (batch_size, max_length)\n",
        "        @return   logits (torch.Tensor): an output tensor with shape (batch_size,\n",
        "                      num_labels)\n",
        "        \"\"\"\n",
        "        # Feed input to BERT\n",
        "        outputs = self.bert(input_ids=input_ids,\n",
        "                            attention_mask=attention_mask)\n",
        "        \n",
        "        pooled_output = outputs.pooler_output\n",
        "        \n",
        "        # Extract the last hidden state of the token `[CLS]` for classification task\n",
        "        # last_hidden_state_cls = outputs[0][:, 0, :]\n",
        "\n",
        "        # Feed input to classifier to compute logits\n",
        "        regression_output = self.regressor(pooled_output)\n",
        "\n",
        "        return regression_output.squeeze(-1)"
      ],
      "metadata": {
        "id": "S6OfKezCVJry"
      },
      "execution_count": 29,
      "outputs": []
    },
    {
      "cell_type": "code",
      "source": [
        "def train(model, train_dataloader, optimizer, criterion, device):\n",
        "    model.train()\n",
        "    epoch_loss = 0\n",
        "    for i, batch in enumerate(train_dataloader):\n",
        "        input_ids, attention_mask, labels = tuple(t.to(device) for t in batch)\n",
        "        # input_ids = batch['input_ids'].to(device)\n",
        "        # attention_mask = batch['attention_mask'].to(device)\n",
        "        # labels = batch['label'].to(device)\n",
        "\n",
        "        optimizer.zero_grad()\n",
        "        outputs = model(input_ids, attention_mask=attention_mask)\n",
        "        loss = criterion(outputs, labels)\n",
        "        loss.backward()\n",
        "        optimizer.step()\n",
        "\n",
        "        epoch_loss += loss.item()\n",
        "\n",
        "    return epoch_loss / len(train_dataloader)\n",
        "\n",
        "\n",
        "def evaluate(model, val_dataloader, criterion, device):\n",
        "    model.eval()\n",
        "    epoch_loss = 0\n",
        "    with torch.no_grad():\n",
        "        for i, batch in enumerate(val_dataloader):\n",
        "            input_ids, attention_mask, labels = tuple(t.to(device) for t in batch)\n",
        "\n",
        "            outputs = model(input_ids, attention_mask=attention_mask)\n",
        "            loss = criterion(outputs, labels)\n",
        "\n",
        "            epoch_loss += loss.item()\n",
        "\n",
        "    return epoch_loss / len(val_dataloader)\n"
      ],
      "metadata": {
        "id": "ujqUxWa6XGtE"
      },
      "execution_count": 30,
      "outputs": []
    },
    {
      "cell_type": "code",
      "source": [
        "model = BertForSentimentRegression(freeze_bert=False)\n",
        "model.to(device)\n",
        "\n",
        "optimizer = torch.optim.Adam(model.parameters(), lr=2e-5)\n",
        "criterion = nn.MSELoss()"
      ],
      "metadata": {
        "colab": {
          "base_uri": "https://localhost:8080/"
        },
        "id": "ViW84Q5CmFTs",
        "outputId": "7aba4538-09d5-4d77-aa5d-8209d7a28930"
      },
      "execution_count": 31,
      "outputs": [
        {
          "output_type": "stream",
          "name": "stderr",
          "text": [
            "Some weights of the model checkpoint at bert-base-uncased were not used when initializing BertModel: ['cls.seq_relationship.bias', 'cls.seq_relationship.weight', 'cls.predictions.bias', 'cls.predictions.transform.LayerNorm.weight', 'cls.predictions.transform.LayerNorm.bias', 'cls.predictions.decoder.weight', 'cls.predictions.transform.dense.weight', 'cls.predictions.transform.dense.bias']\n",
            "- This IS expected if you are initializing BertModel from the checkpoint of a model trained on another task or with another architecture (e.g. initializing a BertForSequenceClassification model from a BertForPreTraining model).\n",
            "- This IS NOT expected if you are initializing BertModel from the checkpoint of a model that you expect to be exactly identical (initializing a BertForSequenceClassification model from a BertForSequenceClassification model).\n"
          ]
        }
      ]
    },
    {
      "cell_type": "code",
      "source": [
        "train_losses = []\n",
        "val_losses = []\n",
        "\n",
        "num_epochs = 5\n",
        "\n",
        "for epoch in range(num_epochs):\n",
        "    train_loss = train(model, train_dataloader, optimizer, criterion, device)\n",
        "    train_losses.append(train_loss)\n",
        "    val_losses.append(train_loss)\n",
        "    val_loss = evaluate(model, val_dataloader, criterion, device)\n",
        "    print(f\"Epoch {epoch+1}. Train loss: {train_loss:.5f}. Validation loss: {val_loss:.5f}\")\n"
      ],
      "metadata": {
        "id": "cgQk9kOVXNNP",
        "colab": {
          "base_uri": "https://localhost:8080/"
        },
        "outputId": "5cfb03ce-3841-4a79-cd18-5b504b4b7bd6"
      },
      "execution_count": 32,
      "outputs": [
        {
          "output_type": "stream",
          "name": "stdout",
          "text": [
            "Epoch 1. Train loss: 0.08438. Validation loss: 0.05635\n",
            "Epoch 2. Train loss: 0.04752. Validation loss: 0.05511\n",
            "Epoch 3. Train loss: 0.03253. Validation loss: 0.05918\n",
            "Epoch 4. Train loss: 0.02208. Validation loss: 0.05604\n",
            "Epoch 5. Train loss: 0.01628. Validation loss: 0.05332\n"
          ]
        }
      ]
    },
    {
      "cell_type": "code",
      "source": [
        "torch.save(model.state_dict(), ROOT / \"unibs-regression-nofreeze-pooled.pth\")"
      ],
      "metadata": {
        "id": "TMXvGzGUXTTJ"
      },
      "execution_count": 33,
      "outputs": []
    },
    {
      "cell_type": "code",
      "source": [
        "bert_regression = BertForSentimentRegression()\n",
        "bert_regression.load_state_dict(torch.load(ROOT / \"unibs-regression-nofreeze-pooled.pth\"))"
      ],
      "metadata": {
        "id": "nf1pNevgYEGv",
        "colab": {
          "base_uri": "https://localhost:8080/"
        },
        "outputId": "d036cbfa-5838-498d-ef20-5c66d6f85cba"
      },
      "execution_count": 34,
      "outputs": [
        {
          "output_type": "stream",
          "name": "stderr",
          "text": [
            "Some weights of the model checkpoint at bert-base-uncased were not used when initializing BertModel: ['cls.seq_relationship.bias', 'cls.seq_relationship.weight', 'cls.predictions.bias', 'cls.predictions.transform.LayerNorm.weight', 'cls.predictions.transform.LayerNorm.bias', 'cls.predictions.decoder.weight', 'cls.predictions.transform.dense.weight', 'cls.predictions.transform.dense.bias']\n",
            "- This IS expected if you are initializing BertModel from the checkpoint of a model trained on another task or with another architecture (e.g. initializing a BertForSequenceClassification model from a BertForPreTraining model).\n",
            "- This IS NOT expected if you are initializing BertModel from the checkpoint of a model that you expect to be exactly identical (initializing a BertForSequenceClassification model from a BertForSequenceClassification model).\n"
          ]
        },
        {
          "output_type": "execute_result",
          "data": {
            "text/plain": [
              "<All keys matched successfully>"
            ]
          },
          "metadata": {},
          "execution_count": 34
        }
      ]
    },
    {
      "cell_type": "code",
      "source": [
        "bert_regression.to(device)"
      ],
      "metadata": {
        "id": "5EwBYhNvYclX"
      },
      "execution_count": null,
      "outputs": []
    },
    {
      "cell_type": "code",
      "source": [
        "def predict(model, test_dataloader):\n",
        "    model.eval()\n",
        "    predictions = []\n",
        "    with torch.no_grad():\n",
        "        for batch in test_dataloader:\n",
        "            input_ids, attention_mask, _ = tuple(t.to(device) for t in batch)\n",
        "\n",
        "            outputs = model(input_ids, attention_mask=attention_mask)\n",
        "            predictions.extend(outputs.tolist())\n",
        "\n",
        "    return predictions"
      ],
      "metadata": {
        "id": "abE-YW4cZHeL"
      },
      "execution_count": 36,
      "outputs": []
    },
    {
      "cell_type": "code",
      "source": [
        "predictions = predict(model, test_dataloader)\n",
        "targets = y_test\n",
        "\n",
        "mse = mean_squared_error(targets, predictions)\n",
        "rmse = mean_squared_error(targets, predictions, squared=False)\n",
        "mae = mean_absolute_error(targets, predictions)\n",
        "r2 = r2_score(targets, predictions)\n",
        "\n",
        "print(f\"MSE: {mse:.5f}\")\n",
        "print(f\"RMSE: {rmse:.5f}\")\n",
        "print(f\"MAE: {mae:.5f}\")\n",
        "print(f\"R2: {r2:.5f}\")"
      ],
      "metadata": {
        "id": "08qdU-OzZJKe",
        "colab": {
          "base_uri": "https://localhost:8080/"
        },
        "outputId": "859955c9-b55d-4c19-c554-c5334234a851"
      },
      "execution_count": 37,
      "outputs": [
        {
          "output_type": "stream",
          "name": "stdout",
          "text": [
            "MSE: 0.05843\n",
            "RMSE: 0.24173\n",
            "MAE: 0.18152\n",
            "R2: 0.42351\n"
          ]
        }
      ]
    },
    {
      "cell_type": "code",
      "source": [
        "# ============================================== #\n",
        "# =============== Manual Testing =============== #\n",
        "# ============================================== #"
      ],
      "metadata": {
        "id": "T98mfQlYZT5g"
      },
      "execution_count": 38,
      "outputs": []
    },
    {
      "cell_type": "code",
      "source": [
        "bert_classification = BertForSentimentAnalysis()\n",
        "bert_classification.load_state_dict(torch.load(ROOT / \"unibs-binary-nofreeze-pooled.pth\"))\n",
        "\n",
        "bert_regression = BertForSentimentRegression()\n",
        "bert_regression.load_state_dict(torch.load(ROOT / \"unibs-regression-nofreeze-pooled.pth\"))"
      ],
      "metadata": {
        "id": "0HTf2s42ZU5p",
        "colab": {
          "base_uri": "https://localhost:8080/"
        },
        "outputId": "95f824e3-9061-4f84-f125-0e6f55bcb88d"
      },
      "execution_count": 39,
      "outputs": [
        {
          "output_type": "stream",
          "name": "stderr",
          "text": [
            "Some weights of the model checkpoint at bert-base-uncased were not used when initializing BertModel: ['cls.seq_relationship.bias', 'cls.seq_relationship.weight', 'cls.predictions.bias', 'cls.predictions.transform.LayerNorm.weight', 'cls.predictions.transform.LayerNorm.bias', 'cls.predictions.decoder.weight', 'cls.predictions.transform.dense.weight', 'cls.predictions.transform.dense.bias']\n",
            "- This IS expected if you are initializing BertModel from the checkpoint of a model trained on another task or with another architecture (e.g. initializing a BertForSequenceClassification model from a BertForPreTraining model).\n",
            "- This IS NOT expected if you are initializing BertModel from the checkpoint of a model that you expect to be exactly identical (initializing a BertForSequenceClassification model from a BertForSequenceClassification model).\n",
            "Some weights of the model checkpoint at bert-base-uncased were not used when initializing BertModel: ['cls.seq_relationship.bias', 'cls.seq_relationship.weight', 'cls.predictions.bias', 'cls.predictions.transform.LayerNorm.weight', 'cls.predictions.transform.LayerNorm.bias', 'cls.predictions.decoder.weight', 'cls.predictions.transform.dense.weight', 'cls.predictions.transform.dense.bias']\n",
            "- This IS expected if you are initializing BertModel from the checkpoint of a model trained on another task or with another architecture (e.g. initializing a BertForSequenceClassification model from a BertForPreTraining model).\n",
            "- This IS NOT expected if you are initializing BertModel from the checkpoint of a model that you expect to be exactly identical (initializing a BertForSequenceClassification model from a BertForSequenceClassification model).\n"
          ]
        },
        {
          "output_type": "execute_result",
          "data": {
            "text/plain": [
              "<All keys matched successfully>"
            ]
          },
          "metadata": {},
          "execution_count": 39
        }
      ]
    },
    {
      "cell_type": "code",
      "source": [
        "nltk.download(\"punkt\")\n",
        "nltk.download(\"wordnet\")\n",
        "nltk.download(\"stopwords\")\n",
        "nltk.download(\"omw-1.4\")"
      ],
      "metadata": {
        "id": "V_HgflkqZlt_",
        "colab": {
          "base_uri": "https://localhost:8080/"
        },
        "outputId": "23ef086f-351c-4006-a37d-00460f5a3d23"
      },
      "execution_count": 40,
      "outputs": [
        {
          "output_type": "stream",
          "name": "stderr",
          "text": [
            "[nltk_data] Downloading package punkt to /root/nltk_data...\n",
            "[nltk_data]   Unzipping tokenizers/punkt.zip.\n",
            "[nltk_data] Downloading package wordnet to /root/nltk_data...\n",
            "[nltk_data] Downloading package stopwords to /root/nltk_data...\n",
            "[nltk_data]   Unzipping corpora/stopwords.zip.\n",
            "[nltk_data] Downloading package omw-1.4 to /root/nltk_data...\n"
          ]
        },
        {
          "output_type": "execute_result",
          "data": {
            "text/plain": [
              "True"
            ]
          },
          "metadata": {},
          "execution_count": 40
        }
      ]
    },
    {
      "cell_type": "code",
      "source": [
        "def preprocess_text(text):\n",
        "    # Removing numerical data or irrelevant characters\n",
        "    text = re.sub(r\"[^a-zA-Z\\s]\", \"\", text)\n",
        "    # Tokenization\n",
        "    tokens = nltk.word_tokenize(text)\n",
        "    # Lowercasing\n",
        "    tokens = [token.lower() for token in tokens]\n",
        "    # Removing stopwords\n",
        "    tokens = [token for token in tokens if token not in stopwords.words(\"english\")]\n",
        "    # Lemmatization\n",
        "    lemmatizer = WordNetLemmatizer()\n",
        "    tokens = [lemmatizer.lemmatize(token) for token in tokens]\n",
        "    # Joining the tokens back to a string\n",
        "    text = \" \".join(tokens)\n",
        "    return text"
      ],
      "metadata": {
        "id": "1cysVZkGZk1X"
      },
      "execution_count": 41,
      "outputs": []
    },
    {
      "cell_type": "code",
      "source": [
        "def custom_classification_test(model, text):\n",
        "    inputs = tokenizer(text, return_tensors='pt')\n",
        "    outputs = model(inputs['input_ids'], inputs['attention_mask'])\n",
        "    predicted_class = torch.argmax(outputs[0])\n",
        "    return 'Fresh' if predicted_class == 1 else 'Rotten'"
      ],
      "metadata": {
        "id": "gaSQhu22Zv_e"
      },
      "execution_count": 42,
      "outputs": []
    },
    {
      "cell_type": "code",
      "source": [
        "def custom_regression_test(model, text):\n",
        "    input = tokenizer(text, return_tensors='pt')\n",
        "    output = model(input['input_ids'], input['attention_mask'])\n",
        "    return output.item() * 5.0"
      ],
      "metadata": {
        "id": "M0wEa4zeZwu6"
      },
      "execution_count": 43,
      "outputs": []
    },
    {
      "cell_type": "code",
      "source": [
        "reviews = pd.read_csv(ROOT / \"clean_reviews.csv\")\n",
        "reviews = reviews.sample(50, random_state=RANDOM_STATE+1)\n",
        "\n",
        "for r in reviews.iterrows():\n",
        "    _, r = r\n",
        "    review_type, review_score, review_content = r\n",
        "    # print(r)eview_type, review_score, review_content = r\n",
        "    print('REVIEW:')\n",
        "    print(review_content)\n",
        "\n",
        "    text = preprocess_text(review_content)\n",
        "\n",
        "    print('True type:', 'Rotten' if review_type == 0 else 'Fresh')\n",
        "    print('Predicted type:', custom_classification_test(bert_classification, text))\n",
        "\n",
        "    print('True score:', review_score)\n",
        "    print('Predicted score:', custom_regression_test(bert_regression, text))\n"
      ],
      "metadata": {
        "id": "Z2BQHsnJZ1E9",
        "colab": {
          "base_uri": "https://localhost:8080/"
        },
        "outputId": "3f4e75bf-926a-47a6-99cf-52fad8db9deb"
      },
      "execution_count": 44,
      "outputs": [
        {
          "output_type": "stream",
          "name": "stdout",
          "text": [
            "REVIEW:\n",
            "Aimless, sloppy, low-budget garbage that will prove especially painful to endure for long-time Kevin Smith fans. Where did all that zeitgeist savvy go?\n",
            "True type: Rotten\n",
            "Predicted type: Rotten\n",
            "True score: 0.5\n",
            "Predicted score: 0.7563454390599058\n",
            "REVIEW:\n",
            "[Washington] has a terrific cast at his disposal.\n",
            "True type: Fresh\n",
            "Predicted type: Fresh\n",
            "True score: 3.0\n",
            "Predicted score: 3.2764272219320056\n",
            "REVIEW:\n",
            "My Cousin Rachel belongs to Weisz, in a role that capitalises on her gift for showing multiple layers of emotion.\n",
            "True type: Fresh\n",
            "Predicted type: Fresh\n",
            "True score: 3.0\n",
            "Predicted score: 3.2818575735365316\n",
            "REVIEW:\n",
            "Some of the phallic jokes work, others are really lame. Fortunately there are many other funny bits that have nothing to do with body parts that keep the laughs coming.\n",
            "True type: Fresh\n",
            "Predicted type: Fresh\n",
            "True score: 3.0\n",
            "Predicted score: 1.36877654277474\n",
            "REVIEW:\n",
            "I think it was after Betty White told Steve Martin's son not to \"wear his hair like a ***\" that I thought about walking out.\n",
            "True type: Rotten\n",
            "Predicted type: Rotten\n",
            "True score: 0.0\n",
            "Predicted score: 1.0158109183863155\n",
            "REVIEW:\n",
            "Apart from some genuine archetypes and myths that find their way into the mix, the film's overflow of half-baked ideas adds up to a cluttered, nondescript, \"Weapon Number XI\"-like mess.\n",
            "True type: Rotten\n",
            "Predicted type: Rotten\n",
            "True score: 2.5\n",
            "Predicted score: 2.5393875005592803\n",
            "REVIEW:\n",
            "Galaxy Quest works not just as a parody or a send-up of a type of film. It works as a basic space adventure as well.\n",
            "True type: Fresh\n",
            "Predicted type: Fresh\n",
            "True score: 4.0\n",
            "Predicted score: 3.2013961484174636\n",
            "REVIEW:\n",
            "Not a lot to recommend this sequel.\n",
            "True type: Rotten\n",
            "Predicted type: Rotten\n",
            "True score: 2.0\n",
            "Predicted score: 2.7214084076033367\n",
            "REVIEW:\n",
            "Sciamma's work joins a select group of texts that brilliantly thematise the power of the image - either through painting, drawing or photography.\n",
            "True type: Fresh\n",
            "Predicted type: Fresh\n",
            "True score: 4.0\n",
            "Predicted score: 4.644018799439622\n",
            "REVIEW:\n",
            "Flanagan and Rose prove to be an exceptionally creative and intelligent couple who were able to turn their obsessions into art, albeit of a highly specialized kind and involving at times an overwhelmingly brutal exhibitionism.\n",
            "True type: Fresh\n",
            "Predicted type: Fresh\n",
            "True score: 4.0\n",
            "Predicted score: 3.7080021839296444\n",
            "REVIEW:\n",
            "Director Robert Luketic [does] nothing beyond his contractual obligations (which presumably read, \"Um, make a movie, I guess\").\n",
            "True type: Rotten\n",
            "Predicted type: Rotten\n",
            "True score: 1.5\n",
            "Predicted score: 1.112118326564219\n",
            "REVIEW:\n",
            "Very enjoyable, underrated western.\n",
            "True type: Fresh\n",
            "Predicted type: Fresh\n",
            "True score: 4.0\n",
            "Predicted score: 4.016642090639328\n",
            "REVIEW:\n",
            "If you want to watch a children's film based on a biblical story, I'm sorry to say that was made 20 years go with a movie called \"The Prince of Egypt.\"\n",
            "True type: Rotten\n",
            "Predicted type: Rotten\n",
            "True score: 1.0\n",
            "Predicted score: 1.0698449473911444\n",
            "REVIEW:\n",
            "A valuable though flawed documentary about the international movement to free Tibet from Chinese rule ...\n",
            "True type: Fresh\n",
            "Predicted type: Fresh\n",
            "True score: 3.0\n",
            "Predicted score: 3.7661996858418156\n",
            "REVIEW:\n",
            "Unavoidable classic on a 1950 mine strike, made by McCarthy era blacklisted filmmakers.\n",
            "True type: Fresh\n",
            "Predicted type: Rotten\n",
            "True score: 5.0\n",
            "Predicted score: 4.935570415444106\n",
            "REVIEW:\n",
            "I haven't gleefully laughed this hard at a dark comedy in a very long time. It's vicious and nasty in the best way.\n",
            "True type: Fresh\n",
            "Predicted type: Rotten\n",
            "True score: 4.0\n",
            "Predicted score: 1.6154947706605052\n",
            "REVIEW:\n",
            "If it's conventional horror scares you're after, you're much better off with Annabelle: Creation, which is a prequel to both Annabelle and The Conjuring and gets a truly impressive amount of creepiness out of the origins of that scary old doll.\n",
            "True type: Fresh\n",
            "Predicted type: Rotten\n",
            "True score: 4.0\n",
            "Predicted score: 4.100446209003331\n",
            "REVIEW:\n",
            "Boasting more posthumous recordings than Tupac, Jigsaw should have spent time devising clever new traps instead of buying Radio Shack's entire inventory of tape recorders.\n",
            "True type: Rotten\n",
            "Predicted type: Rotten\n",
            "True score: 0.0\n",
            "Predicted score: 1.0912821420344954\n",
            "REVIEW:\n",
            "Offers a lesson for both parties about what can happen when powerful forces unite to bring down a politician.\n",
            "True type: Fresh\n",
            "Predicted type: Fresh\n",
            "True score: 3.5\n",
            "Predicted score: 3.996402490462314\n",
            "REVIEW:\n",
            "As a production project it was, apparently, stuck in \"development hell\" for more than a decade. Sometimes projects are stuck in development hell for a reason.\n",
            "True type: Rotten\n",
            "Predicted type: Rotten\n",
            "True score: 1.0\n",
            "Predicted score: 0.901519236983726\n",
            "REVIEW:\n",
            "You wouldn't want to give any of these people the time of day in real life. They are blah or worse, and they are headed for some violent confrontations that seem pointless because they are so unworthy of our attention in the first place.\n",
            "True type: Rotten\n",
            "Predicted type: Rotten\n",
            "True score: 0.5\n",
            "Predicted score: 0.37148244618371506\n",
            "REVIEW:\n",
            "Brosnan has a good time hamming it up as a heartless assassin, but why Jovovich is forced to spend the whole film darting around with black smudges on her face is a mystery.\n",
            "True type: Rotten\n",
            "Predicted type: Rotten\n",
            "True score: 1.5\n",
            "Predicted score: 1.6270916972030949\n",
            "REVIEW:\n",
            "Imagine a Rambo remake directed by Fahrenheit 9/11's Michael Moore while high on crystal meth.\n",
            "True type: Rotten\n",
            "Predicted type: Rotten\n",
            "True score: 1.0\n",
            "Predicted score: 0.9550673636781823\n",
            "REVIEW:\n",
            "How long can a numbskull comedy about primitive dudes sustain itself before the laughs run dry? Year One has the answer: about ten minutes.\n",
            "True type: Rotten\n",
            "Predicted type: Rotten\n",
            "True score: 2.0\n",
            "Predicted score: 2.383387681155379\n",
            "REVIEW:\n",
            "A Carter Burwell score nicely wraps around this slowly charming telling.\n",
            "True type: Fresh\n",
            "Predicted type: Fresh\n",
            "True score: 3.5\n",
            "Predicted score: 2.813649137651212\n",
            "REVIEW:\n",
            "Dogtooth is one of the funniest films of the past 12 months, an unforgettable social-satire, a devious little test of endurance for brave movie-lovers and the best argument against home-schooling since The Jonas Brothers.\n",
            "True type: Fresh\n",
            "Predicted type: Fresh\n",
            "True score: 5.0\n",
            "Predicted score: 4.8022962989609415\n",
            "REVIEW:\n",
            "A sweeping, lovingly detailed epic of sorts that benefits from its unique setting and Latin-American soundtrack.\n",
            "True type: Fresh\n",
            "Predicted type: Fresh\n",
            "True score: 4.0\n",
            "Predicted score: 4.666231312093359\n",
            "REVIEW:\n",
            "Suggests unintentional self-parody from the get-go.\n",
            "True type: Rotten\n",
            "Predicted type: Rotten\n",
            "True score: 0.5\n",
            "Predicted score: 0.9481027030022561\n",
            "REVIEW:\n",
            "An astonishing story, told with grace\n",
            "True type: Fresh\n",
            "Predicted type: Fresh\n",
            "True score: 5.0\n",
            "Predicted score: 4.921456243846404\n",
            "REVIEW:\n",
            "It is a great character study that ranks with Paul Thomas Anderson's epic Magnolia.\n",
            "True type: Fresh\n",
            "Predicted type: Fresh\n",
            "True score: 3.5\n",
            "Predicted score: 4.098745045842751\n",
            "REVIEW:\n",
            "Full of nightmarish imagery and emotional terror, 'Hereditary' has the makings of a horror classic. There is true evil lurking inside this film.\n",
            "True type: Fresh\n",
            "Predicted type: Fresh\n",
            "True score: 4.5\n",
            "Predicted score: 5.087732173560897\n",
            "REVIEW:\n",
            "If all you're here to see is some good a cappella performance and one last farewell from the characters you love, Pitch Perfect 3 is merely adequate.\n",
            "True type: Rotten\n",
            "Predicted type: Rotten\n",
            "True score: 2.5\n",
            "Predicted score: 3.001102126050512\n",
            "REVIEW:\n",
            "Pickpocket is a film that puts the characters directly into a frame of judgment and asks the viewer if they would really try to understand the character's side of the story.\n",
            "True type: Fresh\n",
            "Predicted type: Fresh\n",
            "True score: 5.0\n",
            "Predicted score: 4.3494575519276415\n",
            "REVIEW:\n",
            "A rewarding watch and an inspirational, informative history lesson which begins more strongly than it ends.\n",
            "True type: Fresh\n",
            "Predicted type: Fresh\n",
            "True score: 3.0\n",
            "Predicted score: 3.89780356017065\n",
            "REVIEW:\n",
            "This is the kind of movie that prompted Michael Haneke to make Funny Games twice, and while I loathed that moralistic scold of a film, Last House almost made me concede Haneke's point.\n",
            "True type: Rotten\n",
            "Predicted type: Rotten\n",
            "True score: 1.0\n",
            "Predicted score: 1.332528082914257\n",
            "REVIEW:\n",
            "Shazam! is a fun, exciting, and delightfully-amusing superhero flick that boasts a great sense of humor and a strong performance from star Zachary Levi.\n",
            "True type: Fresh\n",
            "Predicted type: Fresh\n",
            "True score: 3.5\n",
            "Predicted score: 3.8976879659012917\n",
            "REVIEW:\n",
            "A film which says little of consequence beyond fictionalizing its target; only Bisset's Lady Macbeth-like presence hits an appropriately hysterical note for this tabloid-trashy film which quickly chokes on its pretensions.\n",
            "True type: Rotten\n",
            "Predicted type: Rotten\n",
            "True score: 2.0\n",
            "Predicted score: 2.800048588595654\n",
            "REVIEW:\n",
            "As if in imitation of the ruthless Mexican drug cartel its heroes go after, director Stefano Sollima's sequel decapitates, disembowels, and castrates Denis Villeneuve's beautiful, tough, and sad 2015 original.\n",
            "True type: Rotten\n",
            "Predicted type: Fresh\n",
            "True score: 0.0\n",
            "Predicted score: 1.1406304870541053\n",
            "REVIEW:\n",
            "A deliriously pretentious and utterly dreadful movie, Suspiria amounts to an unnecessary reworking of the cult 1977 Italian horror freak-out of the same name.\n",
            "True type: Rotten\n",
            "Predicted type: Rotten\n",
            "True score: 1.0\n",
            "Predicted score: 0.4576617868688296\n",
            "REVIEW:\n",
            "Written with a poet's ear and directed with an artist's eye ...\n",
            "True type: Fresh\n",
            "Predicted type: Fresh\n",
            "True score: 4.0\n",
            "Predicted score: 4.375333602401329\n",
            "REVIEW:\n",
            "This movie's 90-minute run time definitely feels like too long of a sentence.\n",
            "True type: Rotten\n",
            "Predicted type: Rotten\n",
            "True score: 1.5\n",
            "Predicted score: 2.4892981631473825\n",
            "REVIEW:\n",
            "Suicide Squad had such potential but a lazy plot with holes the size of basketballs ruined all of that. Great actors were put to waste in this movie that made no sense.\n",
            "True type: Rotten\n",
            "Predicted type: Rotten\n",
            "True score: 1.5\n",
            "Predicted score: 1.0815910618136315\n",
            "REVIEW:\n",
            "I don't see how anybody could find anything to like about this movie.\n",
            "True type: Rotten\n",
            "Predicted type: Rotten\n",
            "True score: 1.0\n",
            "Predicted score: 1.2386966584568624\n",
            "REVIEW:\n",
            "The biggest problem with Breaking In is that you can see a fairly clear path to a much better movie. What could have been a fun upending of expectations turned into a rote checklist of those very same expectations.\n",
            "True type: Rotten\n",
            "Predicted type: Rotten\n",
            "True score: 1.5\n",
            "Predicted score: 1.8106694830470085\n",
            "REVIEW:\n",
            "Nothing much of any import or interest happens to get us to the end we predicted within the first two minutes, so if for some masochistic reason you do let your kid drag you to this, this would be a good time to catch a nap.\n",
            "True type: Rotten\n",
            "Predicted type: Fresh\n",
            "True score: 0.0\n",
            "Predicted score: 0.5860658221954131\n",
            "REVIEW:\n",
            "Mild but talky look at Churchill's early days in power.\n",
            "True type: Fresh\n",
            "Predicted type: Fresh\n",
            "True score: 3.0\n",
            "Predicted score: 3.1422377426121537\n",
            "REVIEW:\n",
            "Featuring strong performances, whip-smart dialogue, competent execution, and some of the most gruesome horror to ever come from north of the border, Becky is a pleasant little surprise.\n",
            "True type: Fresh\n",
            "Predicted type: Fresh\n",
            "True score: 4.0\n",
            "Predicted score: 3.8934917903089694\n",
            "REVIEW:\n",
            "It's hard not to feel you've just watched a feature-length video game with some really heavy back story.\n",
            "True type: Rotten\n",
            "Predicted type: Rotten\n",
            "True score: 2.0\n",
            "Predicted score: 1.7704229753860692\n",
            "REVIEW:\n",
            "Honestly, this awful little movie should have stayed in the closet.\n",
            "True type: Rotten\n",
            "Predicted type: Rotten\n",
            "True score: 0.0\n",
            "Predicted score: 0.8131851482027662\n",
            "REVIEW:\n",
            "Luce feels theatrical in the wrong way: muddled and contrived.\n",
            "True type: Rotten\n",
            "Predicted type: Rotten\n",
            "True score: 2.0\n",
            "Predicted score: 1.6239589612957648\n"
          ]
        }
      ]
    }
  ]
}